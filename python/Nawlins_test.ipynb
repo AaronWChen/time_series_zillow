{
 "cells": [
  {
   "cell_type": "code",
   "execution_count": 1,
   "metadata": {},
   "outputs": [],
   "source": [
    "import pandas as pd\n",
    "import numpy as np\n",
    "import matplotlib.pyplot as plt\n",
    "import matplotlib.pylab as ply\n",
    "import matplotlib.cm as mplcm\n",
    "import matplotlib.colors as colors\n",
    "from sklearn.model_selection import TimeSeriesSplit\n",
    "from fbprophet import Prophet"
   ]
  },
  {
   "cell_type": "code",
   "execution_count": 2,
   "metadata": {},
   "outputs": [],
   "source": [
    "df = pd.read_csv(\"../write_data/70090.csv\")\n",
    "df['time'] = pd.to_datetime(df['time'])\n",
    "df_future = pd.read_csv(\"../write_data/70090_future.csv\")\n",
    "df_future['ds'] = pd.to_datetime(df_future['ds'])"
   ]
  },
  {
   "cell_type": "code",
   "execution_count": 3,
   "metadata": {},
   "outputs": [
    {
     "data": {
      "text/html": [
       "<div>\n",
       "<style scoped>\n",
       "    .dataframe tbody tr th:only-of-type {\n",
       "        vertical-align: middle;\n",
       "    }\n",
       "\n",
       "    .dataframe tbody tr th {\n",
       "        vertical-align: top;\n",
       "    }\n",
       "\n",
       "    .dataframe thead th {\n",
       "        text-align: right;\n",
       "    }\n",
       "</style>\n",
       "<table border=\"1\" class=\"dataframe\">\n",
       "  <thead>\n",
       "    <tr style=\"text-align: right;\">\n",
       "      <th></th>\n",
       "      <th>Unnamed: 0</th>\n",
       "      <th>RegionName</th>\n",
       "      <th>City</th>\n",
       "      <th>State</th>\n",
       "      <th>Metro</th>\n",
       "      <th>CountyName</th>\n",
       "      <th>time</th>\n",
       "      <th>value</th>\n",
       "      <th>ds</th>\n",
       "      <th>yhat_lower</th>\n",
       "      <th>yhat</th>\n",
       "      <th>yhat_upper</th>\n",
       "      <th>Zip_code</th>\n",
       "      <th>log_value</th>\n",
       "      <th>log_yhat</th>\n",
       "    </tr>\n",
       "  </thead>\n",
       "  <tbody>\n",
       "    <tr>\n",
       "      <td>0</td>\n",
       "      <td>0</td>\n",
       "      <td>70090</td>\n",
       "      <td>Vacherie</td>\n",
       "      <td>LA</td>\n",
       "      <td>New Orleans</td>\n",
       "      <td>Saint James</td>\n",
       "      <td>1996-04-01</td>\n",
       "      <td>NaN</td>\n",
       "      <td>1996-04-01</td>\n",
       "      <td>116006.140612</td>\n",
       "      <td>118655.655732</td>\n",
       "      <td>121321.524647</td>\n",
       "      <td>70090</td>\n",
       "      <td>NaN</td>\n",
       "      <td>11.683981</td>\n",
       "    </tr>\n",
       "    <tr>\n",
       "      <td>1</td>\n",
       "      <td>1</td>\n",
       "      <td>70090</td>\n",
       "      <td>Vacherie</td>\n",
       "      <td>LA</td>\n",
       "      <td>New Orleans</td>\n",
       "      <td>Saint James</td>\n",
       "      <td>1996-05-01</td>\n",
       "      <td>NaN</td>\n",
       "      <td>1996-05-01</td>\n",
       "      <td>115870.640756</td>\n",
       "      <td>118625.442070</td>\n",
       "      <td>121213.606472</td>\n",
       "      <td>70090</td>\n",
       "      <td>NaN</td>\n",
       "      <td>11.683726</td>\n",
       "    </tr>\n",
       "    <tr>\n",
       "      <td>2</td>\n",
       "      <td>2</td>\n",
       "      <td>70090</td>\n",
       "      <td>Vacherie</td>\n",
       "      <td>LA</td>\n",
       "      <td>New Orleans</td>\n",
       "      <td>Saint James</td>\n",
       "      <td>1996-06-01</td>\n",
       "      <td>NaN</td>\n",
       "      <td>1996-06-01</td>\n",
       "      <td>116829.456409</td>\n",
       "      <td>119395.497036</td>\n",
       "      <td>121938.048566</td>\n",
       "      <td>70090</td>\n",
       "      <td>NaN</td>\n",
       "      <td>11.690197</td>\n",
       "    </tr>\n",
       "    <tr>\n",
       "      <td>3</td>\n",
       "      <td>3</td>\n",
       "      <td>70090</td>\n",
       "      <td>Vacherie</td>\n",
       "      <td>LA</td>\n",
       "      <td>New Orleans</td>\n",
       "      <td>Saint James</td>\n",
       "      <td>1996-07-01</td>\n",
       "      <td>NaN</td>\n",
       "      <td>1996-07-01</td>\n",
       "      <td>117247.626657</td>\n",
       "      <td>119710.455656</td>\n",
       "      <td>122268.053840</td>\n",
       "      <td>70090</td>\n",
       "      <td>NaN</td>\n",
       "      <td>11.692831</td>\n",
       "    </tr>\n",
       "    <tr>\n",
       "      <td>4</td>\n",
       "      <td>4</td>\n",
       "      <td>70090</td>\n",
       "      <td>Vacherie</td>\n",
       "      <td>LA</td>\n",
       "      <td>New Orleans</td>\n",
       "      <td>Saint James</td>\n",
       "      <td>1996-08-01</td>\n",
       "      <td>NaN</td>\n",
       "      <td>1996-08-01</td>\n",
       "      <td>116409.687462</td>\n",
       "      <td>118898.861068</td>\n",
       "      <td>121427.983173</td>\n",
       "      <td>70090</td>\n",
       "      <td>NaN</td>\n",
       "      <td>11.686029</td>\n",
       "    </tr>\n",
       "  </tbody>\n",
       "</table>\n",
       "</div>"
      ],
      "text/plain": [
       "   Unnamed: 0  RegionName      City State        Metro   CountyName  \\\n",
       "0           0       70090  Vacherie    LA  New Orleans  Saint James   \n",
       "1           1       70090  Vacherie    LA  New Orleans  Saint James   \n",
       "2           2       70090  Vacherie    LA  New Orleans  Saint James   \n",
       "3           3       70090  Vacherie    LA  New Orleans  Saint James   \n",
       "4           4       70090  Vacherie    LA  New Orleans  Saint James   \n",
       "\n",
       "        time  value          ds     yhat_lower           yhat     yhat_upper  \\\n",
       "0 1996-04-01    NaN  1996-04-01  116006.140612  118655.655732  121321.524647   \n",
       "1 1996-05-01    NaN  1996-05-01  115870.640756  118625.442070  121213.606472   \n",
       "2 1996-06-01    NaN  1996-06-01  116829.456409  119395.497036  121938.048566   \n",
       "3 1996-07-01    NaN  1996-07-01  117247.626657  119710.455656  122268.053840   \n",
       "4 1996-08-01    NaN  1996-08-01  116409.687462  118898.861068  121427.983173   \n",
       "\n",
       "   Zip_code  log_value   log_yhat  \n",
       "0     70090        NaN  11.683981  \n",
       "1     70090        NaN  11.683726  \n",
       "2     70090        NaN  11.690197  \n",
       "3     70090        NaN  11.692831  \n",
       "4     70090        NaN  11.686029  "
      ]
     },
     "execution_count": 3,
     "metadata": {},
     "output_type": "execute_result"
    }
   ],
   "source": [
    "df.head()"
   ]
  },
  {
   "cell_type": "code",
   "execution_count": 4,
   "metadata": {},
   "outputs": [
    {
     "data": {
      "image/png": "[encoded data removed]",
      "text/plain": [
       "<Figure size 432x288 with 1 Axes>"
      ]
     },
     "metadata": {
      "needs_background": "light"
     },
     "output_type": "display_data"
    }
   ],
   "source": [
    "plt.plot(df['time'], df['value'], label='actual')\n",
    "plt.plot(df['time'], df['yhat'], label='fbprophet')\n",
    "plt.plot(df_future['ds'], df_future['yhat'], label='predict')\n",
    "plt.legend(loc='best')\n",
    "plt.show()"
   ]
  },
  {
   "cell_type": "code",
   "execution_count": 5,
   "metadata": {},
   "outputs": [
    {
     "data": {
      "image/png": "[encoded data removed]",
      "text/plain": [
       "<Figure size 432x288 with 1 Axes>"
      ]
     },
     "metadata": {
      "needs_background": "light"
     },
     "output_type": "display_data"
    }
   ],
   "source": [
    "plt.plot(df['time'], df['log_value'], label='actual')\n",
    "plt.plot(df['time'], df['log_yhat'], label='fbprophet')\n",
    "plt.plot(df_future['ds'], np.log(df_future['yhat']), label='predict')\n",
    "plt.legend(loc='best')\n",
    "plt.show()"
   ]
  },
  {
   "cell_type": "code",
   "execution_count": null,
   "metadata": {},
   "outputs": [],
   "source": []
  }
 ],
 "metadata": {
  "kernelspec": {
   "display_name": "Python 3 (mod04-project)",
   "language": "python",
   "name": "mod04-project"
  },
  "language_info": {
   "codemirror_mode": {
    "name": "ipython",
    "version": 3
   },
   "file_extension": ".py",
   "mimetype": "text/x-python",
   "name": "python",
   "nbconvert_exporter": "python",
   "pygments_lexer": "ipython3",
   "version": "3.7.4"
  }
 },
 "nbformat": 4,
 "nbformat_minor": 2
}
