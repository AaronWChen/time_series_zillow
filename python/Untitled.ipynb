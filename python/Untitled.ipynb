{
 "cells": [
  {
   "cell_type": "code",
   "execution_count": 31,
   "metadata": {},
   "outputs": [
    {
     "data": {
      "text/plain": [
       "['This', 'is', 'a', 'test']"
      ]
     },
     "execution_count": 31,
     "metadata": {},
     "output_type": "execute_result"
    }
   ],
   "source": [
    "test = \"This is a test\"\n",
    "\n",
    "str.split(test)"
   ]
  },
  {
   "cell_type": "code",
   "execution_count": 38,
   "metadata": {},
   "outputs": [],
   "source": [
    "def split_and_count(input_string):\n",
    "    strs = input_string.split()\n",
    "    \n",
    "    char_num = 0\n",
    "    num_num = 0\n",
    "    \n",
    "    for word in strs:\n",
    "        for letter in word:\n",
    "            try:\n",
    "                if int(letter):\n",
    "                    print(f\"integer! {letter}\")\n",
    "                    num_num += 1\n",
    "                else:\n",
    "                    continue\n",
    "            except:\n",
    "                char_num += 1\n",
    "            \n",
    "    \n",
    "    print(f\"Characters: {char_num}, Numbers: {num_num}\")"
   ]
  },
  {
   "cell_type": "code",
   "execution_count": 39,
   "metadata": {},
   "outputs": [
    {
     "name": "stdout",
     "output_type": "stream",
     "text": [
      "Characters: 11, Numbers: 0\n"
     ]
    }
   ],
   "source": [
    "split_and_count(test)"
   ]
  },
  {
   "cell_type": "code",
   "execution_count": 34,
   "metadata": {},
   "outputs": [],
   "source": [
    "test2 = \"There are 531 divisions in the 501st\""
   ]
  },
  {
   "cell_type": "code",
   "execution_count": 40,
   "metadata": {},
   "outputs": [
    {
     "name": "stdout",
     "output_type": "stream",
     "text": [
      "integer! 5\n",
      "integer! 3\n",
      "integer! 1\n",
      "integer! 5\n",
      "integer! 1\n",
      "Characters: 24, Numbers: 5\n"
     ]
    }
   ],
   "source": [
    "split_and_count(test2)"
   ]
  },
  {
   "cell_type": "code",
   "execution_count": 36,
   "metadata": {},
   "outputs": [],
   "source": [
    "def split_and_count2(input_string):\n",
    "    strs = input_string.split()\n",
    "    \n",
    "    char_num = 0\n",
    "    num_num = 0\n",
    "    \n",
    "    for word in strs:\n",
    "        try:\n",
    "            if int(word): \n",
    "                num_num += len(word)\n",
    "            else:\n",
    "                continue\n",
    "        except:\n",
    "            char_num += len(word)\n",
    "            \n",
    "    print(f\"Characters: {char_num}, Numbers: {num_num}\")"
   ]
  },
  {
   "cell_type": "code",
   "execution_count": 37,
   "metadata": {},
   "outputs": [
    {
     "name": "stdout",
     "output_type": "stream",
     "text": [
      "Characters: 27, Numbers: 3\n"
     ]
    }
   ],
   "source": [
    "split_and_count2(test2)"
   ]
  },
  {
   "cell_type": "code",
   "execution_count": null,
   "metadata": {},
   "outputs": [],
   "source": [
    "isdigit, isalpha"
   ]
  },
  {
   "cell_type": "code",
   "execution_count": 74,
   "metadata": {},
   "outputs": [],
   "source": [
    "def repeat_finder(list_of_els):\n",
    "    size = len(list_of_els)\n",
    "    repeats = []\n",
    "    \n",
    "    for i in range(size):\n",
    "        seek = list_of_els[i]\n",
    "        for j in range(i+1, size):\n",
    "            find = list_of_els[j]\n",
    "            if seek == find:\n",
    "                repeats.append(seek)\n",
    "            else:\n",
    "                continue\n",
    "                \n",
    "    #return repeats\n",
    "    return list(set(repeats))"
   ]
  },
  {
   "cell_type": "code",
   "execution_count": 75,
   "metadata": {},
   "outputs": [],
   "source": [
    "test1 = [1, 2, 4, 3, 5, 2]"
   ]
  },
  {
   "cell_type": "code",
   "execution_count": 76,
   "metadata": {},
   "outputs": [
    {
     "data": {
      "text/plain": [
       "[2]"
      ]
     },
     "execution_count": 76,
     "metadata": {},
     "output_type": "execute_result"
    }
   ],
   "source": [
    "repeat_finder(test1)"
   ]
  },
  {
   "cell_type": "code",
   "execution_count": 77,
   "metadata": {},
   "outputs": [],
   "source": [
    "test2 = [1, 2, 4, 3, 5, 2, 3, 5, 5]"
   ]
  },
  {
   "cell_type": "code",
   "execution_count": 78,
   "metadata": {},
   "outputs": [
    {
     "data": {
      "text/plain": [
       "[2, 3, 5]"
      ]
     },
     "execution_count": 78,
     "metadata": {},
     "output_type": "execute_result"
    }
   ],
   "source": [
    "repeat_finder(test2)"
   ]
  },
  {
   "cell_type": "code",
   "execution_count": null,
   "metadata": {},
   "outputs": [],
   "source": []
  }
 ],
 "metadata": {
  "kernelspec": {
   "display_name": "Python 3 (mod04-project)",
   "language": "python",
   "name": "mod04-project"
  },
  "language_info": {
   "codemirror_mode": {
    "name": "ipython",
    "version": 3
   },
   "file_extension": ".py",
   "mimetype": "text/x-python",
   "name": "python",
   "nbconvert_exporter": "python",
   "pygments_lexer": "ipython3",
   "version": "3.7.4"
  }
 },
 "nbformat": 4,
 "nbformat_minor": 2
}
