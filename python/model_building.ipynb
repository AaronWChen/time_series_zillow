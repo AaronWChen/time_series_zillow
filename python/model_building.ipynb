{
 "cells": [
  {
   "cell_type": "code",
   "execution_count": 1,
   "metadata": {},
   "outputs": [],
   "source": [
    "import numpy as np\n",
    "import pandas as pd\n",
    "from statsmodels.graphics.tsaplots import plot_acf, plot_pacf, acf, pacf\n",
    "from statsmodels.tsa.stattools import adfuller\n",
    "from statsmodels.tsa.arima_model import ARMA, ARIMA\n",
    "from model_builder import arima_model\n",
    "from matplotlib import pyplot as plt\n",
    "\n",
    "from model_builder import stationarity_test\n",
    "from criteria_housing import name_zipcode_area\n",
    "from model_builder import dataframe_cleaner\n",
    "%load_ext autoreload\n",
    "%autoreload 2"
   ]
  },
  {
   "cell_type": "code",
   "execution_count": 2,
   "metadata": {},
   "outputs": [],
   "source": [
    "#loading all zipcodes pandas dataframes\n",
    "zillow_df = pd.read_csv('../write_data/zipcodes_all_price.csv',\n",
    "                        index_col = 0, parse_dates = True)\n",
    "zillow_df.columns = pd.to_numeric(zillow_df.columns)\n",
    "\n",
    "# loading top 100 ROI zipcodes pandas dataframes\n",
    "top_df = pd.read_csv('../write_data/top_monthly.csv', \n",
    "                     index_col = 0, parse_dates = True)\n",
    "top_df.columns = pd.to_numeric(top_df.columns)\n",
    "\n",
    "# loading bottom 100 ROI zipcodes pandas dataframes\n",
    "bottom_df = pd.read_csv('../write_data/bottom_monthly.csv', \n",
    "                        index_col = 0, parse_dates = True)\n",
    "bottom_df.columns = pd.to_numeric(bottom_df.columns)\n",
    "\n",
    "# loading random 100 ROI zipcodes pandas dataframes\n",
    "random_df = pd.read_csv('../write_data/random_monthly.csv', \n",
    "                        index_col = 0, parse_dates = True)\n",
    "random_df.columns = pd.to_numeric(random_df.columns)"
   ]
  },
  {
   "cell_type": "code",
   "execution_count": 3,
   "metadata": {},
   "outputs": [
    {
     "data": {
      "text/html": [
       "<div>\n",
       "<style scoped>\n",
       "    .dataframe tbody tr th:only-of-type {\n",
       "        vertical-align: middle;\n",
       "    }\n",
       "\n",
       "    .dataframe tbody tr th {\n",
       "        vertical-align: top;\n",
       "    }\n",
       "\n",
       "    .dataframe thead th {\n",
       "        text-align: right;\n",
       "    }\n",
       "</style>\n",
       "<table border=\"1\" class=\"dataframe\">\n",
       "  <thead>\n",
       "    <tr style=\"text-align: right;\">\n",
       "      <th></th>\n",
       "      <th>33415</th>\n",
       "      <th>47838</th>\n",
       "      <th>24330</th>\n",
       "      <th>92225</th>\n",
       "      <th>49331</th>\n",
       "      <th>34972</th>\n",
       "      <th>44688</th>\n",
       "      <th>58047</th>\n",
       "      <th>97148</th>\n",
       "      <th>48159</th>\n",
       "      <th>...</th>\n",
       "      <th>11205</th>\n",
       "      <th>60612</th>\n",
       "      <th>45121</th>\n",
       "      <th>16637</th>\n",
       "      <th>94957</th>\n",
       "      <th>71238</th>\n",
       "      <th>10128</th>\n",
       "      <th>11222</th>\n",
       "      <th>16625</th>\n",
       "      <th>70090</th>\n",
       "    </tr>\n",
       "    <tr>\n",
       "      <th>Date_index</th>\n",
       "      <th></th>\n",
       "      <th></th>\n",
       "      <th></th>\n",
       "      <th></th>\n",
       "      <th></th>\n",
       "      <th></th>\n",
       "      <th></th>\n",
       "      <th></th>\n",
       "      <th></th>\n",
       "      <th></th>\n",
       "      <th></th>\n",
       "      <th></th>\n",
       "      <th></th>\n",
       "      <th></th>\n",
       "      <th></th>\n",
       "      <th></th>\n",
       "      <th></th>\n",
       "      <th></th>\n",
       "      <th></th>\n",
       "      <th></th>\n",
       "      <th></th>\n",
       "    </tr>\n",
       "  </thead>\n",
       "  <tbody>\n",
       "    <tr>\n",
       "      <td>1996-04-01</td>\n",
       "      <td>70000.0</td>\n",
       "      <td>NaN</td>\n",
       "      <td>32200.0</td>\n",
       "      <td>75300.0</td>\n",
       "      <td>98000.0</td>\n",
       "      <td>43500.0</td>\n",
       "      <td>50000.0</td>\n",
       "      <td>NaN</td>\n",
       "      <td>109700.0</td>\n",
       "      <td>76000.0</td>\n",
       "      <td>...</td>\n",
       "      <td>NaN</td>\n",
       "      <td>100900.0</td>\n",
       "      <td>61600.0</td>\n",
       "      <td>NaN</td>\n",
       "      <td>755900.0</td>\n",
       "      <td>NaN</td>\n",
       "      <td>3676700.0</td>\n",
       "      <td>149200.0</td>\n",
       "      <td>NaN</td>\n",
       "      <td>NaN</td>\n",
       "    </tr>\n",
       "    <tr>\n",
       "      <td>1996-05-01</td>\n",
       "      <td>70100.0</td>\n",
       "      <td>NaN</td>\n",
       "      <td>32300.0</td>\n",
       "      <td>75400.0</td>\n",
       "      <td>99700.0</td>\n",
       "      <td>43600.0</td>\n",
       "      <td>50500.0</td>\n",
       "      <td>NaN</td>\n",
       "      <td>110300.0</td>\n",
       "      <td>76000.0</td>\n",
       "      <td>...</td>\n",
       "      <td>NaN</td>\n",
       "      <td>101400.0</td>\n",
       "      <td>61400.0</td>\n",
       "      <td>NaN</td>\n",
       "      <td>754600.0</td>\n",
       "      <td>NaN</td>\n",
       "      <td>3704200.0</td>\n",
       "      <td>148400.0</td>\n",
       "      <td>NaN</td>\n",
       "      <td>NaN</td>\n",
       "    </tr>\n",
       "    <tr>\n",
       "      <td>1996-06-01</td>\n",
       "      <td>70300.0</td>\n",
       "      <td>NaN</td>\n",
       "      <td>32500.0</td>\n",
       "      <td>75500.0</td>\n",
       "      <td>101400.0</td>\n",
       "      <td>43800.0</td>\n",
       "      <td>51000.0</td>\n",
       "      <td>NaN</td>\n",
       "      <td>111000.0</td>\n",
       "      <td>76000.0</td>\n",
       "      <td>...</td>\n",
       "      <td>NaN</td>\n",
       "      <td>101900.0</td>\n",
       "      <td>61200.0</td>\n",
       "      <td>NaN</td>\n",
       "      <td>753300.0</td>\n",
       "      <td>NaN</td>\n",
       "      <td>3729600.0</td>\n",
       "      <td>147500.0</td>\n",
       "      <td>NaN</td>\n",
       "      <td>NaN</td>\n",
       "    </tr>\n",
       "    <tr>\n",
       "      <td>1996-07-01</td>\n",
       "      <td>70400.0</td>\n",
       "      <td>NaN</td>\n",
       "      <td>32600.0</td>\n",
       "      <td>75600.0</td>\n",
       "      <td>102800.0</td>\n",
       "      <td>43900.0</td>\n",
       "      <td>51400.0</td>\n",
       "      <td>NaN</td>\n",
       "      <td>111700.0</td>\n",
       "      <td>76000.0</td>\n",
       "      <td>...</td>\n",
       "      <td>NaN</td>\n",
       "      <td>102300.0</td>\n",
       "      <td>61000.0</td>\n",
       "      <td>NaN</td>\n",
       "      <td>752000.0</td>\n",
       "      <td>NaN</td>\n",
       "      <td>3754600.0</td>\n",
       "      <td>146600.0</td>\n",
       "      <td>NaN</td>\n",
       "      <td>NaN</td>\n",
       "    </tr>\n",
       "    <tr>\n",
       "      <td>1996-08-01</td>\n",
       "      <td>70600.0</td>\n",
       "      <td>NaN</td>\n",
       "      <td>32800.0</td>\n",
       "      <td>75700.0</td>\n",
       "      <td>104100.0</td>\n",
       "      <td>43900.0</td>\n",
       "      <td>51900.0</td>\n",
       "      <td>NaN</td>\n",
       "      <td>112200.0</td>\n",
       "      <td>76000.0</td>\n",
       "      <td>...</td>\n",
       "      <td>NaN</td>\n",
       "      <td>102700.0</td>\n",
       "      <td>60900.0</td>\n",
       "      <td>NaN</td>\n",
       "      <td>751000.0</td>\n",
       "      <td>NaN</td>\n",
       "      <td>3781800.0</td>\n",
       "      <td>146000.0</td>\n",
       "      <td>NaN</td>\n",
       "      <td>NaN</td>\n",
       "    </tr>\n",
       "  </tbody>\n",
       "</table>\n",
       "<p>5 rows × 100 columns</p>\n",
       "</div>"
      ],
      "text/plain": [
       "              33415  47838    24330    92225     49331    34972    44688  \\\n",
       "Date_index                                                                 \n",
       "1996-04-01  70000.0    NaN  32200.0  75300.0   98000.0  43500.0  50000.0   \n",
       "1996-05-01  70100.0    NaN  32300.0  75400.0   99700.0  43600.0  50500.0   \n",
       "1996-06-01  70300.0    NaN  32500.0  75500.0  101400.0  43800.0  51000.0   \n",
       "1996-07-01  70400.0    NaN  32600.0  75600.0  102800.0  43900.0  51400.0   \n",
       "1996-08-01  70600.0    NaN  32800.0  75700.0  104100.0  43900.0  51900.0   \n",
       "\n",
       "            58047     97148    48159  ...  11205     60612    45121  16637  \\\n",
       "Date_index                            ...                                    \n",
       "1996-04-01    NaN  109700.0  76000.0  ...    NaN  100900.0  61600.0    NaN   \n",
       "1996-05-01    NaN  110300.0  76000.0  ...    NaN  101400.0  61400.0    NaN   \n",
       "1996-06-01    NaN  111000.0  76000.0  ...    NaN  101900.0  61200.0    NaN   \n",
       "1996-07-01    NaN  111700.0  76000.0  ...    NaN  102300.0  61000.0    NaN   \n",
       "1996-08-01    NaN  112200.0  76000.0  ...    NaN  102700.0  60900.0    NaN   \n",
       "\n",
       "               94957  71238      10128     11222  16625  70090  \n",
       "Date_index                                                      \n",
       "1996-04-01  755900.0    NaN  3676700.0  149200.0    NaN    NaN  \n",
       "1996-05-01  754600.0    NaN  3704200.0  148400.0    NaN    NaN  \n",
       "1996-06-01  753300.0    NaN  3729600.0  147500.0    NaN    NaN  \n",
       "1996-07-01  752000.0    NaN  3754600.0  146600.0    NaN    NaN  \n",
       "1996-08-01  751000.0    NaN  3781800.0  146000.0    NaN    NaN  \n",
       "\n",
       "[5 rows x 100 columns]"
      ]
     },
     "execution_count": 3,
     "metadata": {},
     "output_type": "execute_result"
    }
   ],
   "source": [
    "bottom_df.head()"
   ]
  },
  {
   "cell_type": "code",
   "execution_count": 13,
   "metadata": {},
   "outputs": [
    {
     "name": "stdout",
     "output_type": "stream",
     "text": [
      "old top_df containing null columns: 0\n",
      "cleaned top_df containing null columns: 0\n"
     ]
    }
   ],
   "source": [
    "#filtering out dataframes with null values\n",
    "print('old top_df containing null columns:', \n",
    "      len([col for col in top_df if top_df[col].isnull().sum()>0]))\n",
    "top_df = dataframe_cleaner(top_df)\n",
    "\n",
    "print('cleaned top_df containing null columns:', \n",
    "      len([col for col in top_df if top_df[col].isnull().sum()>0]) )"
   ]
  },
  {
   "cell_type": "code",
   "execution_count": 5,
   "metadata": {},
   "outputs": [],
   "source": [
    "#filtering out random and bottom dataframes with null values\n",
    "bottom_df = dataframe_cleaner(bottom_df)\n",
    "random_df = dataframe_cleaner(random_df)"
   ]
  },
  {
   "cell_type": "code",
   "execution_count": 7,
   "metadata": {
    "scrolled": true
   },
   "outputs": [
    {
     "data": {
      "text/html": [
       "<div>\n",
       "<style scoped>\n",
       "    .dataframe tbody tr th:only-of-type {\n",
       "        vertical-align: middle;\n",
       "    }\n",
       "\n",
       "    .dataframe tbody tr th {\n",
       "        vertical-align: top;\n",
       "    }\n",
       "\n",
       "    .dataframe thead th {\n",
       "        text-align: right;\n",
       "    }\n",
       "</style>\n",
       "<table border=\"1\" class=\"dataframe\">\n",
       "  <thead>\n",
       "    <tr style=\"text-align: right;\">\n",
       "      <th></th>\n",
       "      <th>RegionID</th>\n",
       "      <th>RegionName</th>\n",
       "      <th>City</th>\n",
       "      <th>State</th>\n",
       "      <th>Metro</th>\n",
       "      <th>CountyName</th>\n",
       "    </tr>\n",
       "  </thead>\n",
       "  <tbody>\n",
       "    <tr>\n",
       "      <td>0</td>\n",
       "      <td>84654</td>\n",
       "      <td>60657</td>\n",
       "      <td>Chicago</td>\n",
       "      <td>IL</td>\n",
       "      <td>Chicago</td>\n",
       "      <td>Cook</td>\n",
       "    </tr>\n",
       "    <tr>\n",
       "      <td>1</td>\n",
       "      <td>90668</td>\n",
       "      <td>75070</td>\n",
       "      <td>McKinney</td>\n",
       "      <td>TX</td>\n",
       "      <td>Dallas-Fort Worth</td>\n",
       "      <td>Collin</td>\n",
       "    </tr>\n",
       "    <tr>\n",
       "      <td>2</td>\n",
       "      <td>91982</td>\n",
       "      <td>77494</td>\n",
       "      <td>Katy</td>\n",
       "      <td>TX</td>\n",
       "      <td>Houston</td>\n",
       "      <td>Harris</td>\n",
       "    </tr>\n",
       "    <tr>\n",
       "      <td>3</td>\n",
       "      <td>84616</td>\n",
       "      <td>60614</td>\n",
       "      <td>Chicago</td>\n",
       "      <td>IL</td>\n",
       "      <td>Chicago</td>\n",
       "      <td>Cook</td>\n",
       "    </tr>\n",
       "    <tr>\n",
       "      <td>4</td>\n",
       "      <td>93144</td>\n",
       "      <td>79936</td>\n",
       "      <td>El Paso</td>\n",
       "      <td>TX</td>\n",
       "      <td>El Paso</td>\n",
       "      <td>El Paso</td>\n",
       "    </tr>\n",
       "  </tbody>\n",
       "</table>\n",
       "</div>"
      ],
      "text/plain": [
       "   RegionID  RegionName      City State              Metro CountyName\n",
       "0     84654       60657   Chicago    IL            Chicago       Cook\n",
       "1     90668       75070  McKinney    TX  Dallas-Fort Worth     Collin\n",
       "2     91982       77494      Katy    TX            Houston     Harris\n",
       "3     84616       60614   Chicago    IL            Chicago       Cook\n",
       "4     93144       79936   El Paso    TX            El Paso    El Paso"
      ]
     },
     "execution_count": 7,
     "metadata": {},
     "output_type": "execute_result"
    }
   ],
   "source": [
    "#loading state, county and region details for our data\n",
    "region_df = pd.read_csv('../write_data/regions_zipcode.csv', index_col=0)\n",
    "\n",
    "region_df.head()"
   ]
  },
  {
   "cell_type": "markdown",
   "metadata": {},
   "source": [
    "* **Checking for stationarity of data before building models**"
   ]
  },
  {
   "cell_type": "markdown",
   "metadata": {},
   "source": [
    "* **Finding autoregressive order p using autocorrelation**"
   ]
  },
  {
   "cell_type": "code",
   "execution_count": 8,
   "metadata": {},
   "outputs": [
    {
     "data": {
      "text/html": [
       "<div>\n",
       "<style scoped>\n",
       "    .dataframe tbody tr th:only-of-type {\n",
       "        vertical-align: middle;\n",
       "    }\n",
       "\n",
       "    .dataframe tbody tr th {\n",
       "        vertical-align: top;\n",
       "    }\n",
       "\n",
       "    .dataframe thead th {\n",
       "        text-align: right;\n",
       "    }\n",
       "</style>\n",
       "<table border=\"1\" class=\"dataframe\">\n",
       "  <thead>\n",
       "    <tr style=\"text-align: right;\">\n",
       "      <th></th>\n",
       "      <th>7106</th>\n",
       "      <th>29661</th>\n",
       "      <th>64110</th>\n",
       "      <th>20621</th>\n",
       "      <th>7103</th>\n",
       "      <th>18346</th>\n",
       "      <th>60954</th>\n",
       "      <th>34785</th>\n",
       "      <th>18224</th>\n",
       "      <th>17931</th>\n",
       "      <th>...</th>\n",
       "      <th>8270</th>\n",
       "      <th>18651</th>\n",
       "      <th>65723</th>\n",
       "      <th>14572</th>\n",
       "      <th>7002</th>\n",
       "      <th>14809</th>\n",
       "      <th>18355</th>\n",
       "      <th>12528</th>\n",
       "      <th>28786</th>\n",
       "      <th>14062</th>\n",
       "    </tr>\n",
       "    <tr>\n",
       "      <th>Date_index</th>\n",
       "      <th></th>\n",
       "      <th></th>\n",
       "      <th></th>\n",
       "      <th></th>\n",
       "      <th></th>\n",
       "      <th></th>\n",
       "      <th></th>\n",
       "      <th></th>\n",
       "      <th></th>\n",
       "      <th></th>\n",
       "      <th></th>\n",
       "      <th></th>\n",
       "      <th></th>\n",
       "      <th></th>\n",
       "      <th></th>\n",
       "      <th></th>\n",
       "      <th></th>\n",
       "      <th></th>\n",
       "      <th></th>\n",
       "      <th></th>\n",
       "      <th></th>\n",
       "    </tr>\n",
       "  </thead>\n",
       "  <tbody>\n",
       "    <tr>\n",
       "      <td>1996-04-01</td>\n",
       "      <td>91400.0</td>\n",
       "      <td>56500.0</td>\n",
       "      <td>59200.0</td>\n",
       "      <td>94300.0</td>\n",
       "      <td>78000.0</td>\n",
       "      <td>53600.0</td>\n",
       "      <td>78400.0</td>\n",
       "      <td>46400.0</td>\n",
       "      <td>41100.0</td>\n",
       "      <td>36700.0</td>\n",
       "      <td>...</td>\n",
       "      <td>93100.0</td>\n",
       "      <td>45400.0</td>\n",
       "      <td>29900.0</td>\n",
       "      <td>52200.0</td>\n",
       "      <td>145000.0</td>\n",
       "      <td>45900.0</td>\n",
       "      <td>60900.0</td>\n",
       "      <td>107600.0</td>\n",
       "      <td>48900.0</td>\n",
       "      <td>62800.0</td>\n",
       "    </tr>\n",
       "    <tr>\n",
       "      <td>1996-05-01</td>\n",
       "      <td>91300.0</td>\n",
       "      <td>56800.0</td>\n",
       "      <td>59500.0</td>\n",
       "      <td>95200.0</td>\n",
       "      <td>78100.0</td>\n",
       "      <td>53800.0</td>\n",
       "      <td>78300.0</td>\n",
       "      <td>46300.0</td>\n",
       "      <td>40900.0</td>\n",
       "      <td>36800.0</td>\n",
       "      <td>...</td>\n",
       "      <td>93300.0</td>\n",
       "      <td>45300.0</td>\n",
       "      <td>30300.0</td>\n",
       "      <td>52300.0</td>\n",
       "      <td>144500.0</td>\n",
       "      <td>45900.0</td>\n",
       "      <td>61000.0</td>\n",
       "      <td>107400.0</td>\n",
       "      <td>48900.0</td>\n",
       "      <td>62600.0</td>\n",
       "    </tr>\n",
       "    <tr>\n",
       "      <td>1996-06-01</td>\n",
       "      <td>91200.0</td>\n",
       "      <td>57200.0</td>\n",
       "      <td>59700.0</td>\n",
       "      <td>96000.0</td>\n",
       "      <td>78200.0</td>\n",
       "      <td>53900.0</td>\n",
       "      <td>78000.0</td>\n",
       "      <td>46200.0</td>\n",
       "      <td>40600.0</td>\n",
       "      <td>36800.0</td>\n",
       "      <td>...</td>\n",
       "      <td>93500.0</td>\n",
       "      <td>45200.0</td>\n",
       "      <td>30600.0</td>\n",
       "      <td>52400.0</td>\n",
       "      <td>143900.0</td>\n",
       "      <td>45800.0</td>\n",
       "      <td>61000.0</td>\n",
       "      <td>107300.0</td>\n",
       "      <td>48800.0</td>\n",
       "      <td>62500.0</td>\n",
       "    </tr>\n",
       "    <tr>\n",
       "      <td>1996-07-01</td>\n",
       "      <td>91200.0</td>\n",
       "      <td>57600.0</td>\n",
       "      <td>59900.0</td>\n",
       "      <td>96900.0</td>\n",
       "      <td>78300.0</td>\n",
       "      <td>54100.0</td>\n",
       "      <td>77900.0</td>\n",
       "      <td>46100.0</td>\n",
       "      <td>40400.0</td>\n",
       "      <td>36800.0</td>\n",
       "      <td>...</td>\n",
       "      <td>93600.0</td>\n",
       "      <td>45100.0</td>\n",
       "      <td>30900.0</td>\n",
       "      <td>52500.0</td>\n",
       "      <td>143300.0</td>\n",
       "      <td>45700.0</td>\n",
       "      <td>61100.0</td>\n",
       "      <td>107100.0</td>\n",
       "      <td>48500.0</td>\n",
       "      <td>62300.0</td>\n",
       "    </tr>\n",
       "    <tr>\n",
       "      <td>1996-08-01</td>\n",
       "      <td>91200.0</td>\n",
       "      <td>58000.0</td>\n",
       "      <td>60200.0</td>\n",
       "      <td>97700.0</td>\n",
       "      <td>78300.0</td>\n",
       "      <td>54200.0</td>\n",
       "      <td>77800.0</td>\n",
       "      <td>46000.0</td>\n",
       "      <td>40200.0</td>\n",
       "      <td>36800.0</td>\n",
       "      <td>...</td>\n",
       "      <td>93800.0</td>\n",
       "      <td>45000.0</td>\n",
       "      <td>31300.0</td>\n",
       "      <td>52500.0</td>\n",
       "      <td>142800.0</td>\n",
       "      <td>45700.0</td>\n",
       "      <td>61100.0</td>\n",
       "      <td>107000.0</td>\n",
       "      <td>48200.0</td>\n",
       "      <td>62100.0</td>\n",
       "    </tr>\n",
       "  </tbody>\n",
       "</table>\n",
       "<p>5 rows × 82 columns</p>\n",
       "</div>"
      ],
      "text/plain": [
       "              7106     29661    64110    20621    7103     18346    60954  \\\n",
       "Date_index                                                                  \n",
       "1996-04-01  91400.0  56500.0  59200.0  94300.0  78000.0  53600.0  78400.0   \n",
       "1996-05-01  91300.0  56800.0  59500.0  95200.0  78100.0  53800.0  78300.0   \n",
       "1996-06-01  91200.0  57200.0  59700.0  96000.0  78200.0  53900.0  78000.0   \n",
       "1996-07-01  91200.0  57600.0  59900.0  96900.0  78300.0  54100.0  77900.0   \n",
       "1996-08-01  91200.0  58000.0  60200.0  97700.0  78300.0  54200.0  77800.0   \n",
       "\n",
       "              34785    18224    17931  ...    8270     18651    65723  \\\n",
       "Date_index                             ...                              \n",
       "1996-04-01  46400.0  41100.0  36700.0  ...  93100.0  45400.0  29900.0   \n",
       "1996-05-01  46300.0  40900.0  36800.0  ...  93300.0  45300.0  30300.0   \n",
       "1996-06-01  46200.0  40600.0  36800.0  ...  93500.0  45200.0  30600.0   \n",
       "1996-07-01  46100.0  40400.0  36800.0  ...  93600.0  45100.0  30900.0   \n",
       "1996-08-01  46000.0  40200.0  36800.0  ...  93800.0  45000.0  31300.0   \n",
       "\n",
       "              14572     7002     14809    18355     12528    28786    14062  \n",
       "Date_index                                                                   \n",
       "1996-04-01  52200.0  145000.0  45900.0  60900.0  107600.0  48900.0  62800.0  \n",
       "1996-05-01  52300.0  144500.0  45900.0  61000.0  107400.0  48900.0  62600.0  \n",
       "1996-06-01  52400.0  143900.0  45800.0  61000.0  107300.0  48800.0  62500.0  \n",
       "1996-07-01  52500.0  143300.0  45700.0  61100.0  107100.0  48500.0  62300.0  \n",
       "1996-08-01  52500.0  142800.0  45700.0  61100.0  107000.0  48200.0  62100.0  \n",
       "\n",
       "[5 rows x 82 columns]"
      ]
     },
     "execution_count": 8,
     "metadata": {},
     "output_type": "execute_result"
    }
   ],
   "source": [
    "top_df.head()"
   ]
  },
  {
   "cell_type": "code",
   "execution_count": 10,
   "metadata": {
    "scrolled": true
   },
   "outputs": [
    {
     "data": {
      "image/png": "[encoded data removed]",
      "text/plain": [
       "<Figure size 432x288 with 1 Axes>"
      ]
     },
     "metadata": {
      "needs_background": "light"
     },
     "output_type": "display_data"
    }
   ],
   "source": [
    "# ACF, \n",
    "plot_acf(top_df[7106], lags=500, alpha=0.05)\n",
    "plt.show()"
   ]
  },
  {
   "cell_type": "markdown",
   "metadata": {},
   "source": [
    "* **This sequence is repeating every twenty years**"
   ]
  },
  {
   "cell_type": "code",
   "execution_count": 11,
   "metadata": {},
   "outputs": [
    {
     "data": {
      "text/plain": [
       "array([1.        , 0.99324043, 0.98441982, 0.9742717 , 0.96320004])"
      ]
     },
     "execution_count": 11,
     "metadata": {},
     "output_type": "execute_result"
    }
   ],
   "source": [
    "#auto correlation function. A value greater than 0.05 is a viable AR order p\n",
    "acf(top_df[7106], nlags=50)[:5]"
   ]
  },
  {
   "cell_type": "markdown",
   "metadata": {},
   "source": [
    "* **Finding moving average order q using partial autocorrelation**"
   ]
  },
  {
   "cell_type": "code",
   "execution_count": 12,
   "metadata": {},
   "outputs": [
    {
     "data": {
      "image/png": "[encoded data removed]",
      "text/plain": [
       "<Figure size 432x288 with 1 Axes>"
      ]
     },
     "metadata": {
      "needs_background": "light"
     },
     "output_type": "display_data"
    }
   ],
   "source": [
    "#partial autocorrelation function. A value greater than 0.05 is a viable MA order q\n",
    "plot_pacf(top_df[7106], lags=40, alpha=0.05);"
   ]
  },
  {
   "cell_type": "markdown",
   "metadata": {},
   "source": [
    "* **since the diff() made the data stationary, the integrated d is 1.**"
   ]
  },
  {
   "cell_type": "code",
   "execution_count": 460,
   "metadata": {},
   "outputs": [
    {
     "data": {
      "text/plain": [
       "Int64Index([7106, 29661, 64110, 20621, 7103, 18346], dtype='int64')"
      ]
     },
     "execution_count": 460,
     "metadata": {},
     "output_type": "execute_result"
    }
   ],
   "source": [
    "#picking top zipcodes\n",
    "model_topzipcodes = top_df.columns[:6]\n",
    "model_topzipcodes"
   ]
  },
  {
   "cell_type": "code",
   "execution_count": 462,
   "metadata": {},
   "outputs": [
    {
     "data": {
      "text/plain": [
       "Int64Index([33415, 24330, 92225, 49331, 34972, 44688], dtype='int64')"
      ]
     },
     "execution_count": 462,
     "metadata": {},
     "output_type": "execute_result"
    }
   ],
   "source": [
    "model_bottomzipcodes = bottom_df.columns[:6]\n",
    "model_bottomzipcodes"
   ]
  },
  {
   "cell_type": "code",
   "execution_count": 448,
   "metadata": {},
   "outputs": [
    {
     "name": "stderr",
     "output_type": "stream",
     "text": [
      "//anaconda3/envs/learn-env/lib/python3.6/site-packages/statsmodels/base/model.py:488: HessianInversionWarning: Inverting hessian failed, no bse or cov_params available\n",
      "  'available', HessianInversionWarning)\n",
      "//anaconda3/envs/learn-env/lib/python3.6/site-packages/statsmodels/base/model.py:488: HessianInversionWarning: Inverting hessian failed, no bse or cov_params available\n",
      "  'available', HessianInversionWarning)\n"
     ]
    }
   ],
   "source": [
    "model_95008 = arima_model(zillow_df[95008])"
   ]
  },
  {
   "cell_type": "code",
   "execution_count": 476,
   "metadata": {},
   "outputs": [],
   "source": [
    "model_33415 = arima_model(zillow_df[33415])"
   ]
  },
  {
   "cell_type": "code",
   "execution_count": 468,
   "metadata": {},
   "outputs": [],
   "source": [
    "import seaborn as sns"
   ]
  },
  {
   "cell_type": "code",
   "execution_count": 472,
   "metadata": {},
   "outputs": [
    {
     "name": "stderr",
     "output_type": "stream",
     "text": [
      "//anaconda3/envs/learn-env/lib/python3.6/site-packages/scipy/stats/stats.py:1713: FutureWarning: Using a non-tuple sequence for multidimensional indexing is deprecated; use `arr[tuple(seq)]` instead of `arr[seq]`. In the future this will be interpreted as an array index, `arr[np.array(seq)]`, which will result either in an error or a different result.\n",
      "  return np.add.reduce(sorted[indexer] * weights, axis=axis) / sumval\n"
     ]
    },
    {
     "data": {
      "image/png": "[encoded data removed]",
      "text/plain": [
       "<Figure size 432x288 with 1 Axes>"
      ]
     },
     "metadata": {
      "needs_background": "light"
     },
     "output_type": "display_data"
    }
   ],
   "source": [
    "sns.distplot(mode_33415.resid);\n",
    "# sns.distplot(model_95008.resid)"
   ]
  },
  {
   "cell_type": "code",
   "execution_count": 474,
   "metadata": {},
   "outputs": [],
   "source": [
    "forcast_santa = model_95008.predict(1, 300, typ='levels')"
   ]
  },
  {
   "cell_type": "code",
   "execution_count": 475,
   "metadata": {
    "scrolled": true
   },
   "outputs": [
    {
     "data": {
      "image/png": "[encoded data removed]",
      "text/plain": [
       "<Figure size 432x288 with 1 Axes>"
      ]
     },
     "metadata": {
      "needs_background": "light"
     },
     "output_type": "display_data"
    }
   ],
   "source": [
    "plt.plot(santa_dollars[0] + np.cumsum(forcast_santa), color = 'red', label='predicted')\n",
    "plt.plot(zillow_df[95008].values, label = 'actual')\n",
    "plt.legend()\n",
    "plt.xlim(1,300)\n",
    "plt.show()"
   ]
  },
  {
   "cell_type": "code",
   "execution_count": null,
   "metadata": {},
   "outputs": [],
   "source": [
    "stationarity_test(zillow_df[95008], ) "
   ]
  },
  {
   "cell_type": "code",
   "execution_count": 478,
   "metadata": {},
   "outputs": [
    {
     "data": {
      "image/png": "[encoded data removed]",
      "text/plain": [
       "<Figure size 432x288 with 1 Axes>"
      ]
     },
     "metadata": {
      "needs_background": "light"
     },
     "output_type": "display_data"
    }
   ],
   "source": [
    "forcast_33415 = model_33415.predict(1, 300, typ='levels')\n",
    "plt.plot(santa_dollars[0] + np.cumsum(forcast_33415), color = 'red', label='predicted')\n",
    "plt.plot(zillow_df[33415].values, label = 'actual')\n",
    "plt.legend()\n",
    "plt.xlim(1,300)\n",
    "plt.show()"
   ]
  },
  {
   "cell_type": "code",
   "execution_count": 481,
   "metadata": {},
   "outputs": [
    {
     "data": {
      "text/plain": [
       "404666.94017891696"
      ]
     },
     "execution_count": 481,
     "metadata": {},
     "output_type": "execute_result"
    }
   ],
   "source": [
    "(santa_dollars[0] + np.cumsum(forcast_33415))[275]"
   ]
  },
  {
   "cell_type": "code",
   "execution_count": null,
   "metadata": {},
   "outputs": [],
   "source": []
  },
  {
   "cell_type": "code",
   "execution_count": null,
   "metadata": {},
   "outputs": [],
   "source": []
  }
 ],
 "metadata": {
  "kernelspec": {
   "display_name": "Python 3",
   "language": "python",
   "name": "python3"
  },
  "language_info": {
   "codemirror_mode": {
    "name": "ipython",
    "version": 3
   },
   "file_extension": ".py",
   "mimetype": "text/x-python",
   "name": "python",
   "nbconvert_exporter": "python",
   "pygments_lexer": "ipython3",
   "version": "3.6.6"
  }
 },
 "nbformat": 4,
 "nbformat_minor": 2
}
