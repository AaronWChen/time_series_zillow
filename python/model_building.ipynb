{
 "cells": [
  {
   "cell_type": "code",
   "execution_count": 160,
   "metadata": {},
   "outputs": [
    {
     "name": "stdout",
     "output_type": "stream",
     "text": [
      "The autoreload extension is already loaded. To reload it, use:\n",
      "  %reload_ext autoreload\n"
     ]
    }
   ],
   "source": [
    "import numpy as np\n",
    "import pandas as pd\n",
    "from statsmodels.graphics.tsaplots import plot_acf, plot_pacf, acf, pacf\n",
    "from statsmodels.tsa.stattools import adfuller\n",
    "from statsmodels.tsa.arima_model import ARMA, ARIMA\n",
    "from model_builder import stationarity_test\n",
    "from criteria_housing import name_zipcode_area\n",
    "from model_builder import dataframe_cleaner\n",
    "from model_builder import model\n",
    "from matplotlib import pyplot as plt\n",
    "%load_ext autoreload\n",
    "%autoreload 2"
   ]
  },
  {
   "cell_type": "code",
   "execution_count": 175,
   "metadata": {},
   "outputs": [],
   "source": [
    "#loading all zipcodes pandas dataframes\n",
    "zillow_df = pd.read_csv('../write_data/zipcodes_all_price.csv',\n",
    "                        index_col = 0, parse_dates = True)\n",
    "zillow_df.columns = pd.to_numeric(zillow_df.columns)\n",
    "\n",
    "# loading top 100 ROI zipcodes pandas dataframes\n",
    "top_df = pd.read_csv('../write_data/top_monthly.csv', \n",
    "                     index_col = 0, parse_dates = True)\n",
    "top_df.columns = pd.to_numeric(top_df.columns)\n",
    "\n",
    "# loading bottom 100 ROI zipcodes pandas dataframes\n",
    "bottom_df = pd.read_csv('../write_data/bottom_monthly.csv', \n",
    "                        index_col = 0, parse_dates = True)\n",
    "bottom_df.columns = pd.to_numeric(bottom_df.columns)\n",
    "\n",
    "# loading random 100 ROI zipcodes pandas dataframes\n",
    "random_df = pd.read_csv('../write_data/random_monthly.csv', \n",
    "                        index_col = 0, parse_dates = True)\n",
    "random_df.columns = pd.to_numeric(random_df.columns)"
   ]
  },
  {
   "cell_type": "code",
   "execution_count": 168,
   "metadata": {},
   "outputs": [
    {
     "data": {
      "text/html": [
       "<div>\n",
       "<style scoped>\n",
       "    .dataframe tbody tr th:only-of-type {\n",
       "        vertical-align: middle;\n",
       "    }\n",
       "\n",
       "    .dataframe tbody tr th {\n",
       "        vertical-align: top;\n",
       "    }\n",
       "\n",
       "    .dataframe thead th {\n",
       "        text-align: right;\n",
       "    }\n",
       "</style>\n",
       "<table border=\"1\" class=\"dataframe\">\n",
       "  <thead>\n",
       "    <tr style=\"text-align: right;\">\n",
       "      <th></th>\n",
       "      <th>60657</th>\n",
       "      <th>75070</th>\n",
       "      <th>77494</th>\n",
       "      <th>60614</th>\n",
       "      <th>79936</th>\n",
       "      <th>77084</th>\n",
       "      <th>10467</th>\n",
       "      <th>60640</th>\n",
       "      <th>77449</th>\n",
       "      <th>94109</th>\n",
       "      <th>...</th>\n",
       "      <th>3765</th>\n",
       "      <th>84781</th>\n",
       "      <th>12429</th>\n",
       "      <th>97028</th>\n",
       "      <th>12720</th>\n",
       "      <th>1338</th>\n",
       "      <th>3293</th>\n",
       "      <th>40404</th>\n",
       "      <th>81225</th>\n",
       "      <th>89155</th>\n",
       "    </tr>\n",
       "    <tr>\n",
       "      <th>Date_index</th>\n",
       "      <th></th>\n",
       "      <th></th>\n",
       "      <th></th>\n",
       "      <th></th>\n",
       "      <th></th>\n",
       "      <th></th>\n",
       "      <th></th>\n",
       "      <th></th>\n",
       "      <th></th>\n",
       "      <th></th>\n",
       "      <th></th>\n",
       "      <th></th>\n",
       "      <th></th>\n",
       "      <th></th>\n",
       "      <th></th>\n",
       "      <th></th>\n",
       "      <th></th>\n",
       "      <th></th>\n",
       "      <th></th>\n",
       "      <th></th>\n",
       "      <th></th>\n",
       "    </tr>\n",
       "  </thead>\n",
       "  <tbody>\n",
       "    <tr>\n",
       "      <td>1996-04-01</td>\n",
       "      <td>334200.0</td>\n",
       "      <td>235700.0</td>\n",
       "      <td>210400.0</td>\n",
       "      <td>498100.0</td>\n",
       "      <td>77300.0</td>\n",
       "      <td>95000.0</td>\n",
       "      <td>152900.0</td>\n",
       "      <td>216500.0</td>\n",
       "      <td>95400.0</td>\n",
       "      <td>766000.0</td>\n",
       "      <td>...</td>\n",
       "      <td>80800.0</td>\n",
       "      <td>135900.0</td>\n",
       "      <td>78300.0</td>\n",
       "      <td>136200.0</td>\n",
       "      <td>62500.0</td>\n",
       "      <td>94600.0</td>\n",
       "      <td>92700.0</td>\n",
       "      <td>57100.0</td>\n",
       "      <td>191100.0</td>\n",
       "      <td>176400.0</td>\n",
       "    </tr>\n",
       "    <tr>\n",
       "      <td>1996-05-01</td>\n",
       "      <td>335400.0</td>\n",
       "      <td>236900.0</td>\n",
       "      <td>212200.0</td>\n",
       "      <td>500900.0</td>\n",
       "      <td>77300.0</td>\n",
       "      <td>95200.0</td>\n",
       "      <td>152700.0</td>\n",
       "      <td>216700.0</td>\n",
       "      <td>95600.0</td>\n",
       "      <td>771100.0</td>\n",
       "      <td>...</td>\n",
       "      <td>80100.0</td>\n",
       "      <td>136300.0</td>\n",
       "      <td>78300.0</td>\n",
       "      <td>136600.0</td>\n",
       "      <td>62600.0</td>\n",
       "      <td>94300.0</td>\n",
       "      <td>92500.0</td>\n",
       "      <td>57300.0</td>\n",
       "      <td>192400.0</td>\n",
       "      <td>176300.0</td>\n",
       "    </tr>\n",
       "    <tr>\n",
       "      <td>1996-06-01</td>\n",
       "      <td>336500.0</td>\n",
       "      <td>236700.0</td>\n",
       "      <td>212200.0</td>\n",
       "      <td>503100.0</td>\n",
       "      <td>77300.0</td>\n",
       "      <td>95400.0</td>\n",
       "      <td>152600.0</td>\n",
       "      <td>216900.0</td>\n",
       "      <td>95800.0</td>\n",
       "      <td>776500.0</td>\n",
       "      <td>...</td>\n",
       "      <td>79400.0</td>\n",
       "      <td>136600.0</td>\n",
       "      <td>78200.0</td>\n",
       "      <td>136800.0</td>\n",
       "      <td>62700.0</td>\n",
       "      <td>94000.0</td>\n",
       "      <td>92400.0</td>\n",
       "      <td>57500.0</td>\n",
       "      <td>193700.0</td>\n",
       "      <td>176100.0</td>\n",
       "    </tr>\n",
       "    <tr>\n",
       "      <td>1996-07-01</td>\n",
       "      <td>337600.0</td>\n",
       "      <td>235400.0</td>\n",
       "      <td>210700.0</td>\n",
       "      <td>504600.0</td>\n",
       "      <td>77300.0</td>\n",
       "      <td>95700.0</td>\n",
       "      <td>152400.0</td>\n",
       "      <td>217000.0</td>\n",
       "      <td>96100.0</td>\n",
       "      <td>781900.0</td>\n",
       "      <td>...</td>\n",
       "      <td>78600.0</td>\n",
       "      <td>136900.0</td>\n",
       "      <td>78200.0</td>\n",
       "      <td>136800.0</td>\n",
       "      <td>62700.0</td>\n",
       "      <td>93700.0</td>\n",
       "      <td>92200.0</td>\n",
       "      <td>57700.0</td>\n",
       "      <td>195000.0</td>\n",
       "      <td>176000.0</td>\n",
       "    </tr>\n",
       "    <tr>\n",
       "      <td>1996-08-01</td>\n",
       "      <td>338500.0</td>\n",
       "      <td>233300.0</td>\n",
       "      <td>208300.0</td>\n",
       "      <td>505500.0</td>\n",
       "      <td>77400.0</td>\n",
       "      <td>95900.0</td>\n",
       "      <td>152300.0</td>\n",
       "      <td>217100.0</td>\n",
       "      <td>96400.0</td>\n",
       "      <td>787300.0</td>\n",
       "      <td>...</td>\n",
       "      <td>77900.0</td>\n",
       "      <td>137100.0</td>\n",
       "      <td>78100.0</td>\n",
       "      <td>136700.0</td>\n",
       "      <td>62700.0</td>\n",
       "      <td>93400.0</td>\n",
       "      <td>92100.0</td>\n",
       "      <td>58000.0</td>\n",
       "      <td>196300.0</td>\n",
       "      <td>175900.0</td>\n",
       "    </tr>\n",
       "  </tbody>\n",
       "</table>\n",
       "<p>5 rows × 14723 columns</p>\n",
       "</div>"
      ],
      "text/plain": [
       "               60657     75070     77494     60614    79936    77084  \\\n",
       "Date_index                                                             \n",
       "1996-04-01  334200.0  235700.0  210400.0  498100.0  77300.0  95000.0   \n",
       "1996-05-01  335400.0  236900.0  212200.0  500900.0  77300.0  95200.0   \n",
       "1996-06-01  336500.0  236700.0  212200.0  503100.0  77300.0  95400.0   \n",
       "1996-07-01  337600.0  235400.0  210700.0  504600.0  77300.0  95700.0   \n",
       "1996-08-01  338500.0  233300.0  208300.0  505500.0  77400.0  95900.0   \n",
       "\n",
       "               10467     60640    77449     94109  ...    3765      84781  \\\n",
       "Date_index                                         ...                      \n",
       "1996-04-01  152900.0  216500.0  95400.0  766000.0  ...  80800.0  135900.0   \n",
       "1996-05-01  152700.0  216700.0  95600.0  771100.0  ...  80100.0  136300.0   \n",
       "1996-06-01  152600.0  216900.0  95800.0  776500.0  ...  79400.0  136600.0   \n",
       "1996-07-01  152400.0  217000.0  96100.0  781900.0  ...  78600.0  136900.0   \n",
       "1996-08-01  152300.0  217100.0  96400.0  787300.0  ...  77900.0  137100.0   \n",
       "\n",
       "              12429     97028    12720    1338     3293     40404     81225  \\\n",
       "Date_index                                                                    \n",
       "1996-04-01  78300.0  136200.0  62500.0  94600.0  92700.0  57100.0  191100.0   \n",
       "1996-05-01  78300.0  136600.0  62600.0  94300.0  92500.0  57300.0  192400.0   \n",
       "1996-06-01  78200.0  136800.0  62700.0  94000.0  92400.0  57500.0  193700.0   \n",
       "1996-07-01  78200.0  136800.0  62700.0  93700.0  92200.0  57700.0  195000.0   \n",
       "1996-08-01  78100.0  136700.0  62700.0  93400.0  92100.0  58000.0  196300.0   \n",
       "\n",
       "               89155  \n",
       "Date_index            \n",
       "1996-04-01  176400.0  \n",
       "1996-05-01  176300.0  \n",
       "1996-06-01  176100.0  \n",
       "1996-07-01  176000.0  \n",
       "1996-08-01  175900.0  \n",
       "\n",
       "[5 rows x 14723 columns]"
      ]
     },
     "execution_count": 168,
     "metadata": {},
     "output_type": "execute_result"
    }
   ],
   "source": [
    "zillow_df.head()"
   ]
  },
  {
   "cell_type": "code",
   "execution_count": 176,
   "metadata": {},
   "outputs": [
    {
     "name": "stdout",
     "output_type": "stream",
     "text": [
      "old top_df containing null columns: 18\n",
      "cleaned top_df containing null columns: 0\n"
     ]
    }
   ],
   "source": [
    "#filtering out dataframes with null values\n",
    "print('old top_df containing null columns:', len([col for col in top_df if top_df[col].isnull().sum()>0]))\n",
    "top_df = dataframe_cleaner(top_df)\n",
    "print('cleaned top_df containing null columns:', len([col for col in top_df if top_df[col].isnull().sum()>0]) )"
   ]
  },
  {
   "cell_type": "code",
   "execution_count": 177,
   "metadata": {},
   "outputs": [],
   "source": [
    "#filtering out random and bottom dataframes with null values\n",
    "bottom_df = dataframe_cleaner(bottom_df)\n",
    "random_df = dataframe_cleaner(random_df)"
   ]
  },
  {
   "cell_type": "code",
   "execution_count": 6,
   "metadata": {
    "scrolled": true
   },
   "outputs": [
    {
     "data": {
      "text/html": [
       "<div>\n",
       "<style scoped>\n",
       "    .dataframe tbody tr th:only-of-type {\n",
       "        vertical-align: middle;\n",
       "    }\n",
       "\n",
       "    .dataframe tbody tr th {\n",
       "        vertical-align: top;\n",
       "    }\n",
       "\n",
       "    .dataframe thead th {\n",
       "        text-align: right;\n",
       "    }\n",
       "</style>\n",
       "<table border=\"1\" class=\"dataframe\">\n",
       "  <thead>\n",
       "    <tr style=\"text-align: right;\">\n",
       "      <th></th>\n",
       "      <th>RegionID</th>\n",
       "      <th>RegionName</th>\n",
       "      <th>City</th>\n",
       "      <th>State</th>\n",
       "      <th>Metro</th>\n",
       "      <th>CountyName</th>\n",
       "    </tr>\n",
       "  </thead>\n",
       "  <tbody>\n",
       "    <tr>\n",
       "      <td>4211</td>\n",
       "      <td>60610</td>\n",
       "      <td>7106</td>\n",
       "      <td>Newark</td>\n",
       "      <td>NJ</td>\n",
       "      <td>New York</td>\n",
       "      <td>Essex</td>\n",
       "    </tr>\n",
       "    <tr>\n",
       "      <td>10069</td>\n",
       "      <td>70641</td>\n",
       "      <td>29661</td>\n",
       "      <td>Marietta</td>\n",
       "      <td>SC</td>\n",
       "      <td>Greenville</td>\n",
       "      <td>Greenville</td>\n",
       "    </tr>\n",
       "    <tr>\n",
       "      <td>6216</td>\n",
       "      <td>86349</td>\n",
       "      <td>64110</td>\n",
       "      <td>Kansas City</td>\n",
       "      <td>MO</td>\n",
       "      <td>Kansas City</td>\n",
       "      <td>Jackson</td>\n",
       "    </tr>\n",
       "    <tr>\n",
       "      <td>14244</td>\n",
       "      <td>66512</td>\n",
       "      <td>20621</td>\n",
       "      <td>Chaptico</td>\n",
       "      <td>MD</td>\n",
       "      <td>California-Lexington Park</td>\n",
       "      <td>Saint Marys</td>\n",
       "    </tr>\n",
       "    <tr>\n",
       "      <td>3540</td>\n",
       "      <td>60607</td>\n",
       "      <td>7103</td>\n",
       "      <td>Newark</td>\n",
       "      <td>NJ</td>\n",
       "      <td>New York</td>\n",
       "      <td>Essex</td>\n",
       "    </tr>\n",
       "  </tbody>\n",
       "</table>\n",
       "</div>"
      ],
      "text/plain": [
       "       RegionID  RegionName         City State                      Metro  \\\n",
       "4211      60610        7106       Newark    NJ                   New York   \n",
       "10069     70641       29661     Marietta    SC                 Greenville   \n",
       "6216      86349       64110  Kansas City    MO                Kansas City   \n",
       "14244     66512       20621     Chaptico    MD  California-Lexington Park   \n",
       "3540      60607        7103       Newark    NJ                   New York   \n",
       "\n",
       "        CountyName  \n",
       "4211         Essex  \n",
       "10069   Greenville  \n",
       "6216       Jackson  \n",
       "14244  Saint Marys  \n",
       "3540         Essex  "
      ]
     },
     "execution_count": 6,
     "metadata": {},
     "output_type": "execute_result"
    }
   ],
   "source": [
    "#loading state, county and region details for our data\n",
    "region_df = pd.read_csv('../write_data/regions_zipcode.csv', index_col=0)\n",
    "\n",
    "name_zipcode_area(region_df, topfive_zipcodes)"
   ]
  },
  {
   "cell_type": "markdown",
   "metadata": {},
   "source": [
    "* **Checking for stationarity of data before building models**"
   ]
  },
  {
   "cell_type": "markdown",
   "metadata": {},
   "source": [
    "* **Finding autoregressive order p using autocorrelation**"
   ]
  },
  {
   "cell_type": "code",
   "execution_count": 192,
   "metadata": {},
   "outputs": [
    {
     "data": {
      "text/html": [
       "<div>\n",
       "<style scoped>\n",
       "    .dataframe tbody tr th:only-of-type {\n",
       "        vertical-align: middle;\n",
       "    }\n",
       "\n",
       "    .dataframe tbody tr th {\n",
       "        vertical-align: top;\n",
       "    }\n",
       "\n",
       "    .dataframe thead th {\n",
       "        text-align: right;\n",
       "    }\n",
       "</style>\n",
       "<table border=\"1\" class=\"dataframe\">\n",
       "  <thead>\n",
       "    <tr style=\"text-align: right;\">\n",
       "      <th></th>\n",
       "      <th>7106</th>\n",
       "      <th>29661</th>\n",
       "      <th>64110</th>\n",
       "      <th>20621</th>\n",
       "      <th>7103</th>\n",
       "      <th>18346</th>\n",
       "      <th>60954</th>\n",
       "      <th>34785</th>\n",
       "      <th>18224</th>\n",
       "      <th>17931</th>\n",
       "      <th>...</th>\n",
       "      <th>8270</th>\n",
       "      <th>18651</th>\n",
       "      <th>65723</th>\n",
       "      <th>14572</th>\n",
       "      <th>7002</th>\n",
       "      <th>14809</th>\n",
       "      <th>18355</th>\n",
       "      <th>12528</th>\n",
       "      <th>28786</th>\n",
       "      <th>14062</th>\n",
       "    </tr>\n",
       "    <tr>\n",
       "      <th>Date_index</th>\n",
       "      <th></th>\n",
       "      <th></th>\n",
       "      <th></th>\n",
       "      <th></th>\n",
       "      <th></th>\n",
       "      <th></th>\n",
       "      <th></th>\n",
       "      <th></th>\n",
       "      <th></th>\n",
       "      <th></th>\n",
       "      <th></th>\n",
       "      <th></th>\n",
       "      <th></th>\n",
       "      <th></th>\n",
       "      <th></th>\n",
       "      <th></th>\n",
       "      <th></th>\n",
       "      <th></th>\n",
       "      <th></th>\n",
       "      <th></th>\n",
       "      <th></th>\n",
       "    </tr>\n",
       "  </thead>\n",
       "  <tbody>\n",
       "    <tr>\n",
       "      <td>1996-04-01</td>\n",
       "      <td>91400.0</td>\n",
       "      <td>56500.0</td>\n",
       "      <td>59200.0</td>\n",
       "      <td>94300.0</td>\n",
       "      <td>78000.0</td>\n",
       "      <td>53600.0</td>\n",
       "      <td>78400.0</td>\n",
       "      <td>46400.0</td>\n",
       "      <td>41100.0</td>\n",
       "      <td>36700.0</td>\n",
       "      <td>...</td>\n",
       "      <td>93100.0</td>\n",
       "      <td>45400.0</td>\n",
       "      <td>29900.0</td>\n",
       "      <td>52200.0</td>\n",
       "      <td>145000.0</td>\n",
       "      <td>45900.0</td>\n",
       "      <td>60900.0</td>\n",
       "      <td>107600.0</td>\n",
       "      <td>48900.0</td>\n",
       "      <td>62800.0</td>\n",
       "    </tr>\n",
       "    <tr>\n",
       "      <td>1996-05-01</td>\n",
       "      <td>91300.0</td>\n",
       "      <td>56800.0</td>\n",
       "      <td>59500.0</td>\n",
       "      <td>95200.0</td>\n",
       "      <td>78100.0</td>\n",
       "      <td>53800.0</td>\n",
       "      <td>78300.0</td>\n",
       "      <td>46300.0</td>\n",
       "      <td>40900.0</td>\n",
       "      <td>36800.0</td>\n",
       "      <td>...</td>\n",
       "      <td>93300.0</td>\n",
       "      <td>45300.0</td>\n",
       "      <td>30300.0</td>\n",
       "      <td>52300.0</td>\n",
       "      <td>144500.0</td>\n",
       "      <td>45900.0</td>\n",
       "      <td>61000.0</td>\n",
       "      <td>107400.0</td>\n",
       "      <td>48900.0</td>\n",
       "      <td>62600.0</td>\n",
       "    </tr>\n",
       "    <tr>\n",
       "      <td>1996-06-01</td>\n",
       "      <td>91200.0</td>\n",
       "      <td>57200.0</td>\n",
       "      <td>59700.0</td>\n",
       "      <td>96000.0</td>\n",
       "      <td>78200.0</td>\n",
       "      <td>53900.0</td>\n",
       "      <td>78000.0</td>\n",
       "      <td>46200.0</td>\n",
       "      <td>40600.0</td>\n",
       "      <td>36800.0</td>\n",
       "      <td>...</td>\n",
       "      <td>93500.0</td>\n",
       "      <td>45200.0</td>\n",
       "      <td>30600.0</td>\n",
       "      <td>52400.0</td>\n",
       "      <td>143900.0</td>\n",
       "      <td>45800.0</td>\n",
       "      <td>61000.0</td>\n",
       "      <td>107300.0</td>\n",
       "      <td>48800.0</td>\n",
       "      <td>62500.0</td>\n",
       "    </tr>\n",
       "    <tr>\n",
       "      <td>1996-07-01</td>\n",
       "      <td>91200.0</td>\n",
       "      <td>57600.0</td>\n",
       "      <td>59900.0</td>\n",
       "      <td>96900.0</td>\n",
       "      <td>78300.0</td>\n",
       "      <td>54100.0</td>\n",
       "      <td>77900.0</td>\n",
       "      <td>46100.0</td>\n",
       "      <td>40400.0</td>\n",
       "      <td>36800.0</td>\n",
       "      <td>...</td>\n",
       "      <td>93600.0</td>\n",
       "      <td>45100.0</td>\n",
       "      <td>30900.0</td>\n",
       "      <td>52500.0</td>\n",
       "      <td>143300.0</td>\n",
       "      <td>45700.0</td>\n",
       "      <td>61100.0</td>\n",
       "      <td>107100.0</td>\n",
       "      <td>48500.0</td>\n",
       "      <td>62300.0</td>\n",
       "    </tr>\n",
       "    <tr>\n",
       "      <td>1996-08-01</td>\n",
       "      <td>91200.0</td>\n",
       "      <td>58000.0</td>\n",
       "      <td>60200.0</td>\n",
       "      <td>97700.0</td>\n",
       "      <td>78300.0</td>\n",
       "      <td>54200.0</td>\n",
       "      <td>77800.0</td>\n",
       "      <td>46000.0</td>\n",
       "      <td>40200.0</td>\n",
       "      <td>36800.0</td>\n",
       "      <td>...</td>\n",
       "      <td>93800.0</td>\n",
       "      <td>45000.0</td>\n",
       "      <td>31300.0</td>\n",
       "      <td>52500.0</td>\n",
       "      <td>142800.0</td>\n",
       "      <td>45700.0</td>\n",
       "      <td>61100.0</td>\n",
       "      <td>107000.0</td>\n",
       "      <td>48200.0</td>\n",
       "      <td>62100.0</td>\n",
       "    </tr>\n",
       "  </tbody>\n",
       "</table>\n",
       "<p>5 rows × 82 columns</p>\n",
       "</div>"
      ],
      "text/plain": [
       "              7106     29661    64110    20621    7103     18346    60954  \\\n",
       "Date_index                                                                  \n",
       "1996-04-01  91400.0  56500.0  59200.0  94300.0  78000.0  53600.0  78400.0   \n",
       "1996-05-01  91300.0  56800.0  59500.0  95200.0  78100.0  53800.0  78300.0   \n",
       "1996-06-01  91200.0  57200.0  59700.0  96000.0  78200.0  53900.0  78000.0   \n",
       "1996-07-01  91200.0  57600.0  59900.0  96900.0  78300.0  54100.0  77900.0   \n",
       "1996-08-01  91200.0  58000.0  60200.0  97700.0  78300.0  54200.0  77800.0   \n",
       "\n",
       "              34785    18224    17931  ...    8270     18651    65723  \\\n",
       "Date_index                             ...                              \n",
       "1996-04-01  46400.0  41100.0  36700.0  ...  93100.0  45400.0  29900.0   \n",
       "1996-05-01  46300.0  40900.0  36800.0  ...  93300.0  45300.0  30300.0   \n",
       "1996-06-01  46200.0  40600.0  36800.0  ...  93500.0  45200.0  30600.0   \n",
       "1996-07-01  46100.0  40400.0  36800.0  ...  93600.0  45100.0  30900.0   \n",
       "1996-08-01  46000.0  40200.0  36800.0  ...  93800.0  45000.0  31300.0   \n",
       "\n",
       "              14572     7002     14809    18355     12528    28786    14062  \n",
       "Date_index                                                                   \n",
       "1996-04-01  52200.0  145000.0  45900.0  60900.0  107600.0  48900.0  62800.0  \n",
       "1996-05-01  52300.0  144500.0  45900.0  61000.0  107400.0  48900.0  62600.0  \n",
       "1996-06-01  52400.0  143900.0  45800.0  61000.0  107300.0  48800.0  62500.0  \n",
       "1996-07-01  52500.0  143300.0  45700.0  61100.0  107100.0  48500.0  62300.0  \n",
       "1996-08-01  52500.0  142800.0  45700.0  61100.0  107000.0  48200.0  62100.0  \n",
       "\n",
       "[5 rows x 82 columns]"
      ]
     },
     "execution_count": 192,
     "metadata": {},
     "output_type": "execute_result"
    }
   ],
   "source": [
    "top_df.head()"
   ]
  },
  {
   "cell_type": "code",
   "execution_count": 7,
   "metadata": {
    "scrolled": true
   },
   "outputs": [
    {
     "data": {
      "image/png": "[encoded data removed]",
      "text/plain": [
       "<Figure size 432x288 with 1 Axes>"
      ]
     },
     "metadata": {
      "needs_background": "light"
     },
     "output_type": "display_data"
    }
   ],
   "source": [
    "## value greater than \n",
    "plot_acf(topfive_df[7106], lags=500, alpha=0.05, title = 'Essex')\n",
    "plt.show()\n",
    "# for col in topfive_df:\n",
    "#     plot_acf(topfive_df[col], lags=50, alpha=0.05, title=f'{col}')"
   ]
  },
  {
   "cell_type": "markdown",
   "metadata": {},
   "source": [
    "* **This sequence is repeating every twenty years**"
   ]
  },
  {
   "cell_type": "code",
   "execution_count": 8,
   "metadata": {},
   "outputs": [
    {
     "data": {
      "text/plain": [
       "array([1.        , 0.99324043, 0.98441982, 0.9742717 , 0.96320004])"
      ]
     },
     "execution_count": 8,
     "metadata": {},
     "output_type": "execute_result"
    }
   ],
   "source": [
    "#auto correlation function. A value greater than 0.05 is a viable AR order p\n",
    "acf(topfive_df[7106], nlags=50)[:5]"
   ]
  },
  {
   "cell_type": "markdown",
   "metadata": {},
   "source": [
    "* **Finding moving average order q using partial autocorrelation**"
   ]
  },
  {
   "cell_type": "code",
   "execution_count": 9,
   "metadata": {},
   "outputs": [
    {
     "data": {
      "image/png": "[encoded data removed]",
      "text/plain": [
       "<Figure size 432x288 with 1 Axes>"
      ]
     },
     "metadata": {
      "needs_background": "light"
     },
     "output_type": "display_data"
    }
   ],
   "source": [
    "#partial autocorrelation function. A value greater than 0.05 is a viable MA order q\n",
    "plot_pacf(topfive_df[7106], lags=40, alpha=0.05, title = 'Essex');"
   ]
  },
  {
   "cell_type": "markdown",
   "metadata": {},
   "source": [
    "* **since the diff() made the data stationary, the integrated d is 1.**"
   ]
  },
  {
   "cell_type": "code",
   "execution_count": 211,
   "metadata": {},
   "outputs": [
    {
     "data": {
      "text/plain": [
       "Int64Index([7106, 29661, 64110, 20621, 7103, 18346], dtype='int64')"
      ]
     },
     "execution_count": 211,
     "metadata": {},
     "output_type": "execute_result"
    }
   ],
   "source": [
    "#picking top zipcodes\n",
    "model_topzipcodes = top_df.columns[:6]\n",
    "model_topzipcodes"
   ]
  },
  {
   "cell_type": "code",
   "execution_count": 199,
   "metadata": {},
   "outputs": [],
   "source": [
    "# df = zillow_df[20621].diff().dropna().values\n",
    "# model_params = []\n",
    "\n",
    "# for p in range(1,3):\n",
    "#         for q in range(1,3):\n",
    "#             test_model = ARIMA(df, (p,0,q)).fit()\n",
    "#             test_bic = test_model.bic\n",
    "#             model_params.append((p, q, test_model, test_bic))\n"
   ]
  },
  {
   "cell_type": "code",
   "execution_count": 201,
   "metadata": {},
   "outputs": [],
   "source": [
    "# model_params[1][2].plot_predict(1, 300);"
   ]
  },
  {
   "cell_type": "code",
   "execution_count": null,
   "metadata": {},
   "outputs": [],
   "source": []
  },
  {
   "cell_type": "code",
   "execution_count": 264,
   "metadata": {
    "scrolled": true
   },
   "outputs": [
    {
     "name": "stderr",
     "output_type": "stream",
     "text": [
      "//anaconda3/envs/learn-env/lib/python3.6/site-packages/statsmodels/base/model.py:488: HessianInversionWarning: Inverting hessian failed, no bse or cov_params available\n",
      "  'available', HessianInversionWarning)\n",
      "//anaconda3/envs/learn-env/lib/python3.6/site-packages/statsmodels/base/model.py:488: HessianInversionWarning: Inverting hessian failed, no bse or cov_params available\n",
      "  'available', HessianInversionWarning)\n"
     ]
    }
   ],
   "source": [
    "stationarydata = zillow_df[95008].diff().dropna().values\n",
    "model_params = {}\n",
    "lowest_bic = None\n",
    "count = 0\n",
    "for p in range(1, 8):\n",
    "    for q in range(1,10):\n",
    "        count+=1\n",
    "        test_model = ARIMA(stationarydata, (p,1,q)).fit()\n",
    "        test_bic = test_model.bic\n",
    "       \n",
    "        if lowest_bic is None:\n",
    "            lowest_bic = test_bic\n",
    "        elif lowest_bic > test_bic:\n",
    "            lowest_bic = test_bic\n",
    "            \n",
    "            model_params['lowest_bic'] = lowest_bic\n",
    "            model_params['p'] = p\n",
    "            model_params['q'] = q\n",
    "            model_params['test_model'] = test_model\n",
    "        else:\n",
    "            break   "
   ]
  },
  {
   "cell_type": "code",
   "execution_count": 346,
   "metadata": {
    "scrolled": false
   },
   "outputs": [
    {
     "name": "stderr",
     "output_type": "stream",
     "text": [
      "//anaconda3/envs/learn-env/lib/python3.6/site-packages/statsmodels/base/model.py:488: HessianInversionWarning: Inverting hessian failed, no bse or cov_params available\n",
      "  'available', HessianInversionWarning)\n"
     ]
    }
   ],
   "source": [
    "santadata = zillow_df[95008].diff().dropna().values\n",
    "santa_model = ARIMA(santadata, (1,1,3)).fit()\n",
    "santa_forecast = santa_model.forecast(264)"
   ]
  },
  {
   "cell_type": "code",
   "execution_count": 358,
   "metadata": {},
   "outputs": [
    {
     "data": {
      "text/plain": [
       "264"
      ]
     },
     "execution_count": 358,
     "metadata": {},
     "output_type": "execute_result"
    }
   ],
   "source": [
    "len(santa_forecast[2])"
   ]
  },
  {
   "cell_type": "code",
   "execution_count": 361,
   "metadata": {},
   "outputs": [
    {
     "data": {
      "image/png": "[encoded data removed]",
      "text/plain": [
       "<Figure size 432x288 with 1 Axes>"
      ]
     },
     "metadata": {
      "needs_background": "light"
     },
     "output_type": "display_data"
    }
   ],
   "source": [
    "plt.plot(santa_forecast[2]);"
   ]
  },
  {
   "cell_type": "code",
   "execution_count": 362,
   "metadata": {},
   "outputs": [
    {
     "data": {
      "text/plain": [
       "(0.0, 262.0)"
      ]
     },
     "execution_count": 362,
     "metadata": {},
     "output_type": "execute_result"
    },
    {
     "data": {
      "image/png": "[encoded data removed]",
      "text/plain": [
       "<Figure size 432x288 with 1 Axes>"
      ]
     },
     "metadata": {
      "needs_background": "light"
     },
     "output_type": "display_data"
    }
   ],
   "source": [
    "santa_model.plot_predict()\n",
    "plt.plot(santa_forecast[2])\n",
    "\n",
    "#plt.plot(zillow_df[95008].diff().dropna().values)\n",
    "plt.xlim()"
   ]
  },
  {
   "cell_type": "code",
   "execution_count": 330,
   "metadata": {},
   "outputs": [
    {
     "data": {
      "text/html": [
       "<table class=\"simpletable\">\n",
       "<caption>ARIMA Model Results</caption>\n",
       "<tr>\n",
       "  <th>Dep. Variable:</th>        <td>D.y</td>       <th>  No. Observations:  </th>    <td>263</td>   \n",
       "</tr>\n",
       "<tr>\n",
       "  <th>Model:</th>          <td>ARIMA(1, 1, 3)</td>  <th>  Log Likelihood     </th> <td>-2340.199</td>\n",
       "</tr>\n",
       "<tr>\n",
       "  <th>Method:</th>             <td>css-mle</td>     <th>  S.D. of innovations</th> <td>1739.079</td> \n",
       "</tr>\n",
       "<tr>\n",
       "  <th>Date:</th>          <td>Thu, 03 Oct 2019</td> <th>  AIC                </th> <td>4692.398</td> \n",
       "</tr>\n",
       "<tr>\n",
       "  <th>Time:</th>              <td>16:22:00</td>     <th>  BIC                </th> <td>4713.831</td> \n",
       "</tr>\n",
       "<tr>\n",
       "  <th>Sample:</th>                <td>1</td>        <th>  HQIC               </th> <td>4701.011</td> \n",
       "</tr>\n",
       "<tr>\n",
       "  <th></th>                       <td> </td>        <th>                     </th>     <td> </td>    \n",
       "</tr>\n",
       "</table>\n",
       "<table class=\"simpletable\">\n",
       "<tr>\n",
       "      <td></td>         <th>coef</th>     <th>std err</th>      <th>z</th>      <th>P>|z|</th>  <th>[0.025</th>    <th>0.975]</th>  \n",
       "</tr>\n",
       "<tr>\n",
       "  <th>const</th>     <td>   65.4877</td> <td>  147.848</td> <td>    0.443</td> <td> 0.658</td> <td> -224.289</td> <td>  355.265</td>\n",
       "</tr>\n",
       "<tr>\n",
       "  <th>ar.L1.D.y</th> <td>   -0.1445</td> <td>    0.100</td> <td>   -1.443</td> <td> 0.150</td> <td>   -0.341</td> <td>    0.052</td>\n",
       "</tr>\n",
       "<tr>\n",
       "  <th>ma.L1.D.y</th> <td>    1.1368</td> <td>    0.080</td> <td>   14.152</td> <td> 0.000</td> <td>    0.979</td> <td>    1.294</td>\n",
       "</tr>\n",
       "<tr>\n",
       "  <th>ma.L2.D.y</th> <td>    0.0126</td> <td>    0.132</td> <td>    0.096</td> <td> 0.924</td> <td>   -0.245</td> <td>    0.271</td>\n",
       "</tr>\n",
       "<tr>\n",
       "  <th>ma.L3.D.y</th> <td>   -0.5763</td> <td>    0.078</td> <td>   -7.384</td> <td> 0.000</td> <td>   -0.729</td> <td>   -0.423</td>\n",
       "</tr>\n",
       "</table>\n",
       "<table class=\"simpletable\">\n",
       "<caption>Roots</caption>\n",
       "<tr>\n",
       "    <td></td>   <th>            Real</th>  <th>         Imaginary</th> <th>         Modulus</th>  <th>        Frequency</th>\n",
       "</tr>\n",
       "<tr>\n",
       "  <th>AR.1</th> <td>          -6.9195</td> <td>          +0.0000j</td> <td>           6.9195</td> <td>           0.5000</td>\n",
       "</tr>\n",
       "<tr>\n",
       "  <th>MA.1</th> <td>          -0.8566</td> <td>          -0.5160j</td> <td>           1.0000</td> <td>          -0.4137</td>\n",
       "</tr>\n",
       "<tr>\n",
       "  <th>MA.2</th> <td>          -0.8566</td> <td>          +0.5160j</td> <td>           1.0000</td> <td>           0.4137</td>\n",
       "</tr>\n",
       "<tr>\n",
       "  <th>MA.3</th> <td>           1.7351</td> <td>          -0.0000j</td> <td>           1.7351</td> <td>          -0.0000</td>\n",
       "</tr>\n",
       "</table>"
      ],
      "text/plain": [
       "<class 'statsmodels.iolib.summary.Summary'>\n",
       "\"\"\"\n",
       "                             ARIMA Model Results                              \n",
       "==============================================================================\n",
       "Dep. Variable:                    D.y   No. Observations:                  263\n",
       "Model:                 ARIMA(1, 1, 3)   Log Likelihood               -2340.199\n",
       "Method:                       css-mle   S.D. of innovations           1739.079\n",
       "Date:                Thu, 03 Oct 2019   AIC                           4692.398\n",
       "Time:                        16:22:00   BIC                           4713.831\n",
       "Sample:                             1   HQIC                          4701.011\n",
       "                                                                              \n",
       "==============================================================================\n",
       "                 coef    std err          z      P>|z|      [0.025      0.975]\n",
       "------------------------------------------------------------------------------\n",
       "const         65.4877    147.848      0.443      0.658    -224.289     355.265\n",
       "ar.L1.D.y     -0.1445      0.100     -1.443      0.150      -0.341       0.052\n",
       "ma.L1.D.y      1.1368      0.080     14.152      0.000       0.979       1.294\n",
       "ma.L2.D.y      0.0126      0.132      0.096      0.924      -0.245       0.271\n",
       "ma.L3.D.y     -0.5763      0.078     -7.384      0.000      -0.729      -0.423\n",
       "                                    Roots                                    \n",
       "=============================================================================\n",
       "                  Real          Imaginary           Modulus         Frequency\n",
       "-----------------------------------------------------------------------------\n",
       "AR.1           -6.9195           +0.0000j            6.9195            0.5000\n",
       "MA.1           -0.8566           -0.5160j            1.0000           -0.4137\n",
       "MA.2           -0.8566           +0.5160j            1.0000            0.4137\n",
       "MA.3            1.7351           -0.0000j            1.7351           -0.0000\n",
       "-----------------------------------------------------------------------------\n",
       "\"\"\""
      ]
     },
     "execution_count": 330,
     "metadata": {},
     "output_type": "execute_result"
    }
   ],
   "source": [
    "santa_model.summary()"
   ]
  },
  {
   "cell_type": "code",
   "execution_count": 324,
   "metadata": {},
   "outputs": [
    {
     "data": {
      "text/plain": [
       "Date_index\n",
       "1996-04-01     262100.0\n",
       "1996-05-01     263000.0\n",
       "1996-06-01     264000.0\n",
       "1996-07-01     265100.0\n",
       "1996-08-01     266400.0\n",
       "                ...    \n",
       "2017-12-01    1421000.0\n",
       "2018-01-01    1445700.0\n",
       "2018-02-01    1474600.0\n",
       "2018-03-01    1512900.0\n",
       "2018-04-01    1539900.0\n",
       "Name: 95008, Length: 265, dtype: float64"
      ]
     },
     "execution_count": 324,
     "metadata": {},
     "output_type": "execute_result"
    }
   ],
   "source": [
    "santa_forecast[0] = 262100.0 +np.cumsum()"
   ]
  },
  {
   "cell_type": "code",
   "execution_count": 323,
   "metadata": {},
   "outputs": [
    {
     "data": {
      "text/plain": [
       "65.48771109724996"
      ]
     },
     "execution_count": 323,
     "metadata": {},
     "output_type": "execute_result"
    }
   ],
   "source": []
  },
  {
   "cell_type": "code",
   "execution_count": 332,
   "metadata": {},
   "outputs": [
    {
     "data": {
      "image/png": "[encoded data removed]",
      "text/plain": [
       "<Figure size 432x288 with 1 Axes>"
      ]
     },
     "metadata": {
      "needs_background": "light"
     },
     "output_type": "display_data"
    }
   ],
   "source": [
    "plt.plot(santa_dollars[0] + np.cumsum(santa_forecast))\n",
    "plt.plot(zillow_df[95008].values);"
   ]
  },
  {
   "cell_type": "code",
   "execution_count": null,
   "metadata": {},
   "outputs": [],
   "source": []
  },
  {
   "cell_type": "code",
   "execution_count": 326,
   "metadata": {},
   "outputs": [
    {
     "data": {
      "text/plain": [
       "65.48773976605531"
      ]
     },
     "execution_count": 326,
     "metadata": {},
     "output_type": "execute_result"
    }
   ],
   "source": [
    "santa_forecast[-1]"
   ]
  },
  {
   "cell_type": "code",
   "execution_count": 325,
   "metadata": {},
   "outputs": [
    {
     "data": {
      "text/plain": [
       "array([262165.4877111 , 262244.21367949, 262311.87149165, 262460.47660104,\n",
       "       262527.41467212, 262717.48304635, 262730.6811418 , 263165.18696812,\n",
       "       263177.32536257, 263224.65529323, 263462.10342497, 263578.19852398,\n",
       "       263832.42025551, 263672.87335025, 264078.81566235, 263910.24942368,\n",
       "       263977.83491297, 264168.66711107, 263902.32243234, 264429.7005004 ,\n",
       "       263937.05766075, 264129.5026857 , 263856.98171999, 263900.68823185,\n",
       "       263832.88578971, 263490.31858022, 263768.09359284, 263121.13957178,\n",
       "       263437.64713075, 263414.83090679, 263218.20174915, 263939.02234661,\n",
       "       263657.52232498, 264169.34473978, 264095.45454916, 264695.27094887,\n",
       "       265126.88485596, 265197.32596323, 266165.06240989, 265806.48757289,\n",
       "       266798.36218218, 266704.6973632 , 267073.28380406, 267681.71342995,\n",
       "       267093.28589946, 267467.83940715, 266787.71262254, 267100.06959109,\n",
       "       266529.88506981, 266112.45442978, 266154.72627172, 265312.66958648,\n",
       "       265358.10095895, 264963.03173608, 264540.73564469, 264665.41172726,\n",
       "       264144.7659511 , 264118.25326846, 263694.45874308, 263505.79991046,\n",
       "       263578.53185087, 263276.33176225, 263603.08481136, 263553.67810435,\n",
       "       263795.25063742, 264186.23871221, 264379.09581824, 264980.79468733,\n",
       "       265430.26104491, 266117.06722169, 266350.33264651, 266544.85405994,\n",
       "       266931.01870135, 266630.07805125, 266838.82984995, 266325.93016649,\n",
       "       266206.17895268, 266215.16855467, 265884.39796   , 265376.15787571,\n",
       "       264693.00659452, 264852.46533851, 264488.56564397, 264482.10370872,\n",
       "       264965.59545777, 265523.9193926 , 266349.38428947, 266784.30206569,\n",
       "       267416.0642946 , 267769.12249862, 268018.85857132, 268649.39419674,\n",
       "       268420.25291284, 269036.49860843, 269344.25795819, 269510.75205535,\n",
       "       269615.62782321, 269321.77977692, 269342.64397482, 269145.67869459,\n",
       "       269582.66850951, 269781.88010641, 270092.72311152, 270175.71462334,\n",
       "       269874.77445616, 269650.54056697, 269339.2861874 , 268954.08519579,\n",
       "       268360.03286721, 268510.24979992, 267914.76744554, 267221.56468101,\n",
       "       267214.16395658, 266648.52236983, 266888.93209146, 266935.48293677,\n",
       "       266516.66620266, 266793.57704818, 266588.33587512, 266854.53704803,\n",
       "       267797.01590095, 267889.33768479, 268341.46133316, 268116.15936632,\n",
       "       268433.62157256, 268534.79348502, 268239.19994936, 269243.69789928,\n",
       "       268292.97462746, 268727.62506673, 267851.77875699, 267008.59083935,\n",
       "       267764.98653605, 267244.64100818, 267360.07750649, 266908.84738637,\n",
       "       266411.87747018, 266050.22936941, 266167.06939679, 266930.90865388,\n",
       "       266494.3150266 , 267597.58433464, 266618.29290402, 266708.30001395,\n",
       "       267817.79173778, 267256.28987294, 267687.50485563, 267595.18323385,\n",
       "       268098.86974386, 268134.89876546, 268559.84227269, 269299.35138788,\n",
       "       267817.04647479, 267600.33467803, 266056.34724941, 265959.61013725,\n",
       "       267243.55062273, 268389.10920898, 270282.19548671, 270898.88954355,\n",
       "       270844.96213606, 270775.97695369, 271199.91676482, 272100.63977257,\n",
       "       273367.13411339, 265801.39142609, 269738.05023142, 274716.53130564,\n",
       "       268210.59262904, 268021.45590976, 268929.39656011, 270202.89594182,\n",
       "       270678.21078721, 268063.18149696, 266847.2613202 , 267342.38171837,\n",
       "       267575.4168274 , 268672.14647825, 271899.30813487, 269900.85467832,\n",
       "       272628.62011036, 271691.85014044, 270378.19204215, 271279.70442019,\n",
       "       268974.75822449, 272430.41148031, 270444.18126961, 267388.15028516,\n",
       "       272509.96575193, 276954.06480293, 275951.26273544, 271932.34182943,\n",
       "       272114.14625376, 274642.2343098 , 273267.64607565, 274372.56416941,\n",
       "       272759.28764072, 276142.27351884, 273534.42828365, 272505.79362188,\n",
       "       272685.75918759, 274188.40173907, 274946.03716403, 273502.7737624 ,\n",
       "       278230.70324687, 276299.62404288, 271044.21281822, 270123.28408286,\n",
       "       269876.40991101, 270147.05904657, 273864.33599888, 275456.32723227,\n",
       "       274424.46403887, 272278.09277106, 273586.77489065, 276001.6682506 ,\n",
       "       272848.23055385, 274178.6783376 , 275605.69159624, 274448.61598287,\n",
       "       275971.27636417, 277209.62271692, 276246.80377276, 276720.44479423,\n",
       "       276881.96582895, 277744.12234469, 274126.10371389, 278420.57298301,\n",
       "       282021.80387913, 277181.25570297, 276285.31994832, 274950.10373031,\n",
       "       271849.00775522, 271072.59665686, 274193.8693769 , 272251.16695418,\n",
       "       273401.76563274, 273930.67031111, 273516.78358332, 274284.64708363,\n",
       "       273377.79158109, 273831.17395221, 275353.909254  , 273797.00306733,\n",
       "       274274.49773098, 274179.30675347, 277017.75564215, 281510.59007361,\n",
       "       281067.97551912, 275323.3091886 , 273616.66992764, 277683.01920879,\n",
       "       278445.47859736, 278107.92964691, 282462.56980633, 284527.73489769,\n",
       "       286304.30746661, 287105.91907931, 284436.68302168, 279662.12487182,\n",
       "       278102.75756549, 286193.94317901, 287770.77736105, 271537.40604396,\n",
       "       273041.22659681, 280320.23628427, 279343.22995021, 279559.37830083,\n",
       "       279603.092623  , 279671.72701173, 279736.75996679, 279802.31339897,\n",
       "       279867.79161209, 279933.28069583, 279998.76820855, 280064.25594832])"
      ]
     },
     "execution_count": 325,
     "metadata": {},
     "output_type": "execute_result"
    }
   ],
   "source": [
    "santa_dollars = np.cumsum(santa_forecast)+262100\n",
    "#santa_dollars[0] = 262100\n",
    "\n",
    "santa_dollars\n",
    "# plt.plot(zillow_df[95008].values)"
   ]
  },
  {
   "cell_type": "code",
   "execution_count": 277,
   "metadata": {},
   "outputs": [
    {
     "data": {
      "text/plain": [
       "Date_index\n",
       "1996-04-01     262100.0\n",
       "1996-05-01     263000.0\n",
       "1996-06-01     264000.0\n",
       "1996-07-01     265100.0\n",
       "1996-08-01     266400.0\n",
       "                ...    \n",
       "2017-12-01    1421000.0\n",
       "2018-01-01    1445700.0\n",
       "2018-02-01    1474600.0\n",
       "2018-03-01    1512900.0\n",
       "2018-04-01    1539900.0\n",
       "Name: 95008, Length: 265, dtype: float64"
      ]
     },
     "execution_count": 277,
     "metadata": {},
     "output_type": "execute_result"
    }
   ],
   "source": [
    "zillow_df[95008]"
   ]
  },
  {
   "cell_type": "code",
   "execution_count": 268,
   "metadata": {
    "scrolled": true
   },
   "outputs": [
    {
     "data": {
      "text/plain": [
       "(264, 300, 265)"
      ]
     },
     "execution_count": 268,
     "metadata": {},
     "output_type": "execute_result"
    }
   ],
   "source": [
    "len(santadata), len(santa_forecast), len(zillow_df[95008])"
   ]
  },
  {
   "cell_type": "code",
   "execution_count": null,
   "metadata": {},
   "outputs": [],
   "source": [
    "model = model_params['test_model']\n",
    "model.plot_predict(1, 300,);"
   ]
  },
  {
   "cell_type": "code",
   "execution_count": null,
   "metadata": {},
   "outputs": [],
   "source": [
    "model.plot_predict(1, 300)\n",
    "plt.xlabel('Number of months')\n",
    "plt.ylabel('Percentage return')\n",
    "plt.show()"
   ]
  },
  {
   "cell_type": "code",
   "execution_count": null,
   "metadata": {},
   "outputs": [],
   "source": [
    "model_two_df = zillow_cleandf[[94027, 90210, 94301, 33480, 94123]]\n",
    "model_two_df.head()"
   ]
  },
  {
   "cell_type": "code",
   "execution_count": null,
   "metadata": {},
   "outputs": [],
   "source": [
    "np.log(model_two_df).plot()\n",
    "plt.ylabel('log_price');"
   ]
  },
  {
   "cell_type": "code",
   "execution_count": null,
   "metadata": {},
   "outputs": [],
   "source": [
    "from model_builder import stationarity_test"
   ]
  },
  {
   "cell_type": "code",
   "execution_count": null,
   "metadata": {},
   "outputs": [],
   "source": [
    "stationarity_test(model_two_df,'pct_change()')"
   ]
  },
  {
   "cell_type": "code",
   "execution_count": null,
   "metadata": {},
   "outputs": [],
   "source": [
    "model_two = ARMA(model_two_df[94301].pct_change().dropna().values, (2,1)).fit()"
   ]
  },
  {
   "cell_type": "code",
   "execution_count": null,
   "metadata": {},
   "outputs": [],
   "source": [
    "model_two.plot_predict(1, 300)\n",
    "plt.xlabel('Number of months')\n",
    "plt.ylabel('price difference every two months')\n",
    "plt.show()"
   ]
  },
  {
   "cell_type": "code",
   "execution_count": null,
   "metadata": {},
   "outputs": [],
   "source": []
  }
 ],
 "metadata": {
  "kernelspec": {
   "display_name": "Python 3",
   "language": "python",
   "name": "python3"
  },
  "language_info": {
   "codemirror_mode": {
    "name": "ipython",
    "version": 3
   },
   "file_extension": ".py",
   "mimetype": "text/x-python",
   "name": "python",
   "nbconvert_exporter": "python",
   "pygments_lexer": "ipython3",
   "version": "3.6.6"
  }
 },
 "nbformat": 4,
 "nbformat_minor": 2
}
