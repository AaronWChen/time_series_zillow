{
 "cells": [
  {
   "cell_type": "code",
   "execution_count": 69,
   "metadata": {},
   "outputs": [
    {
     "name": "stdout",
     "output_type": "stream",
     "text": [
      "The autoreload extension is already loaded. To reload it, use:\n",
      "  %reload_ext autoreload\n"
     ]
    }
   ],
   "source": [
    "import numpy as np\n",
    "import pandas as pd\n",
    "from statsmodels.graphics.tsaplots import plot_acf, plot_pacf, acf, pacf\n",
    "from statsmodels.tsa.stattools import adfuller\n",
    "from statsmodels.tsa.arima_model import ARMA, ARIMA\n",
    "from model_builder import stationarity_test\n",
    "from criteria_housing import name_zipcode_area\n",
    "from matplotlib import pyplot as plt\n",
    "%load_ext autoreload\n",
    "%autoreload 2"
   ]
  },
  {
   "cell_type": "code",
   "execution_count": 144,
   "metadata": {},
   "outputs": [],
   "source": [
    "#loading all zipcodes pandas dataframes\n",
    "zillow_df = pd.read_csv('../write_data/zipcodes_all_price.csv',\n",
    "                        index_col = 0, parse_dates = True)\n",
    "zillow_df.columns = pd.to_numeric(zillow_df.columns)\n",
    "\n",
    "# loading top 100 ROI zipcodes pandas dataframes\n",
    "top_df = pd.read_csv('../write_data/top_monthly.csv', \n",
    "                     index_col = 0, parse_dates = True)\n",
    "top_df.columns = pd.to_numeric(top_df.columns)\n",
    "\n",
    "# loading bottom 100 ROI zipcodes pandas dataframes\n",
    "bottom_df = pd.read_csv('../write_data/bottom_monthly.csv', \n",
    "                        index_col = 0, parse_dates = True)\n",
    "bottom_df.columns = pd.to_numeric(bottom_df.columns)\n",
    "\n",
    "# loading random 100 ROI zipcodes pandas dataframes\n",
    "random_df = pd.read_csv('../write_data/random_monthly.csv', \n",
    "                        index_col = 0, parse_dates = True)\n",
    "random_df.columns = pd.to_numeric(random_df.columns)"
   ]
  },
  {
   "cell_type": "code",
   "execution_count": 143,
   "metadata": {},
   "outputs": [
    {
     "data": {
      "text/html": [
       "<div>\n",
       "<style scoped>\n",
       "    .dataframe tbody tr th:only-of-type {\n",
       "        vertical-align: middle;\n",
       "    }\n",
       "\n",
       "    .dataframe tbody tr th {\n",
       "        vertical-align: top;\n",
       "    }\n",
       "\n",
       "    .dataframe thead th {\n",
       "        text-align: right;\n",
       "    }\n",
       "</style>\n",
       "<table border=\"1\" class=\"dataframe\">\n",
       "  <thead>\n",
       "    <tr style=\"text-align: right;\">\n",
       "      <th></th>\n",
       "      <th>60657</th>\n",
       "      <th>75070</th>\n",
       "      <th>77494</th>\n",
       "      <th>60614</th>\n",
       "      <th>79936</th>\n",
       "      <th>77084</th>\n",
       "      <th>10467</th>\n",
       "      <th>60640</th>\n",
       "      <th>77449</th>\n",
       "      <th>94109</th>\n",
       "      <th>...</th>\n",
       "      <th>3765</th>\n",
       "      <th>84781</th>\n",
       "      <th>12429</th>\n",
       "      <th>97028</th>\n",
       "      <th>12720</th>\n",
       "      <th>1338</th>\n",
       "      <th>3293</th>\n",
       "      <th>40404</th>\n",
       "      <th>81225</th>\n",
       "      <th>89155</th>\n",
       "    </tr>\n",
       "    <tr>\n",
       "      <th>Date_index</th>\n",
       "      <th></th>\n",
       "      <th></th>\n",
       "      <th></th>\n",
       "      <th></th>\n",
       "      <th></th>\n",
       "      <th></th>\n",
       "      <th></th>\n",
       "      <th></th>\n",
       "      <th></th>\n",
       "      <th></th>\n",
       "      <th></th>\n",
       "      <th></th>\n",
       "      <th></th>\n",
       "      <th></th>\n",
       "      <th></th>\n",
       "      <th></th>\n",
       "      <th></th>\n",
       "      <th></th>\n",
       "      <th></th>\n",
       "      <th></th>\n",
       "      <th></th>\n",
       "    </tr>\n",
       "  </thead>\n",
       "  <tbody>\n",
       "    <tr>\n",
       "      <td>1996-04-01</td>\n",
       "      <td>334200.0</td>\n",
       "      <td>235700.0</td>\n",
       "      <td>210400.0</td>\n",
       "      <td>498100.0</td>\n",
       "      <td>77300.0</td>\n",
       "      <td>95000.0</td>\n",
       "      <td>152900.0</td>\n",
       "      <td>216500.0</td>\n",
       "      <td>95400.0</td>\n",
       "      <td>766000.0</td>\n",
       "      <td>...</td>\n",
       "      <td>80800.0</td>\n",
       "      <td>135900.0</td>\n",
       "      <td>78300.0</td>\n",
       "      <td>136200.0</td>\n",
       "      <td>62500.0</td>\n",
       "      <td>94600.0</td>\n",
       "      <td>92700.0</td>\n",
       "      <td>57100.0</td>\n",
       "      <td>191100.0</td>\n",
       "      <td>176400.0</td>\n",
       "    </tr>\n",
       "    <tr>\n",
       "      <td>1996-05-01</td>\n",
       "      <td>335400.0</td>\n",
       "      <td>236900.0</td>\n",
       "      <td>212200.0</td>\n",
       "      <td>500900.0</td>\n",
       "      <td>77300.0</td>\n",
       "      <td>95200.0</td>\n",
       "      <td>152700.0</td>\n",
       "      <td>216700.0</td>\n",
       "      <td>95600.0</td>\n",
       "      <td>771100.0</td>\n",
       "      <td>...</td>\n",
       "      <td>80100.0</td>\n",
       "      <td>136300.0</td>\n",
       "      <td>78300.0</td>\n",
       "      <td>136600.0</td>\n",
       "      <td>62600.0</td>\n",
       "      <td>94300.0</td>\n",
       "      <td>92500.0</td>\n",
       "      <td>57300.0</td>\n",
       "      <td>192400.0</td>\n",
       "      <td>176300.0</td>\n",
       "    </tr>\n",
       "    <tr>\n",
       "      <td>1996-06-01</td>\n",
       "      <td>336500.0</td>\n",
       "      <td>236700.0</td>\n",
       "      <td>212200.0</td>\n",
       "      <td>503100.0</td>\n",
       "      <td>77300.0</td>\n",
       "      <td>95400.0</td>\n",
       "      <td>152600.0</td>\n",
       "      <td>216900.0</td>\n",
       "      <td>95800.0</td>\n",
       "      <td>776500.0</td>\n",
       "      <td>...</td>\n",
       "      <td>79400.0</td>\n",
       "      <td>136600.0</td>\n",
       "      <td>78200.0</td>\n",
       "      <td>136800.0</td>\n",
       "      <td>62700.0</td>\n",
       "      <td>94000.0</td>\n",
       "      <td>92400.0</td>\n",
       "      <td>57500.0</td>\n",
       "      <td>193700.0</td>\n",
       "      <td>176100.0</td>\n",
       "    </tr>\n",
       "    <tr>\n",
       "      <td>1996-07-01</td>\n",
       "      <td>337600.0</td>\n",
       "      <td>235400.0</td>\n",
       "      <td>210700.0</td>\n",
       "      <td>504600.0</td>\n",
       "      <td>77300.0</td>\n",
       "      <td>95700.0</td>\n",
       "      <td>152400.0</td>\n",
       "      <td>217000.0</td>\n",
       "      <td>96100.0</td>\n",
       "      <td>781900.0</td>\n",
       "      <td>...</td>\n",
       "      <td>78600.0</td>\n",
       "      <td>136900.0</td>\n",
       "      <td>78200.0</td>\n",
       "      <td>136800.0</td>\n",
       "      <td>62700.0</td>\n",
       "      <td>93700.0</td>\n",
       "      <td>92200.0</td>\n",
       "      <td>57700.0</td>\n",
       "      <td>195000.0</td>\n",
       "      <td>176000.0</td>\n",
       "    </tr>\n",
       "    <tr>\n",
       "      <td>1996-08-01</td>\n",
       "      <td>338500.0</td>\n",
       "      <td>233300.0</td>\n",
       "      <td>208300.0</td>\n",
       "      <td>505500.0</td>\n",
       "      <td>77400.0</td>\n",
       "      <td>95900.0</td>\n",
       "      <td>152300.0</td>\n",
       "      <td>217100.0</td>\n",
       "      <td>96400.0</td>\n",
       "      <td>787300.0</td>\n",
       "      <td>...</td>\n",
       "      <td>77900.0</td>\n",
       "      <td>137100.0</td>\n",
       "      <td>78100.0</td>\n",
       "      <td>136700.0</td>\n",
       "      <td>62700.0</td>\n",
       "      <td>93400.0</td>\n",
       "      <td>92100.0</td>\n",
       "      <td>58000.0</td>\n",
       "      <td>196300.0</td>\n",
       "      <td>175900.0</td>\n",
       "    </tr>\n",
       "  </tbody>\n",
       "</table>\n",
       "<p>5 rows × 14723 columns</p>\n",
       "</div>"
      ],
      "text/plain": [
       "               60657     75070     77494     60614    79936    77084  \\\n",
       "Date_index                                                             \n",
       "1996-04-01  334200.0  235700.0  210400.0  498100.0  77300.0  95000.0   \n",
       "1996-05-01  335400.0  236900.0  212200.0  500900.0  77300.0  95200.0   \n",
       "1996-06-01  336500.0  236700.0  212200.0  503100.0  77300.0  95400.0   \n",
       "1996-07-01  337600.0  235400.0  210700.0  504600.0  77300.0  95700.0   \n",
       "1996-08-01  338500.0  233300.0  208300.0  505500.0  77400.0  95900.0   \n",
       "\n",
       "               10467     60640    77449     94109  ...     3765     84781  \\\n",
       "Date_index                                         ...                      \n",
       "1996-04-01  152900.0  216500.0  95400.0  766000.0  ...  80800.0  135900.0   \n",
       "1996-05-01  152700.0  216700.0  95600.0  771100.0  ...  80100.0  136300.0   \n",
       "1996-06-01  152600.0  216900.0  95800.0  776500.0  ...  79400.0  136600.0   \n",
       "1996-07-01  152400.0  217000.0  96100.0  781900.0  ...  78600.0  136900.0   \n",
       "1996-08-01  152300.0  217100.0  96400.0  787300.0  ...  77900.0  137100.0   \n",
       "\n",
       "              12429     97028    12720     1338     3293    40404     81225  \\\n",
       "Date_index                                                                    \n",
       "1996-04-01  78300.0  136200.0  62500.0  94600.0  92700.0  57100.0  191100.0   \n",
       "1996-05-01  78300.0  136600.0  62600.0  94300.0  92500.0  57300.0  192400.0   \n",
       "1996-06-01  78200.0  136800.0  62700.0  94000.0  92400.0  57500.0  193700.0   \n",
       "1996-07-01  78200.0  136800.0  62700.0  93700.0  92200.0  57700.0  195000.0   \n",
       "1996-08-01  78100.0  136700.0  62700.0  93400.0  92100.0  58000.0  196300.0   \n",
       "\n",
       "               89155  \n",
       "Date_index            \n",
       "1996-04-01  176400.0  \n",
       "1996-05-01  176300.0  \n",
       "1996-06-01  176100.0  \n",
       "1996-07-01  176000.0  \n",
       "1996-08-01  175900.0  \n",
       "\n",
       "[5 rows x 14723 columns]"
      ]
     },
     "execution_count": 143,
     "metadata": {},
     "output_type": "execute_result"
    }
   ],
   "source": [
    "zillow_df.head()"
   ]
  },
  {
   "cell_type": "code",
   "execution_count": 34,
   "metadata": {},
   "outputs": [],
   "source": [
    "#Selecting top, bottom and five ROI zipcodes\n",
    "topfive_zipcodes = top_df.columns[:5]\n",
    "topfive_df = top_df[topfive_zipcodes]\n",
    "\n",
    "bottomfive_zipcodes = bottom_df.columns[-5:]\n",
    "bottomfive_df = bottom_df[bottomfive_zipcodes]\n",
    "\n",
    "randomfive_zipcodes = random_df.columns[:5]\n",
    "randomfive_df = random_df[randomfive_zipcodes]"
   ]
  },
  {
   "cell_type": "code",
   "execution_count": 46,
   "metadata": {},
   "outputs": [
    {
     "data": {
      "text/html": [
       "<div>\n",
       "<style scoped>\n",
       "    .dataframe tbody tr th:only-of-type {\n",
       "        vertical-align: middle;\n",
       "    }\n",
       "\n",
       "    .dataframe tbody tr th {\n",
       "        vertical-align: top;\n",
       "    }\n",
       "\n",
       "    .dataframe thead th {\n",
       "        text-align: right;\n",
       "    }\n",
       "</style>\n",
       "<table border=\"1\" class=\"dataframe\">\n",
       "  <thead>\n",
       "    <tr style=\"text-align: right;\">\n",
       "      <th></th>\n",
       "      <th>7106</th>\n",
       "      <th>29661</th>\n",
       "      <th>64110</th>\n",
       "      <th>20621</th>\n",
       "      <th>7103</th>\n",
       "    </tr>\n",
       "    <tr>\n",
       "      <th>Date_index</th>\n",
       "      <th></th>\n",
       "      <th></th>\n",
       "      <th></th>\n",
       "      <th></th>\n",
       "      <th></th>\n",
       "    </tr>\n",
       "  </thead>\n",
       "  <tbody>\n",
       "    <tr>\n",
       "      <td>1996-04-01</td>\n",
       "      <td>91400.0</td>\n",
       "      <td>56500.0</td>\n",
       "      <td>59200.0</td>\n",
       "      <td>94300.0</td>\n",
       "      <td>78000.0</td>\n",
       "    </tr>\n",
       "    <tr>\n",
       "      <td>1996-05-01</td>\n",
       "      <td>91300.0</td>\n",
       "      <td>56800.0</td>\n",
       "      <td>59500.0</td>\n",
       "      <td>95200.0</td>\n",
       "      <td>78100.0</td>\n",
       "    </tr>\n",
       "    <tr>\n",
       "      <td>1996-06-01</td>\n",
       "      <td>91200.0</td>\n",
       "      <td>57200.0</td>\n",
       "      <td>59700.0</td>\n",
       "      <td>96000.0</td>\n",
       "      <td>78200.0</td>\n",
       "    </tr>\n",
       "    <tr>\n",
       "      <td>1996-07-01</td>\n",
       "      <td>91200.0</td>\n",
       "      <td>57600.0</td>\n",
       "      <td>59900.0</td>\n",
       "      <td>96900.0</td>\n",
       "      <td>78300.0</td>\n",
       "    </tr>\n",
       "    <tr>\n",
       "      <td>1996-08-01</td>\n",
       "      <td>91200.0</td>\n",
       "      <td>58000.0</td>\n",
       "      <td>60200.0</td>\n",
       "      <td>97700.0</td>\n",
       "      <td>78300.0</td>\n",
       "    </tr>\n",
       "  </tbody>\n",
       "</table>\n",
       "</div>"
      ],
      "text/plain": [
       "              7106     29661    64110    20621    7103 \n",
       "Date_index                                             \n",
       "1996-04-01  91400.0  56500.0  59200.0  94300.0  78000.0\n",
       "1996-05-01  91300.0  56800.0  59500.0  95200.0  78100.0\n",
       "1996-06-01  91200.0  57200.0  59700.0  96000.0  78200.0\n",
       "1996-07-01  91200.0  57600.0  59900.0  96900.0  78300.0\n",
       "1996-08-01  91200.0  58000.0  60200.0  97700.0  78300.0"
      ]
     },
     "execution_count": 46,
     "metadata": {},
     "output_type": "execute_result"
    }
   ],
   "source": [
    "topfive_df.head()"
   ]
  },
  {
   "cell_type": "code",
   "execution_count": 36,
   "metadata": {
    "scrolled": true
   },
   "outputs": [
    {
     "data": {
      "text/html": [
       "<div>\n",
       "<style scoped>\n",
       "    .dataframe tbody tr th:only-of-type {\n",
       "        vertical-align: middle;\n",
       "    }\n",
       "\n",
       "    .dataframe tbody tr th {\n",
       "        vertical-align: top;\n",
       "    }\n",
       "\n",
       "    .dataframe thead th {\n",
       "        text-align: right;\n",
       "    }\n",
       "</style>\n",
       "<table border=\"1\" class=\"dataframe\">\n",
       "  <thead>\n",
       "    <tr style=\"text-align: right;\">\n",
       "      <th></th>\n",
       "      <th>RegionID</th>\n",
       "      <th>RegionName</th>\n",
       "      <th>City</th>\n",
       "      <th>State</th>\n",
       "      <th>Metro</th>\n",
       "      <th>CountyName</th>\n",
       "    </tr>\n",
       "  </thead>\n",
       "  <tbody>\n",
       "    <tr>\n",
       "      <td>4211</td>\n",
       "      <td>60610</td>\n",
       "      <td>7106</td>\n",
       "      <td>Newark</td>\n",
       "      <td>NJ</td>\n",
       "      <td>New York</td>\n",
       "      <td>Essex</td>\n",
       "    </tr>\n",
       "    <tr>\n",
       "      <td>10069</td>\n",
       "      <td>70641</td>\n",
       "      <td>29661</td>\n",
       "      <td>Marietta</td>\n",
       "      <td>SC</td>\n",
       "      <td>Greenville</td>\n",
       "      <td>Greenville</td>\n",
       "    </tr>\n",
       "    <tr>\n",
       "      <td>6216</td>\n",
       "      <td>86349</td>\n",
       "      <td>64110</td>\n",
       "      <td>Kansas City</td>\n",
       "      <td>MO</td>\n",
       "      <td>Kansas City</td>\n",
       "      <td>Jackson</td>\n",
       "    </tr>\n",
       "    <tr>\n",
       "      <td>14244</td>\n",
       "      <td>66512</td>\n",
       "      <td>20621</td>\n",
       "      <td>Chaptico</td>\n",
       "      <td>MD</td>\n",
       "      <td>California-Lexington Park</td>\n",
       "      <td>Saint Marys</td>\n",
       "    </tr>\n",
       "    <tr>\n",
       "      <td>3540</td>\n",
       "      <td>60607</td>\n",
       "      <td>7103</td>\n",
       "      <td>Newark</td>\n",
       "      <td>NJ</td>\n",
       "      <td>New York</td>\n",
       "      <td>Essex</td>\n",
       "    </tr>\n",
       "  </tbody>\n",
       "</table>\n",
       "</div>"
      ],
      "text/plain": [
       "       RegionID  RegionName         City State                      Metro  \\\n",
       "4211      60610        7106       Newark    NJ                   New York   \n",
       "10069     70641       29661     Marietta    SC                 Greenville   \n",
       "6216      86349       64110  Kansas City    MO                Kansas City   \n",
       "14244     66512       20621     Chaptico    MD  California-Lexington Park   \n",
       "3540      60607        7103       Newark    NJ                   New York   \n",
       "\n",
       "        CountyName  \n",
       "4211         Essex  \n",
       "10069   Greenville  \n",
       "6216       Jackson  \n",
       "14244  Saint Marys  \n",
       "3540         Essex  "
      ]
     },
     "execution_count": 36,
     "metadata": {},
     "output_type": "execute_result"
    }
   ],
   "source": [
    "#loading state, county and region details for our data\n",
    "region_df = pd.read_csv('../write_data/regions_zipcode.csv', index_col=0)\n",
    "\n",
    "name_zipcode_area(region_df, topfive_zipcodes)"
   ]
  },
  {
   "cell_type": "markdown",
   "metadata": {},
   "source": [
    "* **Checking for stationarity of data before building models**"
   ]
  },
  {
   "cell_type": "code",
   "execution_count": null,
   "metadata": {},
   "outputs": [],
   "source": [
    "zillow"
   ]
  },
  {
   "cell_type": "code",
   "execution_count": 37,
   "metadata": {
    "scrolled": true
   },
   "outputs": [
    {
     "data": {
      "text/plain": [
       "[(7106, 1, 0.0),\n",
       " (29661, 1, 0.0),\n",
       " (64110, 1, 0.0),\n",
       " (20621, 1, 0.0),\n",
       " (7103, 1, 0.0)]"
      ]
     },
     "execution_count": 37,
     "metadata": {},
     "output_type": "execute_result"
    }
   ],
   "source": [
    "##adfuller stationarity test on topfive_df\n",
    "stationarity_test(topfive_df, 'diff()')"
   ]
  },
  {
   "cell_type": "code",
   "execution_count": 38,
   "metadata": {},
   "outputs": [
    {
     "data": {
      "text/plain": [
       "[(71238, 1, 0.0),\n",
       " (10128, 1, 0.0),\n",
       " (11222, 1, 0.0),\n",
       " (16625, 1, 0.0),\n",
       " (70090, 1, 5.8212270740707495e-30)]"
      ]
     },
     "execution_count": 38,
     "metadata": {},
     "output_type": "execute_result"
    }
   ],
   "source": [
    "##adfuller stationarity test on bottomfive_df\n",
    "stationarity_test(bottomfive_df, 'diff()')"
   ]
  },
  {
   "cell_type": "code",
   "execution_count": 39,
   "metadata": {},
   "outputs": [
    {
     "data": {
      "text/plain": [
       "[(21029, 1, 0.0),\n",
       " (91403, 1, 0.0),\n",
       " (68005, 1, 0.0),\n",
       " (85028, 1, 0.0),\n",
       " (65550, 1, 2.331654935886499e-30)]"
      ]
     },
     "execution_count": 39,
     "metadata": {},
     "output_type": "execute_result"
    }
   ],
   "source": [
    "##adfuller stationarity test on randomfive_df\n",
    "stationarity_test(randomfive_df, 'diff()')"
   ]
  },
  {
   "cell_type": "markdown",
   "metadata": {},
   "source": [
    "* **Finding autoregressive order p using autocorrelation**"
   ]
  },
  {
   "cell_type": "code",
   "execution_count": 73,
   "metadata": {
    "scrolled": true
   },
   "outputs": [
    {
     "data": {
      "image/png": "[encoded data removed]",
      "text/plain": [
       "<Figure size 432x288 with 1 Axes>"
      ]
     },
     "metadata": {
      "needs_background": "light"
     },
     "output_type": "display_data"
    }
   ],
   "source": [
    "## value greater than \n",
    "plot_acf(topfive_df[7106], lags=500, alpha=0.05, title = 'Essex')\n",
    "plt.show()\n",
    "# for col in topfive_df:\n",
    "#     plot_acf(topfive_df[col], lags=50, alpha=0.05, title=f'{col}')"
   ]
  },
  {
   "cell_type": "markdown",
   "metadata": {},
   "source": [
    "* **This sequence is repeating every twenty years**"
   ]
  },
  {
   "cell_type": "code",
   "execution_count": 76,
   "metadata": {},
   "outputs": [
    {
     "data": {
      "text/plain": [
       "array([1.        , 0.99324043, 0.98441982, 0.9742717 , 0.96320004,\n",
       "       0.95129874, 0.93866163, 0.92554799, 0.9120326 , 0.89830622,\n",
       "       0.88445702, 0.87059132, 0.85689951, 0.84352079, 0.83006641,\n",
       "       0.81611242, 0.80144935, 0.78609997, 0.76993182, 0.75277352,\n",
       "       0.73449611, 0.71478854, 0.69358117, 0.67120172, 0.64798619,\n",
       "       0.62397142, 0.59929662, 0.57437719, 0.54950846, 0.52453367,\n",
       "       0.49936753, 0.47423061, 0.44918389, 0.42434404, 0.39985428,\n",
       "       0.37582555, 0.3522558 , 0.32917878, 0.30656275, 0.28416973,\n",
       "       0.26188109, 0.23965167, 0.21724504, 0.1945141 , 0.17172762,\n",
       "       0.14925694, 0.12728104, 0.10568035, 0.08423087, 0.06294148,\n",
       "       0.04198906])"
      ]
     },
     "execution_count": 76,
     "metadata": {},
     "output_type": "execute_result"
    }
   ],
   "source": [
    "#auto correlation function. A value greater than 0.05 is a viable AR order p\n",
    "acf(topfive_df[7106], nlags=50)"
   ]
  },
  {
   "cell_type": "markdown",
   "metadata": {},
   "source": [
    "* **Finding moving average order q using partial autocorrelation**"
   ]
  },
  {
   "cell_type": "code",
   "execution_count": 89,
   "metadata": {},
   "outputs": [
    {
     "data": {
      "image/png": "[encoded data removed]",
      "text/plain": [
       "<Figure size 432x288 with 1 Axes>"
      ]
     },
     "metadata": {
      "needs_background": "light"
     },
     "output_type": "display_data"
    }
   ],
   "source": [
    "#partial autocorrelation function. A value greater than 0.05 is a viable MA order q\n",
    "plot_pacf(topfive_df[7106], lags=40, alpha=0.05, title = 'Essex');"
   ]
  },
  {
   "cell_type": "markdown",
   "metadata": {},
   "source": [
    "* **since the diff() made the data stationary, the integrated d is 1.**"
   ]
  },
  {
   "cell_type": "code",
   "execution_count": 137,
   "metadata": {},
   "outputs": [
    {
     "name": "stdout",
     "output_type": "stream",
     "text": [
      "3\n"
     ]
    }
   ],
   "source": [
    "lowest_num = None\n",
    "lis = [7, 6, 5, 3, 4, 2]\n",
    "for i in lis:\n",
    "    if lowest_num is None:\n",
    "        lowest_num=i\n",
    "    elif lowest_num > i:\n",
    "        lowest_num=i\n",
    "    else:\n",
    "        print(lowest_num)\n"
   ]
  },
  {
   "cell_type": "code",
   "execution_count": 101,
   "metadata": {},
   "outputs": [],
   "source": [
    "# bic_list = []\n",
    "# bic_lowest = None \n",
    "# for p in range(1,5):\n",
    "#     for q in range(1,5):\n",
    "#         test_model = ARMA(topfive_df[7106].diff().dropna().values, (p,q)).fit()\n",
    "#         test_bic = test_model.bic\n",
    "#         bic_list.append((test_bic, p, q))"
   ]
  },
  {
   "cell_type": "code",
   "execution_count": 174,
   "metadata": {},
   "outputs": [
    {
     "data": {
      "text/html": [
       "<div>\n",
       "<style scoped>\n",
       "    .dataframe tbody tr th:only-of-type {\n",
       "        vertical-align: middle;\n",
       "    }\n",
       "\n",
       "    .dataframe tbody tr th {\n",
       "        vertical-align: top;\n",
       "    }\n",
       "\n",
       "    .dataframe thead th {\n",
       "        text-align: right;\n",
       "    }\n",
       "</style>\n",
       "<table border=\"1\" class=\"dataframe\">\n",
       "  <thead>\n",
       "    <tr style=\"text-align: right;\">\n",
       "      <th></th>\n",
       "      <th>7106_actual</th>\n",
       "    </tr>\n",
       "  </thead>\n",
       "  <tbody>\n",
       "    <tr>\n",
       "      <td>0</td>\n",
       "      <td>NaN</td>\n",
       "    </tr>\n",
       "    <tr>\n",
       "      <td>1</td>\n",
       "      <td>-100.0</td>\n",
       "    </tr>\n",
       "    <tr>\n",
       "      <td>2</td>\n",
       "      <td>-100.0</td>\n",
       "    </tr>\n",
       "    <tr>\n",
       "      <td>3</td>\n",
       "      <td>0.0</td>\n",
       "    </tr>\n",
       "    <tr>\n",
       "      <td>4</td>\n",
       "      <td>0.0</td>\n",
       "    </tr>\n",
       "  </tbody>\n",
       "</table>\n",
       "</div>"
      ],
      "text/plain": [
       "   7106_actual\n",
       "0          NaN\n",
       "1       -100.0\n",
       "2       -100.0\n",
       "3          0.0\n",
       "4          0.0"
      ]
     },
     "execution_count": 174,
     "metadata": {},
     "output_type": "execute_result"
    }
   ],
   "source": [
    "stationary_7106_df = pd.DataFrame(zillow_df[7106].diff().values, columns = ['7106_actual'])\n",
    "stationary_7106_df.head()"
   ]
  },
  {
   "cell_type": "code",
   "execution_count": 155,
   "metadata": {},
   "outputs": [
    {
     "name": "stdout",
     "output_type": "stream",
     "text": [
      "(539063.4660622405, 4, 1)\n",
      "(539063.4660622405, 5, 1)\n",
      "(539063.4660622405, 6, 1)\n",
      "(539063.4660622405, 7, 1)\n"
     ]
    },
    {
     "ename": "KeyboardInterrupt",
     "evalue": "",
     "output_type": "error",
     "traceback": [
      "\u001b[0;31m---------------------------------------------------------------------------\u001b[0m",
      "\u001b[0;31mKeyboardInterrupt\u001b[0m                         Traceback (most recent call last)",
      "\u001b[0;32m<ipython-input-155-54714f5a4881>\u001b[0m in \u001b[0;36m<module>\u001b[0;34m()\u001b[0m\n\u001b[1;32m      4\u001b[0m \u001b[0;32mfor\u001b[0m \u001b[0mp\u001b[0m \u001b[0;32min\u001b[0m \u001b[0mrange\u001b[0m\u001b[0;34m(\u001b[0m\u001b[0;36m1\u001b[0m\u001b[0;34m,\u001b[0m\u001b[0;36m20\u001b[0m\u001b[0;34m)\u001b[0m\u001b[0;34m:\u001b[0m\u001b[0;34m\u001b[0m\u001b[0m\n\u001b[1;32m      5\u001b[0m     \u001b[0;32mfor\u001b[0m \u001b[0mq\u001b[0m \u001b[0;32min\u001b[0m \u001b[0mrange\u001b[0m\u001b[0;34m(\u001b[0m\u001b[0;36m1\u001b[0m\u001b[0;34m,\u001b[0m\u001b[0;36m5\u001b[0m\u001b[0;34m)\u001b[0m\u001b[0;34m:\u001b[0m\u001b[0;34m\u001b[0m\u001b[0m\n\u001b[0;32m----> 6\u001b[0;31m         \u001b[0mtest_model\u001b[0m \u001b[0;34m=\u001b[0m \u001b[0mARMA\u001b[0m\u001b[0;34m(\u001b[0m\u001b[0mstationarydata\u001b[0m\u001b[0;34m,\u001b[0m \u001b[0;34m(\u001b[0m\u001b[0mp\u001b[0m\u001b[0;34m,\u001b[0m\u001b[0;36m1\u001b[0m\u001b[0;34m)\u001b[0m\u001b[0;34m)\u001b[0m\u001b[0;34m.\u001b[0m\u001b[0mfit\u001b[0m\u001b[0;34m(\u001b[0m\u001b[0;34m)\u001b[0m\u001b[0;34m\u001b[0m\u001b[0m\n\u001b[0m\u001b[1;32m      7\u001b[0m         \u001b[0mtest_bic\u001b[0m \u001b[0;34m=\u001b[0m \u001b[0mtest_model\u001b[0m\u001b[0;34m.\u001b[0m\u001b[0mbic\u001b[0m\u001b[0;34m\u001b[0m\u001b[0m\n\u001b[1;32m      8\u001b[0m \u001b[0;34m\u001b[0m\u001b[0m\n",
      "\u001b[0;32m//anaconda3/envs/learn-env/lib/python3.6/site-packages/statsmodels/tsa/arima_model.py\u001b[0m in \u001b[0;36mfit\u001b[0;34m(self, start_params, trend, method, transparams, solver, maxiter, full_output, disp, callback, start_ar_lags, **kwargs)\u001b[0m\n\u001b[1;32m    957\u001b[0m                                        \u001b[0mmaxiter\u001b[0m\u001b[0;34m=\u001b[0m\u001b[0mmaxiter\u001b[0m\u001b[0;34m,\u001b[0m\u001b[0;34m\u001b[0m\u001b[0m\n\u001b[1;32m    958\u001b[0m                                        \u001b[0mfull_output\u001b[0m\u001b[0;34m=\u001b[0m\u001b[0mfull_output\u001b[0m\u001b[0;34m,\u001b[0m \u001b[0mdisp\u001b[0m\u001b[0;34m=\u001b[0m\u001b[0mdisp\u001b[0m\u001b[0;34m,\u001b[0m\u001b[0;34m\u001b[0m\u001b[0m\n\u001b[0;32m--> 959\u001b[0;31m                                        callback=callback, **kwargs)\n\u001b[0m\u001b[1;32m    960\u001b[0m         \u001b[0mparams\u001b[0m \u001b[0;34m=\u001b[0m \u001b[0mmlefit\u001b[0m\u001b[0;34m.\u001b[0m\u001b[0mparams\u001b[0m\u001b[0;34m\u001b[0m\u001b[0m\n\u001b[1;32m    961\u001b[0m \u001b[0;34m\u001b[0m\u001b[0m\n",
      "\u001b[0;32m//anaconda3/envs/learn-env/lib/python3.6/site-packages/statsmodels/base/model.py\u001b[0m in \u001b[0;36mfit\u001b[0;34m(self, start_params, method, maxiter, full_output, disp, fargs, callback, retall, skip_hessian, **kwargs)\u001b[0m\n\u001b[1;32m    473\u001b[0m             \u001b[0mHinv\u001b[0m \u001b[0;34m=\u001b[0m \u001b[0mnp\u001b[0m\u001b[0;34m.\u001b[0m\u001b[0mlinalg\u001b[0m\u001b[0;34m.\u001b[0m\u001b[0minv\u001b[0m\u001b[0;34m(\u001b[0m\u001b[0;34m-\u001b[0m\u001b[0mretvals\u001b[0m\u001b[0;34m[\u001b[0m\u001b[0;34m'Hessian'\u001b[0m\u001b[0;34m]\u001b[0m\u001b[0;34m)\u001b[0m \u001b[0;34m/\u001b[0m \u001b[0mnobs\u001b[0m\u001b[0;34m\u001b[0m\u001b[0m\n\u001b[1;32m    474\u001b[0m         \u001b[0;32melif\u001b[0m \u001b[0;32mnot\u001b[0m \u001b[0mskip_hessian\u001b[0m\u001b[0;34m:\u001b[0m\u001b[0;34m\u001b[0m\u001b[0m\n\u001b[0;32m--> 475\u001b[0;31m             \u001b[0mH\u001b[0m \u001b[0;34m=\u001b[0m \u001b[0;34m-\u001b[0m\u001b[0;36m1\u001b[0m \u001b[0;34m*\u001b[0m \u001b[0mself\u001b[0m\u001b[0;34m.\u001b[0m\u001b[0mhessian\u001b[0m\u001b[0;34m(\u001b[0m\u001b[0mxopt\u001b[0m\u001b[0;34m)\u001b[0m\u001b[0;34m\u001b[0m\u001b[0m\n\u001b[0m\u001b[1;32m    476\u001b[0m             \u001b[0minvertible\u001b[0m \u001b[0;34m=\u001b[0m \u001b[0;32mFalse\u001b[0m\u001b[0;34m\u001b[0m\u001b[0m\n\u001b[1;32m    477\u001b[0m             \u001b[0;32mif\u001b[0m \u001b[0mnp\u001b[0m\u001b[0;34m.\u001b[0m\u001b[0mall\u001b[0m\u001b[0;34m(\u001b[0m\u001b[0mnp\u001b[0m\u001b[0;34m.\u001b[0m\u001b[0misfinite\u001b[0m\u001b[0;34m(\u001b[0m\u001b[0mH\u001b[0m\u001b[0;34m)\u001b[0m\u001b[0;34m)\u001b[0m\u001b[0;34m:\u001b[0m\u001b[0;34m\u001b[0m\u001b[0m\n",
      "\u001b[0;32m//anaconda3/envs/learn-env/lib/python3.6/site-packages/statsmodels/tsa/arima_model.py\u001b[0m in \u001b[0;36mhessian\u001b[0;34m(self, params)\u001b[0m\n\u001b[1;32m    591\u001b[0m         \u001b[0mThis\u001b[0m \u001b[0;32mis\u001b[0m \u001b[0ma\u001b[0m \u001b[0mnumerical\u001b[0m \u001b[0mapproximation\u001b[0m\u001b[0;34m.\u001b[0m\u001b[0;34m\u001b[0m\u001b[0m\n\u001b[1;32m    592\u001b[0m         \"\"\"\n\u001b[0;32m--> 593\u001b[0;31m         \u001b[0;32mreturn\u001b[0m \u001b[0mapprox_hess_cs\u001b[0m\u001b[0;34m(\u001b[0m\u001b[0mparams\u001b[0m\u001b[0;34m,\u001b[0m \u001b[0mself\u001b[0m\u001b[0;34m.\u001b[0m\u001b[0mloglike\u001b[0m\u001b[0;34m,\u001b[0m \u001b[0margs\u001b[0m\u001b[0;34m=\u001b[0m\u001b[0;34m(\u001b[0m\u001b[0;32mFalse\u001b[0m\u001b[0;34m,\u001b[0m\u001b[0;34m)\u001b[0m\u001b[0;34m)\u001b[0m\u001b[0;34m\u001b[0m\u001b[0m\n\u001b[0m\u001b[1;32m    594\u001b[0m \u001b[0;34m\u001b[0m\u001b[0m\n\u001b[1;32m    595\u001b[0m     \u001b[0;32mdef\u001b[0m \u001b[0m_transparams\u001b[0m\u001b[0;34m(\u001b[0m\u001b[0mself\u001b[0m\u001b[0;34m,\u001b[0m \u001b[0mparams\u001b[0m\u001b[0;34m)\u001b[0m\u001b[0;34m:\u001b[0m\u001b[0;34m\u001b[0m\u001b[0m\n",
      "\u001b[0;32m//anaconda3/envs/learn-env/lib/python3.6/site-packages/statsmodels/tools/numdiff.py\u001b[0m in \u001b[0;36mapprox_hess_cs\u001b[0;34m(x, f, epsilon, args, kwargs)\u001b[0m\n\u001b[1;32m    241\u001b[0m             hess[i, j] = (f(*((x + 1j*ee[i, :] + ee[j, :],) + args), **kwargs)\n\u001b[1;32m    242\u001b[0m                           - f(*((x + 1j*ee[i, :] - ee[j, :],)+args),\n\u001b[0;32m--> 243\u001b[0;31m                               **kwargs)).imag/2./hess[i, j]\n\u001b[0m\u001b[1;32m    244\u001b[0m             \u001b[0mhess\u001b[0m\u001b[0;34m[\u001b[0m\u001b[0mj\u001b[0m\u001b[0;34m,\u001b[0m \u001b[0mi\u001b[0m\u001b[0;34m]\u001b[0m \u001b[0;34m=\u001b[0m \u001b[0mhess\u001b[0m\u001b[0;34m[\u001b[0m\u001b[0mi\u001b[0m\u001b[0;34m,\u001b[0m \u001b[0mj\u001b[0m\u001b[0;34m]\u001b[0m\u001b[0;34m\u001b[0m\u001b[0m\n\u001b[1;32m    245\u001b[0m \u001b[0;34m\u001b[0m\u001b[0m\n",
      "\u001b[0;32m//anaconda3/envs/learn-env/lib/python3.6/site-packages/statsmodels/tsa/arima_model.py\u001b[0m in \u001b[0;36mloglike\u001b[0;34m(self, params, set_sigma2)\u001b[0m\n\u001b[1;32m    778\u001b[0m         \u001b[0mmethod\u001b[0m \u001b[0;34m=\u001b[0m \u001b[0mself\u001b[0m\u001b[0;34m.\u001b[0m\u001b[0mmethod\u001b[0m\u001b[0;34m\u001b[0m\u001b[0m\n\u001b[1;32m    779\u001b[0m         \u001b[0;32mif\u001b[0m \u001b[0mmethod\u001b[0m \u001b[0;32min\u001b[0m \u001b[0;34m[\u001b[0m\u001b[0;34m'mle'\u001b[0m\u001b[0;34m,\u001b[0m \u001b[0;34m'css-mle'\u001b[0m\u001b[0;34m]\u001b[0m\u001b[0;34m:\u001b[0m\u001b[0;34m\u001b[0m\u001b[0m\n\u001b[0;32m--> 780\u001b[0;31m             \u001b[0;32mreturn\u001b[0m \u001b[0mself\u001b[0m\u001b[0;34m.\u001b[0m\u001b[0mloglike_kalman\u001b[0m\u001b[0;34m(\u001b[0m\u001b[0mparams\u001b[0m\u001b[0;34m,\u001b[0m \u001b[0mset_sigma2\u001b[0m\u001b[0;34m)\u001b[0m\u001b[0;34m\u001b[0m\u001b[0m\n\u001b[0m\u001b[1;32m    781\u001b[0m         \u001b[0;32melif\u001b[0m \u001b[0mmethod\u001b[0m \u001b[0;34m==\u001b[0m \u001b[0;34m'css'\u001b[0m\u001b[0;34m:\u001b[0m\u001b[0;34m\u001b[0m\u001b[0m\n\u001b[1;32m    782\u001b[0m             \u001b[0;32mreturn\u001b[0m \u001b[0mself\u001b[0m\u001b[0;34m.\u001b[0m\u001b[0mloglike_css\u001b[0m\u001b[0;34m(\u001b[0m\u001b[0mparams\u001b[0m\u001b[0;34m,\u001b[0m \u001b[0mset_sigma2\u001b[0m\u001b[0;34m)\u001b[0m\u001b[0;34m\u001b[0m\u001b[0m\n",
      "\u001b[0;32m//anaconda3/envs/learn-env/lib/python3.6/site-packages/statsmodels/tsa/arima_model.py\u001b[0m in \u001b[0;36mloglike_kalman\u001b[0;34m(self, params, set_sigma2)\u001b[0m\n\u001b[1;32m    788\u001b[0m         \u001b[0mCompute\u001b[0m \u001b[0mexact\u001b[0m \u001b[0mloglikelihood\u001b[0m \u001b[0;32mfor\u001b[0m \u001b[0mARMA\u001b[0m\u001b[0;34m(\u001b[0m\u001b[0mp\u001b[0m\u001b[0;34m,\u001b[0m\u001b[0mq\u001b[0m\u001b[0;34m)\u001b[0m \u001b[0mmodel\u001b[0m \u001b[0mby\u001b[0m \u001b[0mthe\u001b[0m \u001b[0mKalman\u001b[0m \u001b[0mFilter\u001b[0m\u001b[0;34m.\u001b[0m\u001b[0;34m\u001b[0m\u001b[0m\n\u001b[1;32m    789\u001b[0m         \"\"\"\n\u001b[0;32m--> 790\u001b[0;31m         \u001b[0;32mreturn\u001b[0m \u001b[0mKalmanFilter\u001b[0m\u001b[0;34m.\u001b[0m\u001b[0mloglike\u001b[0m\u001b[0;34m(\u001b[0m\u001b[0mparams\u001b[0m\u001b[0;34m,\u001b[0m \u001b[0mself\u001b[0m\u001b[0;34m,\u001b[0m \u001b[0mset_sigma2\u001b[0m\u001b[0;34m)\u001b[0m\u001b[0;34m\u001b[0m\u001b[0m\n\u001b[0m\u001b[1;32m    791\u001b[0m \u001b[0;34m\u001b[0m\u001b[0m\n\u001b[1;32m    792\u001b[0m     \u001b[0;32mdef\u001b[0m \u001b[0mloglike_css\u001b[0m\u001b[0;34m(\u001b[0m\u001b[0mself\u001b[0m\u001b[0;34m,\u001b[0m \u001b[0mparams\u001b[0m\u001b[0;34m,\u001b[0m \u001b[0mset_sigma2\u001b[0m\u001b[0;34m=\u001b[0m\u001b[0;32mTrue\u001b[0m\u001b[0;34m)\u001b[0m\u001b[0;34m:\u001b[0m\u001b[0;34m\u001b[0m\u001b[0m\n",
      "\u001b[0;32m//anaconda3/envs/learn-env/lib/python3.6/site-packages/statsmodels/tsa/kalmanf/kalmanfilter.py\u001b[0m in \u001b[0;36mloglike\u001b[0;34m(cls, params, arma_model, set_sigma2)\u001b[0m\n\u001b[1;32m    652\u001b[0m                                     \u001b[0mk_ar\u001b[0m\u001b[0;34m,\u001b[0m \u001b[0mk_ma\u001b[0m\u001b[0;34m,\u001b[0m \u001b[0mk_lags\u001b[0m\u001b[0;34m,\u001b[0m \u001b[0mint\u001b[0m\u001b[0;34m(\u001b[0m\u001b[0mnobs\u001b[0m\u001b[0;34m)\u001b[0m\u001b[0;34m,\u001b[0m\u001b[0;34m\u001b[0m\u001b[0m\n\u001b[1;32m    653\u001b[0m                                     \u001b[0mZ_mat\u001b[0m\u001b[0;34m.\u001b[0m\u001b[0mastype\u001b[0m\u001b[0;34m(\u001b[0m\u001b[0mcomplex\u001b[0m\u001b[0;34m)\u001b[0m\u001b[0;34m,\u001b[0m\u001b[0;34m\u001b[0m\u001b[0m\n\u001b[0;32m--> 654\u001b[0;31m                                     R_mat, T_mat)\n\u001b[0m\u001b[1;32m    655\u001b[0m         \u001b[0;32melse\u001b[0m\u001b[0;34m:\u001b[0m\u001b[0;34m\u001b[0m\u001b[0m\n\u001b[1;32m    656\u001b[0m             raise TypeError(\"This dtype %s is not supported \"\n",
      "\u001b[0;32mkalman_loglike.pyx\u001b[0m in \u001b[0;36mstatsmodels.tsa.kalmanf.kalman_loglike.kalman_loglike_complex\u001b[0;34m()\u001b[0m\n",
      "\u001b[0;32m//anaconda3/envs/learn-env/lib/python3.6/site-packages/numpy/core/fromnumeric.py\u001b[0m in \u001b[0;36msum\u001b[0;34m(a, axis, dtype, out, keepdims, initial)\u001b[0m\n\u001b[1;32m   1964\u001b[0m \u001b[0;34m\u001b[0m\u001b[0m\n\u001b[1;32m   1965\u001b[0m \u001b[0;34m\u001b[0m\u001b[0m\n\u001b[0;32m-> 1966\u001b[0;31m \u001b[0;34m@\u001b[0m\u001b[0marray_function_dispatch\u001b[0m\u001b[0;34m(\u001b[0m\u001b[0m_sum_dispatcher\u001b[0m\u001b[0;34m)\u001b[0m\u001b[0;34m\u001b[0m\u001b[0m\n\u001b[0m\u001b[1;32m   1967\u001b[0m \u001b[0;32mdef\u001b[0m \u001b[0msum\u001b[0m\u001b[0;34m(\u001b[0m\u001b[0ma\u001b[0m\u001b[0;34m,\u001b[0m \u001b[0maxis\u001b[0m\u001b[0;34m=\u001b[0m\u001b[0;32mNone\u001b[0m\u001b[0;34m,\u001b[0m \u001b[0mdtype\u001b[0m\u001b[0;34m=\u001b[0m\u001b[0;32mNone\u001b[0m\u001b[0;34m,\u001b[0m \u001b[0mout\u001b[0m\u001b[0;34m=\u001b[0m\u001b[0;32mNone\u001b[0m\u001b[0;34m,\u001b[0m \u001b[0mkeepdims\u001b[0m\u001b[0;34m=\u001b[0m\u001b[0mnp\u001b[0m\u001b[0;34m.\u001b[0m\u001b[0m_NoValue\u001b[0m\u001b[0;34m,\u001b[0m \u001b[0minitial\u001b[0m\u001b[0;34m=\u001b[0m\u001b[0mnp\u001b[0m\u001b[0;34m.\u001b[0m\u001b[0m_NoValue\u001b[0m\u001b[0;34m)\u001b[0m\u001b[0;34m:\u001b[0m\u001b[0;34m\u001b[0m\u001b[0m\n\u001b[1;32m   1968\u001b[0m     \"\"\"\n",
      "\u001b[0;31mKeyboardInterrupt\u001b[0m: "
     ]
    }
   ],
   "source": [
    "bic_list = []\n",
    "lowest_bic = None\n",
    "p_value = []\n",
    "for p in range(1,20):\n",
    "    for q in range(1,5):\n",
    "        test_model = ARMA(stationarydata, (p,1)).fit()\n",
    "        test_bic = test_model.bic\n",
    "\n",
    "        if lowest_bic is None:\n",
    "            lowest_bic=test_bic\n",
    "        elif lowest_bic > test_bic:\n",
    "            lowest_bic=test_bic\n",
    "        else:\n",
    "            print((lowest_bic, p, q))\n",
    "        break "
   ]
  },
  {
   "cell_type": "code",
   "execution_count": 149,
   "metadata": {},
   "outputs": [],
   "source": []
  },
  {
   "cell_type": "code",
   "execution_count": 150,
   "metadata": {},
   "outputs": [
    {
     "data": {
      "text/plain": [
       "[(539114.021133556, 1),\n",
       " (539084.8699659798, 2),\n",
       " (539063.4660622405, 3),\n",
       " (539070.1887390041, 4)]"
      ]
     },
     "execution_count": 150,
     "metadata": {},
     "output_type": "execute_result"
    }
   ],
   "source": [
    "bic_list"
   ]
  },
  {
   "cell_type": "code",
   "execution_count": null,
   "metadata": {},
   "outputs": [],
   "source": [
    "model.plot_predict(1, 300)\n",
    "plt.xlabel('Number of months')\n",
    "plt.ylabel('Percentage return')\n",
    "plt.show()"
   ]
  },
  {
   "cell_type": "code",
   "execution_count": null,
   "metadata": {},
   "outputs": [],
   "source": [
    "model_two_df = zillow_cleandf[[94027, 90210, 94301, 33480, 94123]]\n",
    "model_two_df.head()"
   ]
  },
  {
   "cell_type": "code",
   "execution_count": null,
   "metadata": {},
   "outputs": [],
   "source": [
    "np.log(model_two_df).plot()\n",
    "plt.ylabel('log_price');"
   ]
  },
  {
   "cell_type": "code",
   "execution_count": null,
   "metadata": {},
   "outputs": [],
   "source": [
    "from model_builder import stationarity_test"
   ]
  },
  {
   "cell_type": "code",
   "execution_count": null,
   "metadata": {},
   "outputs": [],
   "source": [
    "stationarity_test(model_two_df,'pct_change()')"
   ]
  },
  {
   "cell_type": "code",
   "execution_count": null,
   "metadata": {},
   "outputs": [],
   "source": [
    "model_two = ARMA(model_two_df[94301].pct_change().dropna().values, (2,1)).fit()"
   ]
  },
  {
   "cell_type": "code",
   "execution_count": null,
   "metadata": {},
   "outputs": [],
   "source": [
    "model_two.plot_predict(1, 300)\n",
    "plt.xlabel('Number of months')\n",
    "plt.ylabel('price difference every two months')\n",
    "plt.show()"
   ]
  },
  {
   "cell_type": "code",
   "execution_count": null,
   "metadata": {},
   "outputs": [],
   "source": []
  }
 ],
 "metadata": {
  "kernelspec": {
   "display_name": "Python 3",
   "language": "python",
   "name": "python3"
  }
 },
 "nbformat": 4,
 "nbformat_minor": 2
}
