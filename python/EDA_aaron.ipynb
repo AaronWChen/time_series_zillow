{
 "cells": [
  {
   "cell_type": "code",
   "execution_count": 39,
   "metadata": {},
   "outputs": [],
   "source": [
    "import pandas as pd\n",
    "import numpy as np\n",
    "import matplotlib.pylab as plt\n",
    "import matplotlib.cm as mplcm\n",
    "import matplotlib.colors as colors\n",
    "from sklearn.model_selection import TimeSeriesSplit\n",
    "from fbprophet import Prophet"
   ]
  },
  {
   "cell_type": "code",
   "execution_count": 2,
   "metadata": {},
   "outputs": [],
   "source": [
    "df = pd.read_csv(\"../data/zillow_data.csv\", dtype={'RegionName': str})"
   ]
  },
  {
   "cell_type": "code",
   "execution_count": 3,
   "metadata": {
    "scrolled": true
   },
   "outputs": [
    {
     "data": {
      "text/html": [
       "<div>\n",
       "<style scoped>\n",
       "    .dataframe tbody tr th:only-of-type {\n",
       "        vertical-align: middle;\n",
       "    }\n",
       "\n",
       "    .dataframe tbody tr th {\n",
       "        vertical-align: top;\n",
       "    }\n",
       "\n",
       "    .dataframe thead th {\n",
       "        text-align: right;\n",
       "    }\n",
       "</style>\n",
       "<table border=\"1\" class=\"dataframe\">\n",
       "  <thead>\n",
       "    <tr style=\"text-align: right;\">\n",
       "      <th></th>\n",
       "      <th>RegionID</th>\n",
       "      <th>RegionName</th>\n",
       "      <th>City</th>\n",
       "      <th>State</th>\n",
       "      <th>Metro</th>\n",
       "      <th>CountyName</th>\n",
       "      <th>SizeRank</th>\n",
       "      <th>1996-04</th>\n",
       "      <th>1996-05</th>\n",
       "      <th>1996-06</th>\n",
       "      <th>...</th>\n",
       "      <th>2017-07</th>\n",
       "      <th>2017-08</th>\n",
       "      <th>2017-09</th>\n",
       "      <th>2017-10</th>\n",
       "      <th>2017-11</th>\n",
       "      <th>2017-12</th>\n",
       "      <th>2018-01</th>\n",
       "      <th>2018-02</th>\n",
       "      <th>2018-03</th>\n",
       "      <th>2018-04</th>\n",
       "    </tr>\n",
       "  </thead>\n",
       "  <tbody>\n",
       "    <tr>\n",
       "      <td>0</td>\n",
       "      <td>84654</td>\n",
       "      <td>60657</td>\n",
       "      <td>Chicago</td>\n",
       "      <td>IL</td>\n",
       "      <td>Chicago</td>\n",
       "      <td>Cook</td>\n",
       "      <td>1</td>\n",
       "      <td>334200.0</td>\n",
       "      <td>335400.0</td>\n",
       "      <td>336500.0</td>\n",
       "      <td>...</td>\n",
       "      <td>1005500</td>\n",
       "      <td>1007500</td>\n",
       "      <td>1007800</td>\n",
       "      <td>1009600</td>\n",
       "      <td>1013300</td>\n",
       "      <td>1018700</td>\n",
       "      <td>1024400</td>\n",
       "      <td>1030700</td>\n",
       "      <td>1033800</td>\n",
       "      <td>1030600</td>\n",
       "    </tr>\n",
       "    <tr>\n",
       "      <td>1</td>\n",
       "      <td>90668</td>\n",
       "      <td>75070</td>\n",
       "      <td>McKinney</td>\n",
       "      <td>TX</td>\n",
       "      <td>Dallas-Fort Worth</td>\n",
       "      <td>Collin</td>\n",
       "      <td>2</td>\n",
       "      <td>235700.0</td>\n",
       "      <td>236900.0</td>\n",
       "      <td>236700.0</td>\n",
       "      <td>...</td>\n",
       "      <td>308000</td>\n",
       "      <td>310000</td>\n",
       "      <td>312500</td>\n",
       "      <td>314100</td>\n",
       "      <td>315000</td>\n",
       "      <td>316600</td>\n",
       "      <td>318100</td>\n",
       "      <td>319600</td>\n",
       "      <td>321100</td>\n",
       "      <td>321800</td>\n",
       "    </tr>\n",
       "    <tr>\n",
       "      <td>2</td>\n",
       "      <td>91982</td>\n",
       "      <td>77494</td>\n",
       "      <td>Katy</td>\n",
       "      <td>TX</td>\n",
       "      <td>Houston</td>\n",
       "      <td>Harris</td>\n",
       "      <td>3</td>\n",
       "      <td>210400.0</td>\n",
       "      <td>212200.0</td>\n",
       "      <td>212200.0</td>\n",
       "      <td>...</td>\n",
       "      <td>321000</td>\n",
       "      <td>320600</td>\n",
       "      <td>320200</td>\n",
       "      <td>320400</td>\n",
       "      <td>320800</td>\n",
       "      <td>321200</td>\n",
       "      <td>321200</td>\n",
       "      <td>323000</td>\n",
       "      <td>326900</td>\n",
       "      <td>329900</td>\n",
       "    </tr>\n",
       "    <tr>\n",
       "      <td>3</td>\n",
       "      <td>84616</td>\n",
       "      <td>60614</td>\n",
       "      <td>Chicago</td>\n",
       "      <td>IL</td>\n",
       "      <td>Chicago</td>\n",
       "      <td>Cook</td>\n",
       "      <td>4</td>\n",
       "      <td>498100.0</td>\n",
       "      <td>500900.0</td>\n",
       "      <td>503100.0</td>\n",
       "      <td>...</td>\n",
       "      <td>1289800</td>\n",
       "      <td>1287700</td>\n",
       "      <td>1287400</td>\n",
       "      <td>1291500</td>\n",
       "      <td>1296600</td>\n",
       "      <td>1299000</td>\n",
       "      <td>1302700</td>\n",
       "      <td>1306400</td>\n",
       "      <td>1308500</td>\n",
       "      <td>1307000</td>\n",
       "    </tr>\n",
       "    <tr>\n",
       "      <td>4</td>\n",
       "      <td>93144</td>\n",
       "      <td>79936</td>\n",
       "      <td>El Paso</td>\n",
       "      <td>TX</td>\n",
       "      <td>El Paso</td>\n",
       "      <td>El Paso</td>\n",
       "      <td>5</td>\n",
       "      <td>77300.0</td>\n",
       "      <td>77300.0</td>\n",
       "      <td>77300.0</td>\n",
       "      <td>...</td>\n",
       "      <td>119100</td>\n",
       "      <td>119400</td>\n",
       "      <td>120000</td>\n",
       "      <td>120300</td>\n",
       "      <td>120300</td>\n",
       "      <td>120300</td>\n",
       "      <td>120300</td>\n",
       "      <td>120500</td>\n",
       "      <td>121000</td>\n",
       "      <td>121500</td>\n",
       "    </tr>\n",
       "  </tbody>\n",
       "</table>\n",
       "<p>5 rows × 272 columns</p>\n",
       "</div>"
      ],
      "text/plain": [
       "   RegionID RegionName      City State              Metro CountyName  \\\n",
       "0     84654      60657   Chicago    IL            Chicago       Cook   \n",
       "1     90668      75070  McKinney    TX  Dallas-Fort Worth     Collin   \n",
       "2     91982      77494      Katy    TX            Houston     Harris   \n",
       "3     84616      60614   Chicago    IL            Chicago       Cook   \n",
       "4     93144      79936   El Paso    TX            El Paso    El Paso   \n",
       "\n",
       "   SizeRank   1996-04   1996-05   1996-06  ...  2017-07  2017-08  2017-09  \\\n",
       "0         1  334200.0  335400.0  336500.0  ...  1005500  1007500  1007800   \n",
       "1         2  235700.0  236900.0  236700.0  ...   308000   310000   312500   \n",
       "2         3  210400.0  212200.0  212200.0  ...   321000   320600   320200   \n",
       "3         4  498100.0  500900.0  503100.0  ...  1289800  1287700  1287400   \n",
       "4         5   77300.0   77300.0   77300.0  ...   119100   119400   120000   \n",
       "\n",
       "   2017-10  2017-11  2017-12  2018-01  2018-02  2018-03  2018-04  \n",
       "0  1009600  1013300  1018700  1024400  1030700  1033800  1030600  \n",
       "1   314100   315000   316600   318100   319600   321100   321800  \n",
       "2   320400   320800   321200   321200   323000   326900   329900  \n",
       "3  1291500  1296600  1299000  1302700  1306400  1308500  1307000  \n",
       "4   120300   120300   120300   120300   120500   121000   121500  \n",
       "\n",
       "[5 rows x 272 columns]"
      ]
     },
     "execution_count": 3,
     "metadata": {},
     "output_type": "execute_result"
    }
   ],
   "source": [
    "df.head()"
   ]
  },
  {
   "cell_type": "code",
   "execution_count": 4,
   "metadata": {},
   "outputs": [
    {
     "data": {
      "text/plain": [
       "(14723, 272)"
      ]
     },
     "execution_count": 4,
     "metadata": {},
     "output_type": "execute_result"
    }
   ],
   "source": [
    "df.shape"
   ]
  },
  {
   "cell_type": "code",
   "execution_count": 5,
   "metadata": {},
   "outputs": [
    {
     "name": "stdout",
     "output_type": "stream",
     "text": [
      "<class 'pandas.core.frame.DataFrame'>\n",
      "RangeIndex: 14723 entries, 0 to 14722\n",
      "Columns: 272 entries, RegionID to 2018-04\n",
      "dtypes: float64(219), int64(48), object(5)\n",
      "memory usage: 30.6+ MB\n"
     ]
    }
   ],
   "source": [
    "df.info()"
   ]
  },
  {
   "cell_type": "code",
   "execution_count": 6,
   "metadata": {},
   "outputs": [
    {
     "data": {
      "text/plain": [
       "0        60657\n",
       "1        75070\n",
       "2        77494\n",
       "3        60614\n",
       "4        79936\n",
       "         ...  \n",
       "14718    01338\n",
       "14719    03293\n",
       "14720    40404\n",
       "14721    81225\n",
       "14722    89155\n",
       "Name: RegionName, Length: 14723, dtype: object"
      ]
     },
     "execution_count": 6,
     "metadata": {},
     "output_type": "execute_result"
    }
   ],
   "source": [
    "remove_regionid_sizerank = df.drop(['RegionID', 'SizeRank'], axis=1)\n",
    "remove_regionid_sizerank['RegionName'].apply('{:0>5}'.format)"
   ]
  },
  {
   "cell_type": "code",
   "execution_count": 7,
   "metadata": {},
   "outputs": [
    {
     "data": {
      "text/plain": [
       "array(['Chicago', 'Dallas-Fort Worth', 'Houston', 'El Paso', 'New York',\n",
       "       'San Francisco', 'The Villages', 'Nashville',\n",
       "       'Los Angeles-Long Beach-Anaheim', 'Austin', 'Charlotte', 'McAllen',\n",
       "       'Atlanta', 'Washington', 'San Antonio', 'Clarksville', 'St. Louis',\n",
       "       'Oklahoma City', 'Phoenix', 'Baltimore', 'Miami-Fort Lauderdale',\n",
       "       'Brownsville', 'Virginia Beach', 'Seattle', 'Cleveland',\n",
       "       'Ann Arbor', 'Boston', 'Kansas City', 'Sacramento', 'Tucson',\n",
       "       'Jacksonville', 'Napa', 'San Diego', 'Albuquerque', 'Hartford',\n",
       "       'Las Vegas', 'Lancaster', 'Fresno', 'Denver', 'Detroit', 'Vallejo',\n",
       "       'Pittsburgh', 'Columbus', 'Portland', 'Riverside', 'Yuma',\n",
       "       'Ithaca', 'Springfield', 'Fort Myers', nan, 'Cincinnati', 'Tampa',\n",
       "       'Columbia', 'Lafayette-West Lafayette', 'Fayetteville', 'Raleigh',\n",
       "       'Kennewick', 'College Station', 'Hagerstown', 'Philadelphia',\n",
       "       'Richmond', 'Indianapolis', 'Tulsa', 'Orlando', 'Greenville',\n",
       "       'Ventura', 'San Jose', 'Findlay', 'Greeley', 'Daytona Beach',\n",
       "       'Zanesville', 'Jonesboro', 'Fargo', 'Port St. Lucie', 'Eugene',\n",
       "       'Rochester', 'Birmingham', 'Hot Springs', 'Durham', 'Fort Collins',\n",
       "       'Lansing', 'Frankfort', 'Charleston', 'Bowling Green',\n",
       "       'Chillicothe', 'Winston-Salem', 'Buffalo', 'Bakersfield',\n",
       "       'Visalia', 'Savannah', 'Hanford', 'Santa Cruz', 'Hickory',\n",
       "       'Baton Rouge', 'Oxford', 'Warner Robins', 'Montgomery', 'Spokane',\n",
       "       'New Haven', 'York', 'Gainesville', 'Longview', 'Modesto',\n",
       "       'Twin Falls', 'Kalispell', 'Chattanooga', 'Salina', 'New Orleans',\n",
       "       'Jackson', 'Elizabethtown', 'Louisville/Jefferson County',\n",
       "       'Albany', 'Minneapolis-St Paul', 'Tallahassee', 'Flint',\n",
       "       'Urban Honolulu', 'Madison', 'Pittsfield', 'Ogden', 'Billings',\n",
       "       'Starkville', 'La Crosse', 'Myrtle Beach', 'Providence', 'Marion',\n",
       "       'Bloomington', 'Lubbock', 'Boise City', 'Little Rock', 'Dayton',\n",
       "       'Augusta', 'Blacksburg', 'Memphis', 'Medford', 'Lawton',\n",
       "       'Bellingham', 'Amarillo', 'Canton', 'Mobile', 'Gulfport',\n",
       "       'Davenport', 'Laredo', 'Stamford', 'Mankato', 'Bangor', 'Auburn',\n",
       "       'Bend', 'Hilo', 'Huntsville', 'Athens', 'Lakeland', 'Kalamazoo',\n",
       "       'Tyler', 'Boulder', 'Salem', 'Florence', 'Colorado Springs',\n",
       "       'Michigan City', 'Sioux Falls', 'North Port-Sarasota-Bradenton',\n",
       "       'Melbourne', 'Wichita', 'Reno', 'Toledo', 'Rapid City',\n",
       "       'Lafayette', 'Grand Forks', 'Killeen', 'Oshkosh', 'Knoxville',\n",
       "       'Binghamton', 'Kingsport', 'Burlington', 'Houma', 'Tuscaloosa',\n",
       "       'Williamsport', 'Green Bay', 'Redding', 'Lexington',\n",
       "       'Hilton Head Island', 'Allentown', 'Wilmington', 'Asheville',\n",
       "       'Santa Fe', 'Santa Maria-Santa Barbara', 'Corvallis', 'Milwaukee',\n",
       "       'Stockton', 'Owensboro', 'Wooster', 'Fairmont', 'Lynchburg',\n",
       "       'Dubuque', 'Trenton', 'Morgantown', 'Cedar Rapids', 'Eau Claire',\n",
       "       'Sandusky', 'Fond du Lac', 'Dalton', 'Grand Rapids', 'Hattiesburg',\n",
       "       'State College', 'Lincoln', 'Olympia', 'Pensacola', 'Provo',\n",
       "       'Peoria', 'Manitowoc', 'Worcester', 'Roanoke', 'Kerrville',\n",
       "       'Scranton', 'Akron', 'New Bern', 'Salinas', 'Waterloo',\n",
       "       'San Luis Obispo', 'Naples', 'Santa Rosa', 'Moses Lake',\n",
       "       'Oak Harbor', 'Jefferson City', 'Cumberland', 'Milledgeville',\n",
       "       'Johnson City', 'Del Rio', 'Cookeville', 'Watertown',\n",
       "       'Charlottesville', 'Elkhart', 'Walla Walla', 'Appleton', 'Utica',\n",
       "       'Yakima', 'Wenatchee', 'Muskegon', 'Harrisburg', \"Coeur d'Alene\",\n",
       "       'Salt Lake City', 'Midland', 'Bozeman', 'Staunton', 'Jamestown',\n",
       "       'Salisbury', 'Atlantic City', 'Champaign-Urbana', 'Victoria',\n",
       "       'Kokomo', 'St. George', 'Panama City', 'Corpus Christi',\n",
       "       'Mount Airy', 'Elizabeth City', 'Odessa', 'New London',\n",
       "       'Sierra Vista', 'Eagle Pass', 'Cheyenne', 'Wilson', 'Lebanon',\n",
       "       'Lewiston', 'Anchorage', 'Harrisonburg', 'Dothan', 'Key West',\n",
       "       'Goldsboro', 'Des Moines', 'Niles', 'Chico', 'Rome',\n",
       "       'Port Angeles', 'Paragould', 'Prescott', 'San Angelo',\n",
       "       'Lake Charles', 'Decatur', 'Kingston', 'Cape Girardeau',\n",
       "       'Vineland', 'Monroe', 'Youngstown', 'Sanford', 'Danville',\n",
       "       'Joplin', 'Kahului', 'Logan', 'Crestview-Fort Walton Beach-Destin',\n",
       "       'Shelton', 'Boone', 'Statesboro', 'Fort Wayne', 'Beaumont',\n",
       "       'El Centro', 'Punta Gorda', 'Farmington', 'Omaha', 'Macon',\n",
       "       'Ardmore', 'Flagstaff', 'Poplar Bluff', 'Lake Havasu City',\n",
       "       'Calhoun', 'Pocatello', 'Iowa City', 'Texarkana', 'Winona',\n",
       "       'Manchester', 'Minot', 'Bremerton', 'Plattsburgh', 'Bismarck',\n",
       "       'Great Falls', 'Yuba City', 'Idaho Falls', 'Grants Pass',\n",
       "       'Syracuse', 'Evansville', 'Alexandria', 'Marquette', 'Daphne',\n",
       "       'Valdosta', 'Topeka', 'Ames', 'Las Cruces', 'Searcy', 'Missoula',\n",
       "       'Ashtabula', 'Altoona', 'Terre Haute', 'Dover', 'Waco',\n",
       "       'New Castle', 'Ocala', 'Murray', 'Helena', 'Martinsville',\n",
       "       'Lumberton', 'Bemidji', 'Quincy', 'Galesburg', 'Spartanburg',\n",
       "       'Duluth', 'Racine', 'Reading', 'Lufkin', 'Pullman', 'Merced',\n",
       "       'Beckley', 'Sedalia', 'Williston', 'Natchez', 'Morristown',\n",
       "       'Muncie', 'Mountain Home', 'McMinnville', 'Ellensburg',\n",
       "       'Mason City', 'Fort Smith', 'Kankakee', 'Brainerd', 'Shelbyville',\n",
       "       'Concord', 'Ruston', 'Wausau', 'Paducah', 'Vero Beach',\n",
       "       'South Bend', 'Stillwater', 'Sevierville', 'Rockford', 'Durango',\n",
       "       'Rolla', 'Lawrence', 'Rocky Mount', 'Fremont', 'Pueblo', 'Ukiah',\n",
       "       'Greensboro', 'Ada', 'Hammond', 'Truckee', 'Garden City',\n",
       "       'Dickinson', 'North Platte', 'Coos Bay', 'Enid', 'Muskogee',\n",
       "       'Norfolk', 'Muscatine', 'Saginaw', 'Ottumwa', 'Seymour',\n",
       "       'Harrison', 'Marshalltown', 'Abilene', 'Klamath Falls',\n",
       "       'Parkersburg', 'Bardstown', 'Rio Grande City', 'St. Cloud',\n",
       "       'Fort Dodge', 'Stephenville', 'Mount Vernon', 'Erie', 'Emporia',\n",
       "       'Sidney', 'Madera', 'Winchester', 'Roseburg', 'Grand Junction',\n",
       "       'Wisconsin Rapids-Marshfield', 'Tahlequah', 'Chambersburg',\n",
       "       'Owatonna', 'Meadville', 'Bedford', 'Rexburg', 'Georgetown',\n",
       "       'Stevens Point', 'Moscow', 'Branson', 'Defiance', 'Corinth',\n",
       "       'Shelby', 'Sebring', 'LaGrange', 'Kingsville', 'Greeneville',\n",
       "       'Tiffin', 'Sumter', 'Picayune', 'Sheridan', 'Glens Falls',\n",
       "       'Bartlesville', 'Orangeburg', 'Marietta', 'Madisonville',\n",
       "       'Traverse City', 'Battle Creek', 'East Stroudsburg', 'Tupelo',\n",
       "       'Brunswick', 'Junction City', 'Bloomsburg', 'Natchitoches',\n",
       "       'Crawfordsville', 'Faribault', 'Duncan', 'Cortland', 'Cape Cod',\n",
       "       'Logansport', 'Bay City', 'Greenwood', 'Casper', 'Payson',\n",
       "       'Clinton', 'Warrensburg', 'Sioux City', 'Brenham', 'Ocean City',\n",
       "       'Gettysburg', 'McAlester', 'Huntington', 'Dublin', 'Dyersburg',\n",
       "       'Corsicana', 'Easton', 'Tullahoma', 'Rock Springs', 'Grand Island',\n",
       "       'Torrington', 'Dodge City', 'De Ridder', 'Keene', 'Fredericksburg',\n",
       "       'Ottawa', 'Hays', 'West Plains', 'Vincennes', 'Okeechobee',\n",
       "       'Tifton', 'Pottsville', 'Coldwater', 'Centralia', 'Juneau',\n",
       "       'Mansfield', 'Thomaston', 'Pittsburg', 'Batesville', 'Vernal',\n",
       "       'Brownwood', 'Fort Polk South', 'Hermiston-Pendleton', 'Dunn',\n",
       "       'Morehead City', 'Weirton', 'Beaver Dam', 'Hutchinson', 'Palatka',\n",
       "       'Alice', 'Willmar', 'Eureka', 'Seneca', 'Lawrenceburg', 'Peru',\n",
       "       'Carson City', 'California-Lexington Park', 'Thomasville',\n",
       "       'Newport', 'Lima', 'Connersville', 'Montrose', 'Fairbanks',\n",
       "       'Toccoa', 'Brookhaven', 'Mount Pleasant', 'Durant', 'Bastrop',\n",
       "       'Cedartown', 'Elko', 'Jefferson', 'Cadillac', 'Hannibal',\n",
       "       'Washington Court House', 'Blackfoot', 'Brevard', 'Gillette',\n",
       "       'St. Joseph', 'Sterling', 'Lewisburg', 'The Dalles',\n",
       "       'Wichita Falls', 'Paris', 'Baraboo', 'Henderson', 'Johnstown',\n",
       "       'Prineville', 'Cambridge', 'Plymouth', 'Morgan City',\n",
       "       'Pinehurst-Southern Pines', 'Greensburg', 'Plainview', 'Aberdeen',\n",
       "       'Elmira', 'Jasper', 'Sault Ste. Marie', 'Port Clinton', 'Shawnee',\n",
       "       'Sandpoint', 'Arcadia', 'Ludington', 'Corning', 'Whitewater',\n",
       "       'Warsaw', 'DuBois', 'Forest City', 'McComb', 'Deming', 'Newton',\n",
       "       'Pahrump', 'Moultrie', 'Russellville', 'St. Marys', 'Effingham',\n",
       "       'Macomb', 'Shreveport', 'Homosassa Springs', 'Coshocton',\n",
       "       'Laramie', 'Fernley', 'Summit Park', 'Nacogdoches', 'Altus',\n",
       "       'Show Low', 'Cedar City', 'Olean', 'Beeville', 'Crossville',\n",
       "       'Laconia', 'Yankton', 'Bogalusa', 'Oneonta', 'Bellefontaine',\n",
       "       'Newberry', 'Waycross', 'Red Wing', 'Gadsden', 'Riverton',\n",
       "       'Ponca City', 'Pampa', 'Hood River', 'Greenfield Town',\n",
       "       'North Vernon', 'Clarksdale', 'Astoria', 'Opelousas',\n",
       "       'Mineral Wells', 'Hudson', 'Brookings', 'Great Bend', 'Big Rapids',\n",
       "       'Grenada', 'Angola', 'Laurel', 'La Grande', 'Somerset',\n",
       "       'Lake City', 'Uvalde', 'Scottsbluff', 'Ogdensburg', 'Liberal',\n",
       "       'Port Lavaca', 'Miami', 'Holland', 'Wapakoneta', 'Heber',\n",
       "       'Bradford', 'Kapaa', 'Barre', 'Cullowhee', 'Wabash', 'Sunbury',\n",
       "       'Marshall', 'Oil City', 'Levelland', 'Clewiston', 'Union City',\n",
       "       'Gallup', 'Silver City', 'Moberly', 'Martin', 'El Campo',\n",
       "       'McPherson', 'Glenwood Springs', 'Palestine', 'Kill Devil Hills',\n",
       "       'Hereford', 'Susanville', 'Van Wert', 'Ontario', 'Los Alamos',\n",
       "       'Mexico', 'Kendallville', 'Burley', 'Wheeling', 'Woodward',\n",
       "       'Douglas', 'Cornelia', 'Claremont', 'Adrian', 'Huntingdon',\n",
       "       'Sheboygan', 'Dumas', 'Ionia', 'Arkansas City-Winfield',\n",
       "       'Hillsdale', 'Safford', 'Sweetwater', 'Carbondale', 'Clearlake',\n",
       "       'Parsons', 'Coffeyville', 'Ketchikan', 'Platteville', 'Espanola',\n",
       "       'Gardnerville Ranchos', 'Fort Leonard Wood', 'Pontiac', 'Atchison',\n",
       "       'Portsmouth', 'Price', 'Vernon', 'Evanston', 'Hailey', 'Lamesa',\n",
       "       'Steamboat Springs', 'Sayre', 'Grants', 'Vineyard Haven', 'Berlin',\n",
       "       'Bluefield', 'Hinesville', 'Wahpeton', 'Manhattan', 'Fergus Falls',\n",
       "       'Meridian', 'Sikeston', 'Vicksburg', 'Albemarle', 'Kennett',\n",
       "       'Borger', 'Jesup', 'Alamogordo', 'New Philadelphia',\n",
       "       'Fort Madison', 'Houghton', 'Cullman', 'Nogales', 'Indianola',\n",
       "       'New Ulm'], dtype=object)"
      ]
     },
     "execution_count": 7,
     "metadata": {},
     "output_type": "execute_result"
    }
   ],
   "source": [
    "remove_regionid_sizerank['Metro'].unique()"
   ]
  },
  {
   "cell_type": "code",
   "execution_count": 8,
   "metadata": {},
   "outputs": [],
   "source": [
    "zillow_inside_out = ['San Antonio', 'Austin', 'New Orleans', \n",
    "                     'Washington', 'Nashville', 'Charlotte', \n",
    "                     'San Diego', 'Raleigh', 'Miami-Fort Lauderdale']"
   ]
  },
  {
   "cell_type": "code",
   "execution_count": 9,
   "metadata": {},
   "outputs": [],
   "source": [
    "zillow_outside_in = ['Riverside', 'Sacramento', 'San Diego', \n",
    "                     'Portland', 'San Francisco', 'Fresno', \n",
    "                     'Jacksonville', 'Austin', 'Seattle', \n",
    "                     'Denver']"
   ]
  },
  {
   "cell_type": "code",
   "execution_count": 10,
   "metadata": {},
   "outputs": [],
   "source": [
    "zillow_hottest_2018 = ['San Jose', 'Raleigh', 'Seattle', \n",
    "                       'Charlotte', 'San Francisco', 'Austin', \n",
    "                       'Denver', 'Nashville', 'Portland', 'Dallas-Fort Worth'    \n",
    "                        ]"
   ]
  },
  {
   "cell_type": "code",
   "execution_count": 11,
   "metadata": {},
   "outputs": [],
   "source": [
    "word_of_mouth = ['Boise City', 'New York']"
   ]
  },
  {
   "cell_type": "code",
   "execution_count": 12,
   "metadata": {},
   "outputs": [
    {
     "data": {
      "text/plain": [
       "['San Diego',\n",
       " 'Dallas-Fort Worth',\n",
       " 'Denver',\n",
       " 'Raleigh',\n",
       " 'Boise City',\n",
       " 'San Francisco',\n",
       " 'Seattle',\n",
       " 'Sacramento',\n",
       " 'New York',\n",
       " 'Jacksonville',\n",
       " 'Portland',\n",
       " 'Austin',\n",
       " 'Riverside',\n",
       " 'Fresno',\n",
       " 'San Jose',\n",
       " 'Charlotte',\n",
       " 'Nashville']"
      ]
     },
     "execution_count": 12,
     "metadata": {},
     "output_type": "execute_result"
    }
   ],
   "source": [
    "zillow_interest = list(set(zillow_outside_in)| set(zillow_hottest_2018) | set(word_of_mouth))\n",
    "zillow_interest"
   ]
  },
  {
   "cell_type": "code",
   "execution_count": 13,
   "metadata": {},
   "outputs": [],
   "source": [
    "melted = pd.melt(remove_regionid_sizerank, \n",
    "                 id_vars=['RegionName', 'City', 'State', \n",
    "                          'Metro', 'CountyName'], \n",
    "                 var_name='time')"
   ]
  },
  {
   "cell_type": "code",
   "execution_count": 14,
   "metadata": {},
   "outputs": [
    {
     "data": {
      "text/plain": [
       "<pandas.core.groupby.generic.DataFrameGroupBy object at 0x10c2f1c10>"
      ]
     },
     "execution_count": 14,
     "metadata": {},
     "output_type": "execute_result"
    }
   ],
   "source": [
    "melted.groupby('time')"
   ]
  },
  {
   "cell_type": "code",
   "execution_count": 15,
   "metadata": {},
   "outputs": [],
   "source": [
    "melted['time'] = pd.to_datetime(melted['time'], infer_datetime_format=True)"
   ]
  },
  {
   "cell_type": "code",
   "execution_count": 16,
   "metadata": {},
   "outputs": [],
   "source": [
    "melted_metros_means = melted.groupby(['Metro', 'time']).aggregate({'value': 'mean'})"
   ]
  },
  {
   "cell_type": "code",
   "execution_count": 17,
   "metadata": {},
   "outputs": [
    {
     "data": {
      "text/html": [
       "<div>\n",
       "<style scoped>\n",
       "    .dataframe tbody tr th:only-of-type {\n",
       "        vertical-align: middle;\n",
       "    }\n",
       "\n",
       "    .dataframe tbody tr th {\n",
       "        vertical-align: top;\n",
       "    }\n",
       "\n",
       "    .dataframe thead th {\n",
       "        text-align: right;\n",
       "    }\n",
       "</style>\n",
       "<table border=\"1\" class=\"dataframe\">\n",
       "  <thead>\n",
       "    <tr style=\"text-align: right;\">\n",
       "      <th></th>\n",
       "      <th></th>\n",
       "      <th>value</th>\n",
       "    </tr>\n",
       "    <tr>\n",
       "      <th>Metro</th>\n",
       "      <th>time</th>\n",
       "      <th></th>\n",
       "    </tr>\n",
       "  </thead>\n",
       "  <tbody>\n",
       "    <tr>\n",
       "      <td rowspan=\"5\" valign=\"top\">Aberdeen</td>\n",
       "      <td>1996-04-01</td>\n",
       "      <td>95910.000000</td>\n",
       "    </tr>\n",
       "    <tr>\n",
       "      <td>1996-05-01</td>\n",
       "      <td>95840.000000</td>\n",
       "    </tr>\n",
       "    <tr>\n",
       "      <td>1996-06-01</td>\n",
       "      <td>95800.000000</td>\n",
       "    </tr>\n",
       "    <tr>\n",
       "      <td>1996-07-01</td>\n",
       "      <td>95760.000000</td>\n",
       "    </tr>\n",
       "    <tr>\n",
       "      <td>1996-08-01</td>\n",
       "      <td>95710.000000</td>\n",
       "    </tr>\n",
       "    <tr>\n",
       "      <td>...</td>\n",
       "      <td>...</td>\n",
       "      <td>...</td>\n",
       "    </tr>\n",
       "    <tr>\n",
       "      <td rowspan=\"5\" valign=\"top\">Zanesville</td>\n",
       "      <td>2017-12-01</td>\n",
       "      <td>115783.333333</td>\n",
       "    </tr>\n",
       "    <tr>\n",
       "      <td>2018-01-01</td>\n",
       "      <td>116350.000000</td>\n",
       "    </tr>\n",
       "    <tr>\n",
       "      <td>2018-02-01</td>\n",
       "      <td>116850.000000</td>\n",
       "    </tr>\n",
       "    <tr>\n",
       "      <td>2018-03-01</td>\n",
       "      <td>118050.000000</td>\n",
       "    </tr>\n",
       "    <tr>\n",
       "      <td>2018-04-01</td>\n",
       "      <td>119116.666667</td>\n",
       "    </tr>\n",
       "  </tbody>\n",
       "</table>\n",
       "<p>185765 rows × 1 columns</p>\n",
       "</div>"
      ],
      "text/plain": [
       "                               value\n",
       "Metro      time                     \n",
       "Aberdeen   1996-04-01   95910.000000\n",
       "           1996-05-01   95840.000000\n",
       "           1996-06-01   95800.000000\n",
       "           1996-07-01   95760.000000\n",
       "           1996-08-01   95710.000000\n",
       "...                              ...\n",
       "Zanesville 2017-12-01  115783.333333\n",
       "           2018-01-01  116350.000000\n",
       "           2018-02-01  116850.000000\n",
       "           2018-03-01  118050.000000\n",
       "           2018-04-01  119116.666667\n",
       "\n",
       "[185765 rows x 1 columns]"
      ]
     },
     "execution_count": 17,
     "metadata": {},
     "output_type": "execute_result"
    }
   ],
   "source": [
    "melted_metros_means"
   ]
  },
  {
   "cell_type": "code",
   "execution_count": 18,
   "metadata": {},
   "outputs": [],
   "source": [
    "z_interest_melted = melted_metros_means.query(\"Metro == @zillow_interest\")"
   ]
  },
  {
   "cell_type": "code",
   "execution_count": 19,
   "metadata": {},
   "outputs": [
    {
     "data": {
      "text/html": [
       "<div>\n",
       "<style scoped>\n",
       "    .dataframe tbody tr th:only-of-type {\n",
       "        vertical-align: middle;\n",
       "    }\n",
       "\n",
       "    .dataframe tbody tr th {\n",
       "        vertical-align: top;\n",
       "    }\n",
       "\n",
       "    .dataframe thead th {\n",
       "        text-align: right;\n",
       "    }\n",
       "</style>\n",
       "<table border=\"1\" class=\"dataframe\">\n",
       "  <thead>\n",
       "    <tr style=\"text-align: right;\">\n",
       "      <th></th>\n",
       "      <th></th>\n",
       "      <th>value</th>\n",
       "    </tr>\n",
       "    <tr>\n",
       "      <th>Metro</th>\n",
       "      <th>time</th>\n",
       "      <th></th>\n",
       "    </tr>\n",
       "  </thead>\n",
       "  <tbody>\n",
       "    <tr>\n",
       "      <td rowspan=\"5\" valign=\"top\">Austin</td>\n",
       "      <td>1996-04-01</td>\n",
       "      <td>177344.594595</td>\n",
       "    </tr>\n",
       "    <tr>\n",
       "      <td>1996-05-01</td>\n",
       "      <td>177183.783784</td>\n",
       "    </tr>\n",
       "    <tr>\n",
       "      <td>1996-06-01</td>\n",
       "      <td>177131.081081</td>\n",
       "    </tr>\n",
       "    <tr>\n",
       "      <td>1996-07-01</td>\n",
       "      <td>177174.324324</td>\n",
       "    </tr>\n",
       "    <tr>\n",
       "      <td>1996-08-01</td>\n",
       "      <td>177300.000000</td>\n",
       "    </tr>\n",
       "    <tr>\n",
       "      <td>...</td>\n",
       "      <td>...</td>\n",
       "      <td>...</td>\n",
       "    </tr>\n",
       "    <tr>\n",
       "      <td rowspan=\"5\" valign=\"top\">Seattle</td>\n",
       "      <td>2017-12-01</td>\n",
       "      <td>561174.468085</td>\n",
       "    </tr>\n",
       "    <tr>\n",
       "      <td>2018-01-01</td>\n",
       "      <td>569081.560284</td>\n",
       "    </tr>\n",
       "    <tr>\n",
       "      <td>2018-02-01</td>\n",
       "      <td>575012.056738</td>\n",
       "    </tr>\n",
       "    <tr>\n",
       "      <td>2018-03-01</td>\n",
       "      <td>580377.304965</td>\n",
       "    </tr>\n",
       "    <tr>\n",
       "      <td>2018-04-01</td>\n",
       "      <td>583936.170213</td>\n",
       "    </tr>\n",
       "  </tbody>\n",
       "</table>\n",
       "<p>4505 rows × 1 columns</p>\n",
       "</div>"
      ],
      "text/plain": [
       "                            value\n",
       "Metro   time                     \n",
       "Austin  1996-04-01  177344.594595\n",
       "        1996-05-01  177183.783784\n",
       "        1996-06-01  177131.081081\n",
       "        1996-07-01  177174.324324\n",
       "        1996-08-01  177300.000000\n",
       "...                           ...\n",
       "Seattle 2017-12-01  561174.468085\n",
       "        2018-01-01  569081.560284\n",
       "        2018-02-01  575012.056738\n",
       "        2018-03-01  580377.304965\n",
       "        2018-04-01  583936.170213\n",
       "\n",
       "[4505 rows x 1 columns]"
      ]
     },
     "execution_count": 19,
     "metadata": {},
     "output_type": "execute_result"
    }
   ],
   "source": [
    "z_interest_melted"
   ]
  },
  {
   "cell_type": "code",
   "execution_count": 21,
   "metadata": {},
   "outputs": [],
   "source": [
    "z_interest_reset_index = z_interest_melted.reset_index(level='Metro')"
   ]
  },
  {
   "cell_type": "code",
   "execution_count": 22,
   "metadata": {},
   "outputs": [
    {
     "data": {
      "text/html": [
       "<div>\n",
       "<style scoped>\n",
       "    .dataframe tbody tr th:only-of-type {\n",
       "        vertical-align: middle;\n",
       "    }\n",
       "\n",
       "    .dataframe tbody tr th {\n",
       "        vertical-align: top;\n",
       "    }\n",
       "\n",
       "    .dataframe thead th {\n",
       "        text-align: right;\n",
       "    }\n",
       "</style>\n",
       "<table border=\"1\" class=\"dataframe\">\n",
       "  <thead>\n",
       "    <tr style=\"text-align: right;\">\n",
       "      <th></th>\n",
       "      <th>Metro</th>\n",
       "      <th>value</th>\n",
       "    </tr>\n",
       "    <tr>\n",
       "      <th>time</th>\n",
       "      <th></th>\n",
       "      <th></th>\n",
       "    </tr>\n",
       "  </thead>\n",
       "  <tbody>\n",
       "    <tr>\n",
       "      <td>1996-04-01</td>\n",
       "      <td>Austin</td>\n",
       "      <td>177344.594595</td>\n",
       "    </tr>\n",
       "    <tr>\n",
       "      <td>1996-05-01</td>\n",
       "      <td>Austin</td>\n",
       "      <td>177183.783784</td>\n",
       "    </tr>\n",
       "    <tr>\n",
       "      <td>1996-06-01</td>\n",
       "      <td>Austin</td>\n",
       "      <td>177131.081081</td>\n",
       "    </tr>\n",
       "    <tr>\n",
       "      <td>1996-07-01</td>\n",
       "      <td>Austin</td>\n",
       "      <td>177174.324324</td>\n",
       "    </tr>\n",
       "    <tr>\n",
       "      <td>1996-08-01</td>\n",
       "      <td>Austin</td>\n",
       "      <td>177300.000000</td>\n",
       "    </tr>\n",
       "    <tr>\n",
       "      <td>...</td>\n",
       "      <td>...</td>\n",
       "      <td>...</td>\n",
       "    </tr>\n",
       "    <tr>\n",
       "      <td>2017-12-01</td>\n",
       "      <td>Seattle</td>\n",
       "      <td>561174.468085</td>\n",
       "    </tr>\n",
       "    <tr>\n",
       "      <td>2018-01-01</td>\n",
       "      <td>Seattle</td>\n",
       "      <td>569081.560284</td>\n",
       "    </tr>\n",
       "    <tr>\n",
       "      <td>2018-02-01</td>\n",
       "      <td>Seattle</td>\n",
       "      <td>575012.056738</td>\n",
       "    </tr>\n",
       "    <tr>\n",
       "      <td>2018-03-01</td>\n",
       "      <td>Seattle</td>\n",
       "      <td>580377.304965</td>\n",
       "    </tr>\n",
       "    <tr>\n",
       "      <td>2018-04-01</td>\n",
       "      <td>Seattle</td>\n",
       "      <td>583936.170213</td>\n",
       "    </tr>\n",
       "  </tbody>\n",
       "</table>\n",
       "<p>4505 rows × 2 columns</p>\n",
       "</div>"
      ],
      "text/plain": [
       "              Metro          value\n",
       "time                              \n",
       "1996-04-01   Austin  177344.594595\n",
       "1996-05-01   Austin  177183.783784\n",
       "1996-06-01   Austin  177131.081081\n",
       "1996-07-01   Austin  177174.324324\n",
       "1996-08-01   Austin  177300.000000\n",
       "...             ...            ...\n",
       "2017-12-01  Seattle  561174.468085\n",
       "2018-01-01  Seattle  569081.560284\n",
       "2018-02-01  Seattle  575012.056738\n",
       "2018-03-01  Seattle  580377.304965\n",
       "2018-04-01  Seattle  583936.170213\n",
       "\n",
       "[4505 rows x 2 columns]"
      ]
     },
     "execution_count": 22,
     "metadata": {},
     "output_type": "execute_result"
    }
   ],
   "source": [
    "z_interest_reset_index"
   ]
  },
  {
   "cell_type": "code",
   "execution_count": 26,
   "metadata": {},
   "outputs": [
    {
     "name": "stderr",
     "output_type": "stream",
     "text": [
      "INFO:fbprophet:Disabling weekly seasonality. Run prophet with weekly_seasonality=True to override this.\n",
      "INFO:fbprophet:Disabling daily seasonality. Run prophet with daily_seasonality=True to override this.\n",
      "INFO:fbprophet:Disabling weekly seasonality. Run prophet with weekly_seasonality=True to override this.\n",
      "INFO:fbprophet:Disabling daily seasonality. Run prophet with daily_seasonality=True to override this.\n",
      "INFO:fbprophet:Disabling weekly seasonality. Run prophet with weekly_seasonality=True to override this.\n",
      "INFO:fbprophet:Disabling daily seasonality. Run prophet with daily_seasonality=True to override this.\n",
      "INFO:fbprophet:Disabling weekly seasonality. Run prophet with weekly_seasonality=True to override this.\n",
      "INFO:fbprophet:Disabling daily seasonality. Run prophet with daily_seasonality=True to override this.\n",
      "INFO:fbprophet:Disabling weekly seasonality. Run prophet with weekly_seasonality=True to override this.\n",
      "INFO:fbprophet:Disabling daily seasonality. Run prophet with daily_seasonality=True to override this.\n",
      "INFO:fbprophet:Disabling weekly seasonality. Run prophet with weekly_seasonality=True to override this.\n",
      "INFO:fbprophet:Disabling daily seasonality. Run prophet with daily_seasonality=True to override this.\n",
      "INFO:fbprophet:Disabling weekly seasonality. Run prophet with weekly_seasonality=True to override this.\n",
      "INFO:fbprophet:Disabling daily seasonality. Run prophet with daily_seasonality=True to override this.\n",
      "INFO:fbprophet:Disabling weekly seasonality. Run prophet with weekly_seasonality=True to override this.\n",
      "INFO:fbprophet:Disabling daily seasonality. Run prophet with daily_seasonality=True to override this.\n",
      "INFO:fbprophet:Disabling weekly seasonality. Run prophet with weekly_seasonality=True to override this.\n",
      "INFO:fbprophet:Disabling daily seasonality. Run prophet with daily_seasonality=True to override this.\n",
      "INFO:fbprophet:Disabling weekly seasonality. Run prophet with weekly_seasonality=True to override this.\n",
      "INFO:fbprophet:Disabling daily seasonality. Run prophet with daily_seasonality=True to override this.\n",
      "INFO:fbprophet:Disabling weekly seasonality. Run prophet with weekly_seasonality=True to override this.\n",
      "INFO:fbprophet:Disabling daily seasonality. Run prophet with daily_seasonality=True to override this.\n",
      "INFO:fbprophet:Disabling weekly seasonality. Run prophet with weekly_seasonality=True to override this.\n",
      "INFO:fbprophet:Disabling daily seasonality. Run prophet with daily_seasonality=True to override this.\n",
      "INFO:fbprophet:Disabling weekly seasonality. Run prophet with weekly_seasonality=True to override this.\n",
      "INFO:fbprophet:Disabling daily seasonality. Run prophet with daily_seasonality=True to override this.\n",
      "INFO:fbprophet:Disabling weekly seasonality. Run prophet with weekly_seasonality=True to override this.\n",
      "INFO:fbprophet:Disabling daily seasonality. Run prophet with daily_seasonality=True to override this.\n",
      "WARNING:fbprophet:Optimization terminated abnormally. Falling back to Newton.\n",
      "INFO:fbprophet:Disabling weekly seasonality. Run prophet with weekly_seasonality=True to override this.\n",
      "INFO:fbprophet:Disabling daily seasonality. Run prophet with daily_seasonality=True to override this.\n",
      "INFO:fbprophet:Disabling weekly seasonality. Run prophet with weekly_seasonality=True to override this.\n",
      "INFO:fbprophet:Disabling daily seasonality. Run prophet with daily_seasonality=True to override this.\n",
      "INFO:fbprophet:Disabling weekly seasonality. Run prophet with weekly_seasonality=True to override this.\n",
      "INFO:fbprophet:Disabling daily seasonality. Run prophet with daily_seasonality=True to override this.\n"
     ]
    }
   ],
   "source": [
    "ds, yhat_lower, yhat, yhat_upper, metro_name = [], [], [], [], []\n",
    "\n",
    "for metro in zillow_interest:\n",
    "    group = z_interest_reset_index.loc[z_interest_reset_index[\"Metro\"] == metro]\n",
    "    df_for_prophet = group.reset_index().drop('Metro', axis=1).rename(columns={'time': 'ds', 'value': 'y'})\n",
    "    \n",
    "    m = Prophet(interval_width=0.95)\n",
    "    m.fit(df_for_prophet)\n",
    "    future = m.make_future_dataframe(periods=36, freq='M')\n",
    "    forecast = m.predict(future)\n",
    "    ds.extend(forecast['ds'].values)\n",
    "    yhat_lower.extend(forecast['yhat_lower'].values)\n",
    "    yhat.extend(forecast['yhat'].values)\n",
    "    yhat_upper.extend(forecast['yhat_upper'].values)\n",
    "    metro_name.extend(np.repeat(metro, forecast.shape[0]))    \n",
    "\n",
    "data = {'ds': ds, 'yhat_lower': yhat_lower, 'yhat': yhat, 'yhat_upper': yhat_upper, 'Metro': metro_name}\n",
    "df = pd.DataFrame(data)"
   ]
  },
  {
   "cell_type": "code",
   "execution_count": 27,
   "metadata": {},
   "outputs": [],
   "source": [
    "z_interest_merge = z_interest_reset_index.reset_index().merge(df, left_on=['time', 'Metro'], right_on=['ds', 'Metro'])\n",
    "z_interest_merge['log_value'] = np.log(z_interest_merge['value'])\n",
    "z_interest_merge['log_yhat'] = np.log(z_interest_merge['yhat'])"
   ]
  },
  {
   "cell_type": "code",
   "execution_count": 29,
   "metadata": {},
   "outputs": [
    {
     "ename": "IndexingError",
     "evalue": "Too many indexers",
     "output_type": "error",
     "traceback": [
      "\u001b[0;31m---------------------------------------------------------------------------\u001b[0m",
      "\u001b[0;31mIndexingError\u001b[0m                             Traceback (most recent call last)",
      "\u001b[0;32m<ipython-input-29-608664632cc0>\u001b[0m in \u001b[0;36m<module>\u001b[0;34m\u001b[0m\n\u001b[1;32m     26\u001b[0m         \u001b[0;31m# note: this where we'll input counter directly inside of palette()\u001b[0m\u001b[0;34m\u001b[0m\u001b[0;34m\u001b[0m\u001b[0;34m\u001b[0m\u001b[0m\n\u001b[1;32m     27\u001b[0m         axs[row, col].plot(metro_plot[\"time\"],\n\u001b[0;32m---> 28\u001b[0;31m                            \u001b[0mmetro_plot\u001b[0m\u001b[0;34m[\u001b[0m\u001b[0;34m\"log_value\"\u001b[0m\u001b[0;34m]\u001b[0m\u001b[0;34m.\u001b[0m\u001b[0miloc\u001b[0m\u001b[0;34m[\u001b[0m\u001b[0;34m:\u001b[0m\u001b[0;34m,\u001b[0m \u001b[0mcounter\u001b[0m\u001b[0;34m]\u001b[0m\u001b[0;34m,\u001b[0m\u001b[0;34m\u001b[0m\u001b[0;34m\u001b[0m\u001b[0m\n\u001b[0m\u001b[1;32m     29\u001b[0m                            \u001b[0mmarker\u001b[0m\u001b[0;34m=\u001b[0m\u001b[0;34m\"\"\u001b[0m\u001b[0;34m,\u001b[0m\u001b[0;34m\u001b[0m\u001b[0;34m\u001b[0m\u001b[0m\n\u001b[1;32m     30\u001b[0m                            \u001b[0mcolor\u001b[0m\u001b[0;34m=\u001b[0m\u001b[0mpalette\u001b[0m\u001b[0;34m(\u001b[0m\u001b[0mcounter\u001b[0m\u001b[0;34m)\u001b[0m\u001b[0;34m,\u001b[0m\u001b[0;34m\u001b[0m\u001b[0;34m\u001b[0m\u001b[0m\n",
      "\u001b[0;32m//anaconda3/envs/mod04-project/lib/python3.7/site-packages/pandas/core/indexing.py\u001b[0m in \u001b[0;36m__getitem__\u001b[0;34m(self, key)\u001b[0m\n\u001b[1;32m   1416\u001b[0m                 \u001b[0;32mexcept\u001b[0m \u001b[0;34m(\u001b[0m\u001b[0mKeyError\u001b[0m\u001b[0;34m,\u001b[0m \u001b[0mIndexError\u001b[0m\u001b[0;34m,\u001b[0m \u001b[0mAttributeError\u001b[0m\u001b[0;34m)\u001b[0m\u001b[0;34m:\u001b[0m\u001b[0;34m\u001b[0m\u001b[0;34m\u001b[0m\u001b[0m\n\u001b[1;32m   1417\u001b[0m                     \u001b[0;32mpass\u001b[0m\u001b[0;34m\u001b[0m\u001b[0;34m\u001b[0m\u001b[0m\n\u001b[0;32m-> 1418\u001b[0;31m             \u001b[0;32mreturn\u001b[0m \u001b[0mself\u001b[0m\u001b[0;34m.\u001b[0m\u001b[0m_getitem_tuple\u001b[0m\u001b[0;34m(\u001b[0m\u001b[0mkey\u001b[0m\u001b[0;34m)\u001b[0m\u001b[0;34m\u001b[0m\u001b[0;34m\u001b[0m\u001b[0m\n\u001b[0m\u001b[1;32m   1419\u001b[0m         \u001b[0;32melse\u001b[0m\u001b[0;34m:\u001b[0m\u001b[0;34m\u001b[0m\u001b[0;34m\u001b[0m\u001b[0m\n\u001b[1;32m   1420\u001b[0m             \u001b[0;31m# we by definition only have the 0th axis\u001b[0m\u001b[0;34m\u001b[0m\u001b[0;34m\u001b[0m\u001b[0;34m\u001b[0m\u001b[0m\n",
      "\u001b[0;32m//anaconda3/envs/mod04-project/lib/python3.7/site-packages/pandas/core/indexing.py\u001b[0m in \u001b[0;36m_getitem_tuple\u001b[0;34m(self, tup)\u001b[0m\n\u001b[1;32m   2090\u001b[0m     \u001b[0;32mdef\u001b[0m \u001b[0m_getitem_tuple\u001b[0m\u001b[0;34m(\u001b[0m\u001b[0mself\u001b[0m\u001b[0;34m,\u001b[0m \u001b[0mtup\u001b[0m\u001b[0;34m)\u001b[0m\u001b[0;34m:\u001b[0m\u001b[0;34m\u001b[0m\u001b[0;34m\u001b[0m\u001b[0m\n\u001b[1;32m   2091\u001b[0m \u001b[0;34m\u001b[0m\u001b[0m\n\u001b[0;32m-> 2092\u001b[0;31m         \u001b[0mself\u001b[0m\u001b[0;34m.\u001b[0m\u001b[0m_has_valid_tuple\u001b[0m\u001b[0;34m(\u001b[0m\u001b[0mtup\u001b[0m\u001b[0;34m)\u001b[0m\u001b[0;34m\u001b[0m\u001b[0;34m\u001b[0m\u001b[0m\n\u001b[0m\u001b[1;32m   2093\u001b[0m         \u001b[0;32mtry\u001b[0m\u001b[0;34m:\u001b[0m\u001b[0;34m\u001b[0m\u001b[0;34m\u001b[0m\u001b[0m\n\u001b[1;32m   2094\u001b[0m             \u001b[0;32mreturn\u001b[0m \u001b[0mself\u001b[0m\u001b[0;34m.\u001b[0m\u001b[0m_getitem_lowerdim\u001b[0m\u001b[0;34m(\u001b[0m\u001b[0mtup\u001b[0m\u001b[0;34m)\u001b[0m\u001b[0;34m\u001b[0m\u001b[0;34m\u001b[0m\u001b[0m\n",
      "\u001b[0;32m//anaconda3/envs/mod04-project/lib/python3.7/site-packages/pandas/core/indexing.py\u001b[0m in \u001b[0;36m_has_valid_tuple\u001b[0;34m(self, key)\u001b[0m\n\u001b[1;32m    231\u001b[0m         \u001b[0;32mfor\u001b[0m \u001b[0mi\u001b[0m\u001b[0;34m,\u001b[0m \u001b[0mk\u001b[0m \u001b[0;32min\u001b[0m \u001b[0menumerate\u001b[0m\u001b[0;34m(\u001b[0m\u001b[0mkey\u001b[0m\u001b[0;34m)\u001b[0m\u001b[0;34m:\u001b[0m\u001b[0;34m\u001b[0m\u001b[0;34m\u001b[0m\u001b[0m\n\u001b[1;32m    232\u001b[0m             \u001b[0;32mif\u001b[0m \u001b[0mi\u001b[0m \u001b[0;34m>=\u001b[0m \u001b[0mself\u001b[0m\u001b[0;34m.\u001b[0m\u001b[0mobj\u001b[0m\u001b[0;34m.\u001b[0m\u001b[0mndim\u001b[0m\u001b[0;34m:\u001b[0m\u001b[0;34m\u001b[0m\u001b[0;34m\u001b[0m\u001b[0m\n\u001b[0;32m--> 233\u001b[0;31m                 \u001b[0;32mraise\u001b[0m \u001b[0mIndexingError\u001b[0m\u001b[0;34m(\u001b[0m\u001b[0;34m\"Too many indexers\"\u001b[0m\u001b[0;34m)\u001b[0m\u001b[0;34m\u001b[0m\u001b[0;34m\u001b[0m\u001b[0m\n\u001b[0m\u001b[1;32m    234\u001b[0m             \u001b[0;32mtry\u001b[0m\u001b[0;34m:\u001b[0m\u001b[0;34m\u001b[0m\u001b[0;34m\u001b[0m\u001b[0m\n\u001b[1;32m    235\u001b[0m                 \u001b[0mself\u001b[0m\u001b[0;34m.\u001b[0m\u001b[0m_validate_key\u001b[0m\u001b[0;34m(\u001b[0m\u001b[0mk\u001b[0m\u001b[0;34m,\u001b[0m \u001b[0mi\u001b[0m\u001b[0;34m)\u001b[0m\u001b[0;34m\u001b[0m\u001b[0;34m\u001b[0m\u001b[0m\n",
      "\u001b[0;31mIndexingError\u001b[0m: Too many indexers"
     ]
    },
    {
     "data": {
      "image/png": "[encoded data removed]",
      "text/plain": [
       "<Figure size 432x288 with 20 Axes>"
      ]
     },
     "metadata": {},
     "output_type": "display_data"
    }
   ],
   "source": [
    "# enforce a specific plot style sheet\n",
    "plt.style.use(\"dark_background\")\n",
    "\n",
    "# create a color palette\n",
    "palette = plt.get_cmap(\"Paired\")\n",
    "\n",
    "fig, axs = plt.subplots(nrows=5, ncols=4)\n",
    "\n",
    "# counter will store the feature index to use when highlighting a particular teammate in each subplot\n",
    "counter = 0\n",
    "\n",
    "# begin the nested for loop to access each individual subplot within the 3x3 grid\n",
    "# note: we are subsetting each subplot via axs[row, col]\n",
    "for row in range(axs.shape[0]):\n",
    "    for col in range(axs.shape[1]):\n",
    "        # plot every feature in each subplot as a white line\n",
    "        for metro in zillow_interest:\n",
    "            metro_plot = z_interest_merge[z_interest_merge['Metro'] == metro]\n",
    "            axs[row, col].plot(metro_plot[\"time\"],\n",
    "                           metro_plot[\"log_value\"],\n",
    "                           marker=\"\",\n",
    "                           color=\"white\", \n",
    "                           linewidth=0.6,\n",
    "                           alpha=0.3)\n",
    "        # for each subplot, plot only one non-\"hour\" feature - via counter - in color\n",
    "        # note: this where we'll input counter directly inside of palette()\n",
    "        axs[row, col].plot(metro_plot[\"time\"],\n",
    "                           metro_plot[\"log_value\"].iloc[:, counter],\n",
    "                           marker=\"\",\n",
    "                           color=palette(counter), \n",
    "                           linewidth=2.4,\n",
    "                           alpha=0.9)\n",
    "        # set xlim and ylim for each subplot\n",
    "        #axs[row, col].set_xlim(0,10)\n",
    "        axs[row, col].set_ylim(11,14)\n",
    "        \n",
    "        # remove x-axis tick marks from the first two rows of subplots\n",
    "        if row in [0, 1]:\n",
    "            axs[row, col].tick_params(labelbottom=False)\n",
    "        # remove the y-axis tick marks from the second and third columns of subplots\n",
    "        if col in [1, 2]:\n",
    "            axs[row, col].tick_params(labelleft=False)          \n",
    "\n",
    "        # assign each subplot a title based on the one non-\"hour\" feature that was highlighted in color\n",
    "        axs[row, col].set_title(metro, \n",
    "                                loc=\"left\", \n",
    "                                fontsize=12, \n",
    "                                fontweight=0, \n",
    "                                color=palette(counter))\n",
    "        \n",
    "        # now that we're done with this subplot, add one to counter so the next teammate is highlighted\n",
    "        counter += 1\n",
    "            \n",
    "# assign an overall title\n",
    "fig.suptitle(\"Average number of commits over time by each team member\", \n",
    "             fontsize=13, \n",
    "             fontweight=0,\n",
    "             color=\"white\", \n",
    "             style=\"italic\", \n",
    "             y=1.02)\n",
    " \n",
    "# label axes\n",
    "fig.text(0.5, 0.01, \"Time (in number of hours since start of hackathon)\", ha=\"center\", va=\"center\")\n",
    "fig.text(0.01, 0.5, \"Number of commits\", ha=\"center\", va=\"center\", rotation='vertical')\n",
    "\n",
    "# adjust layout so things aren't so squished\n",
    "fig.tight_layout()\n",
    "\n",
    "# export figure as PNG file\n",
    "fig.savefig(\"visuals/class_small_multiples_example.png\",\n",
    "            dpi=200,\n",
    "            bbox_inches=\"tight\")"
   ]
  },
  {
   "cell_type": "markdown",
   "metadata": {},
   "source": [
    "---"
   ]
  },
  {
   "cell_type": "code",
   "execution_count": null,
   "metadata": {},
   "outputs": [],
   "source": [
    "for metro in zillow_interest:\n",
    "    metro_plot = z_interest_merge[z_interest_merge['Metro'] == metro]\n",
    "    plt.figure(figsize=(15,10))\n",
    "    \n",
    "    plt.plot(metro_plot['time'], \n",
    "             metro_plot['log_value'], \n",
    "             label='actual', \n",
    "             linewidth=3, \n",
    "            )\n",
    "    \n",
    "    plt.plot(metro_plot['time'], \n",
    "             metro_plot['log_yhat'], \n",
    "             label='pred', \n",
    "             linewidth=3)\n",
    "    \n",
    "    #plt.xaxis()\n",
    "    plt.legend(loc='best')\n",
    "    plt.title(f'Monthly Mean Property Sales Price in {metro} Metro Area', fontsize=16)\n",
    "    plt.ylabel(\"Log (2018 Dollars)\")"
   ]
  },
  {
   "cell_type": "code",
   "execution_count": 43,
   "metadata": {},
   "outputs": [
    {
     "data": {
      "image/png": "[encoded data removed]",
      "text/plain": [
       "<Figure size 1440x720 with 17 Axes>"
      ]
     },
     "metadata": {},
     "output_type": "display_data"
    }
   ],
   "source": [
    "# Initialize the figure\n",
    "plt.style.use('seaborn-darkgrid')\n",
    "plt.figure(figsize=(20,10))\n",
    "\n",
    "# create a color palette\n",
    "NUM_COLORS = 22\n",
    "palette = plt.get_cmap('hsv')\n",
    "cNorm  = colors.Normalize(vmin=0, vmax=NUM_COLORS-1)\n",
    "scalarMap = mplcm.ScalarMappable(norm=cNorm, cmap=palette)\n",
    "num=0\n",
    "\n",
    "for metro in zillow_interest:\n",
    "    num+=1\n",
    "    metro_plot = z_interest_merge[z_interest_merge['Metro'] == metro]\n",
    "    \n",
    "    # Find the right spot on the plot\n",
    "    plt.subplot(5,4, num)\n",
    " \n",
    "    # Plot the lineplot\n",
    "    plt.plot(metro_plot['time'], \n",
    "             metro_plot['log_value'], \n",
    "             color=scalarMap.to_rgba(num), \n",
    "             linewidth=1.9, \n",
    "             alpha=0.9, \n",
    "             label=metro)\n",
    " \n",
    "    # Same limits for everybody!\n",
    "    plt.ylim(11,14.5)\n",
    " \n",
    "#   # Not ticks everywhere\n",
    "#     if num in range(7) :\n",
    "#         plt.tick_params(labelbottom='off')\n",
    "#     if num not in [1,4,7] :\n",
    "#         plt.tick_params(labelleft='off')\n",
    " \n",
    "    # Add title\n",
    "    plt.title(metro, loc='left', fontsize=12, fontweight=0, color=scalarMap.to_rgba(num))\n"
   ]
  },
  {
   "cell_type": "code",
   "execution_count": null,
   "metadata": {},
   "outputs": [],
   "source": [
    "for metro in zillow_interest:\n",
    "    metro_plot = z_interest_merge[z_interest_merge['Metro'] == metro]\n",
    "    plt.figure(figsize=(15,10))\n",
    "    \n",
    "    plt.plot(metro_plot['time'], \n",
    "             metro_plot['log_value'], \n",
    "             label=metro, \n",
    "             linewidth=3, \n",
    "            )\n",
    "    plt.legend(loc='best')\n",
    "    plt.title(f'Monthly Mean Property Sales Price in {metro} Metro Area', fontsize=16)\n",
    "    plt.ylabel(\"Log (2018 Dollars)\")"
   ]
  },
  {
   "cell_type": "markdown",
   "metadata": {},
   "source": [
    "---"
   ]
  },
  {
   "cell_type": "code",
   "execution_count": null,
   "metadata": {},
   "outputs": [],
   "source": [
    "np.exp(12.0)"
   ]
  },
  {
   "cell_type": "code",
   "execution_count": null,
   "metadata": {},
   "outputs": [],
   "source": [
    "np.exp(12.6)"
   ]
  },
  {
   "cell_type": "code",
   "execution_count": null,
   "metadata": {},
   "outputs": [],
   "source": [
    "z_in_out_melted = melted_metros_means.query(\"Metro == @zillow_inside_out\")"
   ]
  },
  {
   "cell_type": "code",
   "execution_count": null,
   "metadata": {},
   "outputs": [],
   "source": [
    "z_in_out_melted.shape"
   ]
  },
  {
   "cell_type": "code",
   "execution_count": null,
   "metadata": {},
   "outputs": [],
   "source": [
    "z_in_out_reset_index = z_in_out_melted.reset_index(level='Metro')"
   ]
  },
  {
   "cell_type": "code",
   "execution_count": null,
   "metadata": {},
   "outputs": [],
   "source": [
    "ds, yhat_lower, yhat, yhat_upper, metro_name = [], [], [], [], []\n",
    "\n",
    "for metro in zillow_inside_out:\n",
    "    group = z_in_out_reset_index.loc[z_in_out_reset_index[\"Metro\"] == metro]\n",
    "    \n",
    "    df = group.reset_index().drop('Metro', axis=1).rename(columns={'time': 'ds', 'value': 'y'})\n",
    "    \n",
    "    m = Prophet(interval_width=0.95)\n",
    "    m.fit(df)\n",
    "    future = m.make_future_dataframe(periods=36, freq='M')\n",
    "    forecast = m.predict(future)\n",
    "    ds.extend(forecast['ds'].values)\n",
    "    yhat_lower.extend(forecast['yhat_lower'].values)\n",
    "    yhat.extend(forecast['yhat'].values)\n",
    "    yhat_upper.extend(forecast['yhat_upper'].values)\n",
    "    metro_name.extend(np.repeat(metro, forecast.shape[0]))    \n",
    "\n",
    "data = {'ds': ds, 'yhat_lower': yhat_lower, 'yhat': yhat, 'yhat_upper': yhat_upper, 'Metro': metro_name}\n",
    "df = pd.DataFrame(data)\n"
   ]
  },
  {
   "cell_type": "code",
   "execution_count": null,
   "metadata": {},
   "outputs": [],
   "source": [
    "df[df['ds'] >= '2018-04-01']"
   ]
  },
  {
   "cell_type": "code",
   "execution_count": null,
   "metadata": {},
   "outputs": [],
   "source": [
    "z_in_out_merge = z_in_out_reset_index.reset_index().merge(df, left_on=['time', 'Metro'], right_on=['ds', 'Metro'])\n",
    "z_in_out_merge"
   ]
  },
  {
   "cell_type": "code",
   "execution_count": null,
   "metadata": {},
   "outputs": [],
   "source": [
    "z_in_out_merge[z_in_out_merge['time'] == '2017-01-01']"
   ]
  },
  {
   "cell_type": "code",
   "execution_count": null,
   "metadata": {},
   "outputs": [],
   "source": [
    "z_in_out_merge['log_value'] = np.log(z_in_out_merge['value'])\n",
    "z_in_out_merge['log_yhat'] = np.log(z_in_out_merge['yhat'])\n",
    "z_in_out_merge"
   ]
  },
  {
   "cell_type": "code",
   "execution_count": null,
   "metadata": {},
   "outputs": [],
   "source": [
    "z_in_out_merge.info()"
   ]
  },
  {
   "cell_type": "code",
   "execution_count": null,
   "metadata": {},
   "outputs": [],
   "source": [
    "taco = z_in_out_merge[z_in_out_merge['Metro'] == 'Austin']"
   ]
  },
  {
   "cell_type": "code",
   "execution_count": null,
   "metadata": {},
   "outputs": [],
   "source": [
    "taco.plot(x='time', y='log_value', kind='line')"
   ]
  },
  {
   "cell_type": "code",
   "execution_count": null,
   "metadata": {},
   "outputs": [],
   "source": [
    "plt.figure(figsize=(20,15))\n",
    "plt.plot(taco['time'], taco['log_value'], label='actual')\n",
    "plt.plot(taco['time'], taco['log_yhat'], label='pred')\n",
    "plt.legend(loc='best')\n",
    "plt.title('Austin, Monthly Mean Propery Sales Price ')\n",
    "plt.ylabel(\"Log (2018 Dollars)\")\n",
    "plt.show()"
   ]
  },
  {
   "cell_type": "code",
   "execution_count": null,
   "metadata": {},
   "outputs": [],
   "source": [
    "for metro in zillow_inside_out:\n",
    "    metro_plot = z_in_out_merge[z_in_out_merge['Metro'] == metro]\n",
    "    plt.figure(figsize=(20,15))\n",
    "    \n",
    "    plt.plot(metro_plot['time'], \n",
    "             metro_plot['log_value'], \n",
    "             label='actual', \n",
    "             linewidth=3, \n",
    "            )\n",
    "    \n",
    "    plt.plot(metro_plot['time'], \n",
    "             metro_plot['log_yhat'], \n",
    "             label='pred', \n",
    "             linewidth=3)\n",
    "    \n",
    "    #plt.xaxis()\n",
    "    plt.legend(loc='best')\n",
    "    plt.title(f'Monthly Mean Property Sales Price in {metro} Metro Area', fontsize=16)\n",
    "    plt.ylabel(\"Log (2018 Dollars)\")"
   ]
  },
  {
   "cell_type": "code",
   "execution_count": null,
   "metadata": {},
   "outputs": [],
   "source": []
  },
  {
   "cell_type": "code",
   "execution_count": null,
   "metadata": {},
   "outputs": [],
   "source": [
    "for metro in zillow_inside_out:\n",
    "    df[df['Metro'] == metro].plot(x='ds', y='yhat', label=metro, subplots=True)"
   ]
  },
  {
   "cell_type": "code",
   "execution_count": null,
   "metadata": {},
   "outputs": [],
   "source": [
    "for metro in zillow_inside_out:\n",
    "    group = z_in_out_reset_index.loc[z_in_out_reset_index[\"Metro\"] == metro]\n",
    "    \n",
    "    df2 = group.reset_index().drop('Metro', axis=1).rename(columns={'time': 'ds', 'value': 'y'})\n",
    "    df2.head()\n",
    "#df[df['Metro'] == 'Austin']\n",
    "df2"
   ]
  },
  {
   "cell_type": "code",
   "execution_count": null,
   "metadata": {},
   "outputs": [],
   "source": [
    "test2 = z_in_out_reset_index.loc[z_in_out_reset_index[\"Metro\"] == 'Austin']\n",
    "test2.reset_index().drop('Metro', axis=1).rename(columns={'time': 'ds', 'value': 'y'})"
   ]
  },
  {
   "cell_type": "code",
   "execution_count": null,
   "metadata": {},
   "outputs": [],
   "source": [
    "for g in z_in_out_melted.groups:\n",
    "    group = z_in_out_melted.get_group(g)\n",
    "    m = Prophet(interval_width=0.95)\n",
    "    m.fit(group)\n",
    "    future = m.make_future_dataframe(periods=365)\n",
    "    forecast = m.predict(future)\n",
    "    print(forecast.tail())"
   ]
  },
  {
   "cell_type": "code",
   "execution_count": null,
   "metadata": {},
   "outputs": [],
   "source": [
    "fig, ax = plt.subplots()\n",
    "\n",
    "for key, grp in z_in_out_melted.groupby('Metro'):\n",
    "    print(key)\n",
    "    grp.plot(ax=ax, kind='line', figsize=(20,15), label=key)#, x='time', y='value', c=key, label=key)\n",
    "\n",
    "plt.legend(loc='best')\n",
    "plt.show();"
   ]
  },
  {
   "cell_type": "code",
   "execution_count": null,
   "metadata": {},
   "outputs": [],
   "source": [
    "for g in z_in_out_melted.groups:\n",
    "    group = z_in_out_melted.get_group(g)\n",
    "    m = Prophet(interval_width=0.95)\n",
    "    m.fit(group)\n",
    "    future = m.make_future_dataframe(periods=365)\n",
    "    forecast = m.predict(future)\n",
    "    print(forecast.tail())"
   ]
  },
  {
   "cell_type": "code",
   "execution_count": null,
   "metadata": {},
   "outputs": [],
   "source": [
    "z_out_in_melted = melted_metros_means.query(\"Metro == @zillow_outside_in\")"
   ]
  },
  {
   "cell_type": "code",
   "execution_count": null,
   "metadata": {},
   "outputs": [],
   "source": [
    "fig2, ax2 = plt.subplots()\n",
    "\n",
    "for key2, grp2 in z_out_in_melted.groupby('Metro'):\n",
    "    print(key2)\n",
    "    grp2.plot(ax=ax2, kind='line', figsize=(20,15), label=key2)#, x='time', y='value', c=key, label=key)\n",
    "\n",
    "plt.legend(loc='best')\n",
    "plt.show();"
   ]
  },
  {
   "cell_type": "code",
   "execution_count": null,
   "metadata": {},
   "outputs": [],
   "source": [
    "z_hottest_melted = melted_metros_means.query(\"Metro == @zillow_hottest_2018\")"
   ]
  },
  {
   "cell_type": "code",
   "execution_count": null,
   "metadata": {},
   "outputs": [],
   "source": [
    "fig3, ax3 = plt.subplots()\n",
    "\n",
    "for key3, grp3 in z_hottest_melted.groupby('Metro'):\n",
    "    print(key3)\n",
    "    grp3.plot(ax=ax3, kind='line', figsize=(20,15), label=key3)#, x='time', y='value', c=key, label=key)\n",
    "\n",
    "plt.legend(loc='best')\n",
    "plt.show();"
   ]
  },
  {
   "cell_type": "code",
   "execution_count": null,
   "metadata": {},
   "outputs": [],
   "source": [
    "melted = melted.dropna(subset=['value'])"
   ]
  },
  {
   "cell_type": "code",
   "execution_count": null,
   "metadata": {},
   "outputs": [],
   "source": [
    "melted['State'].value_counts()"
   ]
  },
  {
   "cell_type": "code",
   "execution_count": null,
   "metadata": {},
   "outputs": [],
   "source": [
    "group_by_state_time = melted.groupby(['State','time']).aggregate({'value':'mean'})"
   ]
  },
  {
   "cell_type": "code",
   "execution_count": null,
   "metadata": {},
   "outputs": [],
   "source": [
    "melted.groupby(['RegionName','time']).aggregate({'value':'mean'})"
   ]
  },
  {
   "cell_type": "code",
   "execution_count": null,
   "metadata": {},
   "outputs": [],
   "source": [
    "group_by_state_time[['State']]"
   ]
  },
  {
   "cell_type": "code",
   "execution_count": null,
   "metadata": {},
   "outputs": [],
   "source": [
    "plt.plot(melted.groupby('time').aggregate({'value':'mean'}))"
   ]
  },
  {
   "cell_type": "code",
   "execution_count": null,
   "metadata": {},
   "outputs": [],
   "source": [
    "df['RegionName'].nunique()"
   ]
  },
  {
   "cell_type": "code",
   "execution_count": null,
   "metadata": {},
   "outputs": [],
   "source": [
    "df[:20].T"
   ]
  },
  {
   "cell_type": "code",
   "execution_count": null,
   "metadata": {},
   "outputs": [],
   "source": [
    "df_transpose_header = df.T[:7]\n",
    "df_transpose_header"
   ]
  },
  {
   "cell_type": "code",
   "execution_count": null,
   "metadata": {},
   "outputs": [],
   "source": [
    "df_transpose_prices = df.T[7:]\n",
    "df_transpose_prices.head()"
   ]
  },
  {
   "cell_type": "code",
   "execution_count": null,
   "metadata": {},
   "outputs": [],
   "source": [
    "for train_index, test_index in tscv.split(X):\n",
    "     print(\"TRAIN:\", train_index, \"TEST:\", test_index)\n",
    "\n",
    "     #To get the indices \n",
    "     X_train, X_test = X[train_index], X[test_index]\n",
    "     y_train, y_test = y[train_index], y[test_index]\n",
    "\n",
    "tscv = TimeSeriesSplit(df_transpose_prices)"
   ]
  },
  {
   "cell_type": "markdown",
   "metadata": {},
   "source": [
    "---"
   ]
  },
  {
   "cell_type": "code",
   "execution_count": null,
   "metadata": {},
   "outputs": [],
   "source": [
    "df['CountyName'].value_counts()"
   ]
  },
  {
   "cell_type": "code",
   "execution_count": null,
   "metadata": {},
   "outputs": [],
   "source": [
    "state_df = df.groupby(['State', 'CountyName'])"
   ]
  },
  {
   "cell_type": "code",
   "execution_count": null,
   "metadata": {},
   "outputs": [],
   "source": [
    "only_oc_ca = state_df.get_group(('CA', 'Orange'))"
   ]
  },
  {
   "cell_type": "code",
   "execution_count": null,
   "metadata": {},
   "outputs": [],
   "source": [
    "only_oc_ca_transpose = only_oc_ca.T[7:]"
   ]
  },
  {
   "cell_type": "code",
   "execution_count": null,
   "metadata": {},
   "outputs": [],
   "source": [
    "only_oc_ca_transpose"
   ]
  },
  {
   "cell_type": "code",
   "execution_count": null,
   "metadata": {},
   "outputs": [],
   "source": [
    "only_oc_ca_transpose['1996-04':'1997-01']"
   ]
  },
  {
   "cell_type": "code",
   "execution_count": null,
   "metadata": {},
   "outputs": [],
   "source": [
    "fig = plt.figure(figsize=(15,10))\n",
    "plt.plot(only_oc_ca_transpose);"
   ]
  },
  {
   "cell_type": "code",
   "execution_count": null,
   "metadata": {},
   "outputs": [],
   "source": [
    "only_oc_ca_transpose.tail()"
   ]
  },
  {
   "cell_type": "code",
   "execution_count": null,
   "metadata": {},
   "outputs": [],
   "source": [
    "model = ARIMA(np.asarray(only_oc_ca_transpose[96]), order=(0,1,1))\n",
    "model_fit = model.fit(disp=0)\n",
    "print(model_fit.summary())"
   ]
  },
  {
   "cell_type": "code",
   "execution_count": null,
   "metadata": {},
   "outputs": [],
   "source": [
    "residuals = pd.DataFrame(model_fit.resid)\n",
    "residuals.plot()\n",
    "plt.show()\n",
    "residuals.plot(kind='kde')\n",
    "plt.show()\n",
    "print(residuals.describe())"
   ]
  },
  {
   "cell_type": "code",
   "execution_count": null,
   "metadata": {},
   "outputs": [],
   "source": [
    "model2 = ARIMA(np.asarray(only_oc_ca_transpose[96]), order=(1,1,2))\n",
    "model2_fit = model2.fit(disp=0)\n",
    "print(model2_fit.summary())"
   ]
  },
  {
   "cell_type": "code",
   "execution_count": null,
   "metadata": {},
   "outputs": [],
   "source": [
    "residuals2 = pd.DataFrame(model2_fit.resid)\n",
    "residuals2.plot()\n",
    "plt.show()\n",
    "residuals2.plot(kind='kde')\n",
    "plt.show()\n",
    "print(residuals2.describe())"
   ]
  },
  {
   "cell_type": "code",
   "execution_count": null,
   "metadata": {},
   "outputs": [],
   "source": [
    "model3 = ARIMA(np.asarray(only_oc_ca_transpose[96][:9]), order=(0,1,1))\n",
    "model3_fit = model3.fit(disp=0)\n",
    "print(model3_fit.summary())"
   ]
  },
  {
   "cell_type": "code",
   "execution_count": null,
   "metadata": {},
   "outputs": [],
   "source": [
    "model3_fit.predict() + only_oc_ca_transpose[96][0]"
   ]
  },
  {
   "cell_type": "code",
   "execution_count": null,
   "metadata": {},
   "outputs": [],
   "source": [
    "plt.plot(only_oc_ca_transpose[96][:9]);\n",
    "plt.plot(model3_fit.predict()+ only_oc_ca_transpose[96][0]);"
   ]
  },
  {
   "cell_type": "markdown",
   "metadata": {},
   "source": [
    "---"
   ]
  },
  {
   "cell_type": "code",
   "execution_count": null,
   "metadata": {},
   "outputs": [],
   "source": [
    "df.describe()"
   ]
  },
  {
   "cell_type": "code",
   "execution_count": null,
   "metadata": {},
   "outputs": [],
   "source": [
    "df.info()"
   ]
  },
  {
   "cell_type": "code",
   "execution_count": null,
   "metadata": {},
   "outputs": [],
   "source": [
    "df[df['CountyName'] == 'Wabaunsee'].describe()"
   ]
  },
  {
   "cell_type": "code",
   "execution_count": null,
   "metadata": {},
   "outputs": [],
   "source": [
    "df_transpose = df.T"
   ]
  },
  {
   "cell_type": "code",
   "execution_count": null,
   "metadata": {},
   "outputs": [],
   "source": [
    "prices_only = df_transpose[7:]"
   ]
  },
  {
   "cell_type": "code",
   "execution_count": null,
   "metadata": {},
   "outputs": [],
   "source": [
    "test = prices_only[1]\n",
    "test.size"
   ]
  },
  {
   "cell_type": "code",
   "execution_count": null,
   "metadata": {},
   "outputs": [],
   "source": [
    "pd.to_datetime(df_transpose[7:].index)"
   ]
  },
  {
   "cell_type": "code",
   "execution_count": null,
   "metadata": {},
   "outputs": [],
   "source": [
    "df_datetime = pd.concat([pd.to_datetime(df_transpose[7:].index), df_transpose[7:]])"
   ]
  },
  {
   "cell_type": "code",
   "execution_count": null,
   "metadata": {},
   "outputs": [],
   "source": [
    "df_datetime"
   ]
  },
  {
   "cell_type": "code",
   "execution_count": null,
   "metadata": {},
   "outputs": [],
   "source": [
    "fig = plt.figure(figsize=(15,10))\n",
    "plt.plot(test);"
   ]
  },
  {
   "cell_type": "code",
   "execution_count": null,
   "metadata": {},
   "outputs": [],
   "source": []
  }
 ],
 "metadata": {
  "kernelspec": {
   "display_name": "Python 3 (mod04-project)",
   "language": "python",
   "name": "mod04-project"
  },
  "language_info": {
   "codemirror_mode": {
    "name": "ipython",
    "version": 3
   },
   "file_extension": ".py",
   "mimetype": "text/x-python",
   "name": "python",
   "nbconvert_exporter": "python",
   "pygments_lexer": "ipython3",
   "version": "3.7.4"
  }
 },
 "nbformat": 4,
 "nbformat_minor": 2
}
